{
 "cells": [
  {
   "cell_type": "markdown",
   "id": "c0b2f1fc-1d4d-4221-807e-581cae8b20b5",
   "metadata": {},
   "source": [
    "# Modules à importer"
   ]
  },
  {
   "cell_type": "code",
   "execution_count": 1,
   "id": "d8c68287-e56d-45fd-89c2-ee6450cf12eb",
   "metadata": {},
   "outputs": [],
   "source": [
    "import re\n",
    "import glob\n",
    "import math\n",
    "import scipy\n",
    "import pickle\n",
    "import sncosmo\n",
    "import numpy as np\n",
    "import pandas as pd\n",
    "import iminuit as im\n",
    "import ipywidgets as ipw\n",
    "from astropy.io import fits\n",
    "from scipy.stats import poisson\n",
    "from snprop import survey, tools\n",
    "from matplotlib.lines import Line2D\n",
    "from scipy.interpolate import interp1d\n",
    "from matplotlib.patches import Ellipse\n",
    "from IPython.display import display, Latex\n",
    "import matplotlib.gridspec as gridspec\n",
    "import matplotlib.ticker as ticker\n",
    "import matplotlib.pyplot as plt\n",
    "plt.rcParams.update({\n",
    "    \"text.usetex\": True,\n",
    "    \"font.family\": \"EB Garamond\",\n",
    "    \"axes.labelsize\": 'x-large',\n",
    "    \"xtick.labelsize\": 'x-large',\n",
    "    \"ytick.labelsize\": 'x-large'})\n",
    "plt.rcParams['figure.facecolor'] = 'w'\n",
    "import random"
   ]
  },
  {
   "cell_type": "markdown",
   "id": "1359ea06-9eb0-4d8f-86ee-dfd96cf9d850",
   "metadata": {},
   "source": [
    "# Def of values"
   ]
  },
  {
   "cell_type": "code",
   "execution_count": 3,
   "id": "d2d10af7-2c26-46aa-9986-70cc044dd752",
   "metadata": {},
   "outputs": [],
   "source": [
    "U0 = 5  # V\n",
    "f = 5   # Hz\n",
    "Q = 0.6 #\n",
    "w0 = 2*np.pi*f\n",
    "w = w0*np.sqrt(1 - 1/(4*Q**2))\n",
    "\n",
    "def uc(t, U0=5, f=5, Q=0.6):\n",
    "    w0 = 2*np.pi*f\n",
    "    w = w0*np.sqrt(1 - 1/(4*Q**2))\n",
    "    return U0*np.exp()"
   ]
  },
  {
   "cell_type": "markdown",
   "id": "e6e575c4-d3f3-41fe-8df6-1482c184222a",
   "metadata": {},
   "source": [
    "# Function"
   ]
  }
 ],
 "metadata": {
  "kernelspec": {
   "display_name": "Python 3",
   "language": "python",
   "name": "python3"
  },
  "language_info": {
   "codemirror_mode": {
    "name": "ipython",
    "version": 3
   },
   "file_extension": ".py",
   "mimetype": "text/x-python",
   "name": "python",
   "nbconvert_exporter": "python",
   "pygments_lexer": "ipython3",
   "version": "3.7.12"
  }
 },
 "nbformat": 4,
 "nbformat_minor": 5
}
