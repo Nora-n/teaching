{
 "cells": [
  {
   "cell_type": "markdown",
   "id": "c0b2f1fc-1d4d-4221-807e-581cae8b20b5",
   "metadata": {},
   "source": [
    "# Modules à importer"
   ]
  },
  {
   "cell_type": "code",
   "execution_count": 2,
   "id": "d8c68287-e56d-45fd-89c2-ee6450cf12eb",
   "metadata": {},
   "outputs": [],
   "source": [
    "import re\n",
    "import glob\n",
    "import math\n",
    "import scipy\n",
    "import pickle\n",
    "import sncosmo\n",
    "import numpy as np\n",
    "import pandas as pd\n",
    "import iminuit as im\n",
    "import ipywidgets as ipw\n",
    "from astropy.io import fits\n",
    "from scipy.stats import poisson\n",
    "from snprop import survey, tools\n",
    "from matplotlib.lines import Line2D\n",
    "from scipy.interpolate import interp1d\n",
    "from matplotlib.patches import Ellipse\n",
    "from IPython.display import display, Latex\n",
    "import matplotlib.gridspec as gridspec\n",
    "import matplotlib.ticker as ticker\n",
    "import matplotlib.pyplot as plt\n",
    "plt.rcParams.update({\n",
    "    \"text.usetex\": True,\n",
    "    \"font.family\": \"EB Garamond\",\n",
    "    \"axes.labelsize\": 'x-large',\n",
    "    \"xtick.labelsize\": 'x-large',\n",
    "    \"ytick.labelsize\": 'x-large'})\n",
    "plt.rcParams['figure.facecolor'] = 'w'\n",
    "import random"
   ]
  },
  {
   "cell_type": "markdown",
   "id": "1359ea06-9eb0-4d8f-86ee-dfd96cf9d850",
   "metadata": {},
   "source": [
    "# Def of values"
   ]
  },
  {
   "cell_type": "code",
   "execution_count": 128,
   "id": "d2d10af7-2c26-46aa-9986-70cc044dd752",
   "metadata": {},
   "outputs": [],
   "source": [
    "E = 5  # V\n",
    "R = 780 # Ohm\n",
    "L = 43e-3 # H\n",
    "C = 20e-9 # F\n",
    "w0 = np.sqrt(1/(L*C))\n",
    "Q = R**(-1)*np.sqrt(L/C)\n",
    "# f = 5   # Hz\n",
    "# Q = 0.6 #\n",
    "# w0 = 2*np.pi*f\n",
    "w = w0*np.sqrt(1 - 1/(4*Q**2))\n",
    "\n",
    "def amorti(t, E=5, R=780, L=43e-3, C=20e-9):\n",
    "    w0 = np.sqrt(1/(L*C))\n",
    "    Q = (1/R)*np.sqrt(L/C)\n",
    "    if Q>0.5:\n",
    "        w = w0*np.sqrt(1 - 1/(4*Q**2))\n",
    "        return (E*np.exp(-w0*t/(2*Q))*(np.cos(w*t) + w0/(2*Q*w)*np.sin(w*t)),\n",
    "                C*E*np.exp(-w0*t/(2*Q))*(-w*np.sin(w*t)*(1 + 1/(4*Q**2-1))),\n",
    "                Q, w0, w)\n",
    "    elif R == 2932:\n",
    "        w = np.nan\n",
    "        return (E*(w0*t+1)*np.exp(-w0*t),\n",
    "                -C*E*w0**2*t*np.exp(-w0*t),\n",
    "                Q, w0, w)\n",
    "    elif Q<0.5:\n",
    "        w = np.nan\n",
    "        rp = -w0/(2*Q)*(1-np.sqrt(1-4*Q**2))\n",
    "        rm = -w0/(2*Q)*(1+np.sqrt(1-4*Q**2))\n",
    "        return (E/(rp-rm)*(rp*np.exp(rm*t) - rm*np.exp(rp*t)),\n",
    "               (C*E*rm*rp)/(rp-rm)*(np.exp(rm*t)-np.exp(rp*t)),\n",
    "               Q, rp, rm)"
   ]
  },
  {
   "cell_type": "markdown",
   "id": "e6e575c4-d3f3-41fe-8df6-1482c184222a",
   "metadata": {},
   "source": [
    "# Function"
   ]
  },
  {
   "cell_type": "markdown",
   "id": "1fcee490-74f5-4d03-a1eb-4f6dd82640c5",
   "metadata": {},
   "source": [
    "# Plot"
   ]
  },
  {
   "cell_type": "code",
   "execution_count": 129,
   "id": "e1ce7c94-4078-4ad3-a87a-d3bb3dd113df",
   "metadata": {},
   "outputs": [
    {
     "name": "stdout",
     "output_type": "stream",
     "text": [
      "0.19550504398153576 -6943.047184082252 -167475.55746708054\n"
     ]
    },
    {
     "data": {
      "text/plain": [
       "(-5.0, 5.0)"
      ]
     },
     "execution_count": 129,
     "metadata": {},
     "output_type": "execute_result"
    },
    {
     "data": {
      "image/png": "[encoded data removed]",
      "text/plain": [
       "<Figure size 504x216 with 1 Axes>"
      ]
     },
     "metadata": {},
     "output_type": "display_data"
    }
   ],
   "source": [
    "fig = plt.figure(figsize=[7,3])\n",
    "ax = fig.add_axes([0.1, 0.12, 0.8, 0.8])\n",
    "\n",
    "R = 7500\n",
    "L = 43e-3\n",
    "C = 20e-9\n",
    "tlin = np.linspace(0, 2e-3, 1000)\n",
    "\n",
    "uc, i, Q, w0, w = amorti(tlin, R=R, L=L, C=C)\n",
    "ax.plot(uc, i)\n",
    "print(Q, w0, w)\n",
    "\n",
    "# Move left y-axis and bottim x-axis to centre, passing through (0,0)\n",
    "ax.spines['left'].set_position('zero')\n",
    "ax.spines['bottom'].set_position('zero')\n",
    "\n",
    "# Eliminate upper and right axes\n",
    "ax.spines['right'].set_color('none')\n",
    "ax.spines['top'].set_color('none')\n",
    "\n",
    "ax.set_ylim(-4e-3, 4e-3)\n",
    "ax.set_xlim(-5, 5)\n",
    "\n",
    "#ax.set_xticks([])\n",
    "#ax.set_yticks([])"
   ]
  },
  {
   "cell_type": "code",
   "execution_count": 126,
   "id": "ea4aa555-3385-46d0-bf8f-7993f285948a",
   "metadata": {},
   "outputs": [
    {
     "name": "stdout",
     "output_type": "stream",
     "text": [
      "0.19550504398153576 34099.716973523675 nan\n"
     ]
    },
    {
     "data": {
      "image/png": "[encoded data removed]",
      "text/plain": [
       "<Figure size 504x216 with 1 Axes>"
      ]
     },
     "metadata": {},
     "output_type": "display_data"
    }
   ],
   "source": [
    "fig = plt.figure(figsize=[7,3])\n",
    "ax = fig.add_axes([0.1, 0.12, 0.8, 0.8])\n",
    "\n",
    "R = 7500\n",
    "L = 43e-3\n",
    "C = 20e-9\n",
    "tlin = np.linspace(0, 2e-3, 1000)\n",
    "\n",
    "uc, i, Q, w0, w = amorti(tlin, R=R, L=L, C=C)\n",
    "ax.plot(tlin, i)\n",
    "print(Q, w0, w)\n",
    "\n",
    "# Move left y-axis and bottim x-axis to centre, passing through (0,0)\n",
    "ax.spines['left'].set_position('center')\n",
    "ax.spines['bottom'].set_position('zero')\n",
    "\n",
    "# Eliminate upper and right axes\n",
    "ax.spines['right'].set_color('none')\n",
    "ax.spines['top'].set_color('none')\n",
    "\n",
    "#ax.set_ylim(-1.5e-3, 1.5e-3)\n",
    "#ax.set_xlim(-5, 5)\n",
    "\n",
    "#ax.set_xticks([])\n",
    "#ax.set_yticks([])\n"
   ]
  },
  {
   "cell_type": "code",
   "execution_count": 115,
   "id": "14738071-8c34-48d5-b317-14f804d9c427",
   "metadata": {},
   "outputs": [
    {
     "data": {
      "text/plain": [
       "170503.58486761837"
      ]
     },
     "execution_count": 115,
     "metadata": {},
     "output_type": "execute_result"
    }
   ],
   "source": [
    "E*(w0+1)*np.exp(-w0*0)"
   ]
  },
  {
   "cell_type": "code",
   "execution_count": 81,
   "id": "eec173b8-6723-42a4-96bc-3fca190950c3",
   "metadata": {},
   "outputs": [
    {
     "data": {
      "text/plain": [
       "False"
      ]
     },
     "execution_count": 81,
     "metadata": {},
     "output_type": "execute_result"
    }
   ],
   "source": [
    "Q==0.5"
   ]
  }
 ],
 "metadata": {
  "kernelspec": {
   "display_name": "Python 3",
   "language": "python",
   "name": "python3"
  },
  "language_info": {
   "codemirror_mode": {
    "name": "ipython",
    "version": 3
   },
   "file_extension": ".py",
   "mimetype": "text/x-python",
   "name": "python",
   "nbconvert_exporter": "python",
   "pygments_lexer": "ipython3",
   "version": "3.7.12"
  }
 },
 "nbformat": 4,
 "nbformat_minor": 5
}
