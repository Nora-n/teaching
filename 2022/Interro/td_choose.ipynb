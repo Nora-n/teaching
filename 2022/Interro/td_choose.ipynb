{
 "cells": [
  {
   "cell_type": "code",
   "execution_count": 137,
   "id": "26d1f087-7c08-4bf6-969b-2c078afc9893",
   "metadata": {},
   "outputs": [],
   "source": [
    "import pandas as pd"
   ]
  },
  {
   "cell_type": "markdown",
   "id": "7324ed16-f251-4f83-b312-ea04eaac73c0",
   "metadata": {},
   "source": [
    "studs = pd.DataFrame([0 for i in range(len(students))], index=students, columns=['Picked'])"
   ]
  },
  {
   "cell_type": "code",
   "execution_count": 141,
   "id": "c9927ea2-47f5-45b9-bf54-4ddd44ab8b7f",
   "metadata": {},
   "outputs": [],
   "source": [
    "studs = pd.read_csv('studs.csv', index_col=0)"
   ]
  },
  {
   "cell_type": "code",
   "execution_count": 142,
   "id": "44af448f-d03c-44c5-93e7-045af274db9f",
   "metadata": {},
   "outputs": [],
   "source": [
    "def choose(size):\n",
    "    tosamp = studs.loc[studs['Picked'] == min(studs['Picked'])]\n",
    "    sampsize = tosamp.size\n",
    "    if sampsize < size:\n",
    "        tosampdos = studs.loc[studs['Picked'] == min(studs['Picked'])+1]\n",
    "        sampedone = tosamp.sample(sampsize)\n",
    "        sampeddos = tosampdos.sample(size-sampsize)\n",
    "        samped = pd.concat([sampedone, sampeddos])\n",
    "    else:\n",
    "        samped = tosamp.sample(size)\n",
    "    studs.loc[samped.index] += 1\n",
    "    print(studs.loc[samped.index])\n",
    "    studs.to_csv('studs.csv')"
   ]
  },
  {
   "cell_type": "code",
   "execution_count": 162,
   "id": "5f025c1f-a67b-4205-9a72-a6a8c729e0dd",
   "metadata": {},
   "outputs": [
    {
     "name": "stdout",
     "output_type": "stream",
     "text": [
      "               Picked\n",
      "CHANDELLIER         1\n",
      "VARIN               1\n",
      "TRAVERS             1\n",
      "LEDENKO             1\n",
      "OUECHTATI           1\n",
      "MAURICE             1\n",
      "RESCOUSSIER         1\n",
      "WATROBA             1\n",
      "DE-MIRANDA          1\n",
      "LAPARRA             1\n",
      "MOHAMED-ELHAD       1\n",
      "SIOT                1\n"
     ]
    }
   ],
   "source": [
    "choose(12)"
   ]
  }
 ],
 "metadata": {
  "kernelspec": {
   "display_name": "Python 3",
   "language": "python",
   "name": "python3"
  },
  "language_info": {
   "codemirror_mode": {
    "name": "ipython",
    "version": 3
   },
   "file_extension": ".py",
   "mimetype": "text/x-python",
   "name": "python",
   "nbconvert_exporter": "python",
   "pygments_lexer": "ipython3",
   "version": "3.7.12"
  }
 },
 "nbformat": 4,
 "nbformat_minor": 5
}
