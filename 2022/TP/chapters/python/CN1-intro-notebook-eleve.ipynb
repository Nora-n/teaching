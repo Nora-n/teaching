{
 "cells": [
  {
   "cell_type": "markdown",
   "id": "4109daaa-5985-4933-9eaa-0951a0eece4c",
   "metadata": {},
   "source": [
    "<div class=\"titre-notebook\" style=\"font-size:36px; text-align:center; font-weight:bold; background-color:#f1f1f1; padding:0.01em 16px; margin: 16px auto;\">\n",
    "CN1 - Introduction aux notebooks python\n",
    "</div>\n",
    "\n",
    "\n",
    "# Prise en main de l'interface *notebook*\n",
    "\n",
    "## Cellules\n",
    "\n",
    "Un *notebook* est constitué de cellules de 2 types:\n",
    "\n",
    "* **Cellule de code:** contenant du code python qui peut être interpréter."
   ]
  },
  {
   "cell_type": "code",
   "execution_count": 1,
   "id": "a8155245-fd86-4104-8f32-77b9db312b39",
   "metadata": {},
   "outputs": [
    {
     "name": "stdout",
     "output_type": "stream",
     "text": [
      "61.0\n"
     ]
    }
   ],
   "source": [
    "x = 5.6e1 # rappel: e1 = 10**1 pour des flottants\n",
    "for k in range(5) :\n",
    "    x = x + 1\n",
    "print(x)"
   ]
  },
  {
   "cell_type": "markdown",
   "id": "8f19a1f5-d0d0-4be9-8fc3-b2ae27356602",
   "metadata": {},
   "source": [
    "* **Cellule de texte:** contenant du texte formaté selon la syntaxe *Markdown* permettant des mise en forme évoluées.\n",
    "    - texte *italique*, **gras** et `code`\n",
    "    - des expressions mathématiques (entre symboles `$` et selon le langage *LaTeX*): équation ci-dessous ou encore expression $\\sin^2(\\theta)$.\n",
    "        $$y = \\frac{\\alpha + x}{\\sqrt{x + \\ln(x)}}$$ \n",
    "    - des liens internet: [cahier de prépa MPSI 1](https://cahier-de-prepa.fr/mpsi1-pothier/)\n",
    "    - des tableaux:\n",
    "\n",
    "| Colonne 1 | Colonne 2 |\n",
    "| :-------: | :-------: |\n",
    "| 12        | 5         |\n",
    "| 24        | 10        |\n",
    "     \n",
    "\n",
    "Pour les curieux, 2 liens en anglais.\n",
    "* [Guide syntaxe complète *markdown*](https://www.markdownguide.org/cheat-sheet/)\n",
    "* [Guide syntaxe *LaTeX* pour les équations mathématiques](https://personal.math.ubc.ca/~pwalls/math-python/jupyter/latex/)"
   ]
  },
  {
   "cell_type": "markdown",
   "id": "71a3d3f9-ef18-4424-a53a-d37c61278d7f",
   "metadata": {},
   "source": [
    "## Erreurs courantes\n",
    "\n",
    "<div class=\"myalertblock\" style=\"background-color:#ffdddd; padding:0.01em 16px; margin: 16px auto; border-radius: 4px; box-shadow:0 2px 5px 0 rgba(0, 0, 0, 0.16), 0 2px 10px 0 rgba(0, 0, 0, 0.12)\">\n",
    "\n",
    "**Comme en TP d'informatique, les messages d'erreurs doivent être lus avec attention et le code corrigé en conséquence.**\n",
    "</div>\n"
   ]
  },
  {
   "cell_type": "code",
   "execution_count": 2,
   "id": "1972b744-ac07-45f5-a638-ed32f1c41794",
   "metadata": {},
   "outputs": [
    {
     "ename": "NameError",
     "evalue": "name 'a' is not defined",
     "output_type": "error",
     "traceback": [
      "\u001b[0;31m---------------------------------------------------------------------------\u001b[0m",
      "\u001b[0;31mNameError\u001b[0m                                 Traceback (most recent call last)",
      "Cell \u001b[0;32mIn[2], line 1\u001b[0m\n\u001b[0;32m----> 1\u001b[0m z \u001b[38;5;241m=\u001b[39m x \u001b[38;5;241m+\u001b[39m \u001b[43ma\u001b[49m\n",
      "\u001b[0;31mNameError\u001b[0m: name 'a' is not defined"
     ]
    }
   ],
   "source": [
    "z = x + a"
   ]
  },
  {
   "cell_type": "markdown",
   "id": "dbe79717-229e-4c6a-bdad-6fd781c5b3b5",
   "metadata": {},
   "source": [
    "L'ordre d'interprétation des cellules de code est très important! C'est pourquoi il est indiqué à coté entre `[]` à coté de chacune des cellules."
   ]
  },
  {
   "cell_type": "code",
   "execution_count": 3,
   "id": "a1f4e119-e3e5-4ba8-be59-1c291f82f2d8",
   "metadata": {},
   "outputs": [],
   "source": [
    "def f(x) :\n",
    "    return x**3"
   ]
  },
  {
   "cell_type": "code",
   "execution_count": 4,
   "id": "00fea546-cefb-4350-80a3-f6a3cec172cd",
   "metadata": {},
   "outputs": [
    {
     "name": "stdout",
     "output_type": "stream",
     "text": [
      "27\n"
     ]
    }
   ],
   "source": [
    "print(f(3)) # Si ce bloc est exécuté avant le précedent, la fonction f est inconnue !"
   ]
  },
  {
   "cell_type": "markdown",
   "id": "6ce0816a-ded9-41ac-86cc-7ff798153183",
   "metadata": {},
   "source": [
    "# Outils pour la physique-chimie\n",
    "\n",
    "## Module `maths`\n",
    "\n",
    "En python, un module est un ensemble de fichiers python définissant des fonctions, des variables, et autres objets. On importe une bibliothèque avec l'instruction `import`.\n",
    "\n",
    "Le module `math` contient toutes les fonctions mathématiques de base (racine, exponentielle, logarithmes, trigonométriques, ...) aini que des constantes comme une valeur *approchée* de $\\pi$."
   ]
  },
  {
   "cell_type": "code",
   "execution_count": 5,
   "id": "27914889-9f25-4220-902c-31bda0487cf1",
   "metadata": {},
   "outputs": [
    {
     "name": "stdout",
     "output_type": "stream",
     "text": [
      "3.141592653589793\n",
      "1.0\n",
      "-2.4492935982947064e-16\n"
     ]
    }
   ],
   "source": [
    "import math\n",
    "print(math.pi)\n",
    "print(math.cos(2*math.pi))\n",
    "print(math.sin(2*math.pi))"
   ]
  },
  {
   "cell_type": "markdown",
   "id": "7d817f3f-65bd-456d-8e79-f3c45477e3a2",
   "metadata": {},
   "source": [
    "On peut obtenir des informations sur une fonction particulière à l’aide de la fonction `help(fonction)`."
   ]
  },
  {
   "cell_type": "code",
   "execution_count": 6,
   "id": "03dcbb03-e025-452f-9b19-b63daeba8e83",
   "metadata": {},
   "outputs": [
    {
     "name": "stdout",
     "output_type": "stream",
     "text": [
      "Help on built-in function sqrt in module math:\n",
      "\n",
      "sqrt(x, /)\n",
      "    Return the square root of x.\n",
      "\n",
      "None\n"
     ]
    }
   ],
   "source": [
    "print(help(math.sqrt))"
   ]
  },
  {
   "cell_type": "markdown",
   "id": "69d16482-bbdb-4285-b4bb-22c4b1b3eee8",
   "metadata": {},
   "source": [
    "Si on ne veut importer qu'une fonction, on peut utilise l'instruction `from`."
   ]
  },
  {
   "cell_type": "code",
   "execution_count": 7,
   "id": "147242db-c6aa-4114-91a7-17f0e1cb776f",
   "metadata": {},
   "outputs": [
    {
     "name": "stdout",
     "output_type": "stream",
     "text": [
      "2.0\n"
     ]
    }
   ],
   "source": [
    "from math import sqrt\n",
    "print(sqrt(4))"
   ]
  },
  {
   "cell_type": "markdown",
   "id": "0e0d8a09-a1d8-4d2a-96e0-ef01124cab17",
   "metadata": {},
   "source": [
    "<div class=\"myexampleblock\" style=\"background-color:#ddffdd; padding:0.01em 16px; margin: 16px auto; border-radius: 4px; box-shadow:0 2px 5px 0 rgba(0, 0, 0, 0.16), 0 2px 10px 0 rgba(0, 0, 0, 0.12)\">\n",
    "\n",
    "#### Exercice 1\n",
    "Calculer: $\\ln(2) \\quad \\log(2) \\quad e^3 + e^{-3} \\quad  \\arctan(1) \\quad \\left(\\frac{1+\\sqrt{5}}{1-\\sqrt{5}}\\right)^2$. Vous pourrez utiliser l'aide du module `math` avec l'appel `help(math)` qui liste par ordre alphabétique les fonctions du module `math`.\n",
    "</div>"
   ]
  },
  {
   "cell_type": "code",
   "execution_count": 8,
   "id": "b587e879-5280-4b34-af63-b6528e9cefd1",
   "metadata": {},
   "outputs": [],
   "source": [
    "# Votre solution pour l'exercice 1\n"
   ]
  },
  {
   "cell_type": "markdown",
   "id": "5dc4ad92-384c-4e34-93c0-973f342b3c1a",
   "metadata": {},
   "source": [
    "## Tableaux `array` du module `numpy` et calcul vectoriel\n",
    "\n",
    "Le module `numpy` (*numerical python*) est dédié au calcul numérique. Il permet d’utiliser des listes de manière plus efficace pour du calcul. C’est un ensemble de fonctions centrées autour d’un nouveau type de données, des tableaux nommés `array`. *Nous nous limiterons dans la suite aux tableau unidimentionnel (1D). Les tableaux 2D (matrices) seront vus en TP d'informatique.*\n",
    "\n",
    "Par convention, le module `numpy` est chargé avec le préfixe `np` qui permet de raccourcir les notations."
   ]
  },
  {
   "cell_type": "code",
   "execution_count": 9,
   "id": "1cd12045-6566-496f-b848-042a92897866",
   "metadata": {},
   "outputs": [
    {
     "name": "stdout",
     "output_type": "stream",
     "text": [
      "3.141592653589793\n"
     ]
    }
   ],
   "source": [
    "import numpy as np\n",
    "print(np.pi)"
   ]
  },
  {
   "cell_type": "markdown",
   "id": "15e19922-a401-4181-b326-ec719f0d2dcf",
   "metadata": {},
   "source": [
    "Les tableaux 1D de `numpy` sont similaires aux listes python. \n",
    "- Ils peuvent être créer par convertion de liste\n",
    "- L'accès à un élément, l'extraction (*slicing*) et la fonction `len` sont identiques aux listes"
   ]
  },
  {
   "cell_type": "code",
   "execution_count": 10,
   "id": "983e045f-b12e-4a6b-8088-f7129a52c25c",
   "metadata": {},
   "outputs": [
    {
     "name": "stdout",
     "output_type": "stream",
     "text": [
      "[ 1.1  3.  13.  -2. ]\n",
      "3.0\n",
      "[ 3. 13.]\n",
      "4\n"
     ]
    }
   ],
   "source": [
    "tab = np.array( [1.1 , 5, 13, -2]) \n",
    "tab[1] = 3\n",
    "print(tab)\n",
    "print(tab[1])\n",
    "print(tab[1:3])\n",
    "print(len(tab))"
   ]
  },
  {
   "cell_type": "markdown",
   "id": "e459de9b-8ebc-4ad1-b4ce-2b79c18b86c3",
   "metadata": {},
   "source": [
    "<div class=\"myalertblock\" style=\"background-color:#ffdddd; padding:0.01em 16px; margin: 16px auto; border-radius: 4px; box-shadow:0 2px 5px 0 rgba(0, 0, 0, 0.16), 0 2px 10px 0 rgba(0, 0, 0, 0.12)\">\n",
    "\n",
    "Principales différences des tableaux `numpy` par rapport aux listes de python :\n",
    "- **La longueur est fixée, on ne peut pas utiliser la méthode `append`**. Pour ajouter des termes, il faut créer un nouveau tableau.\n",
    "- **Toutes les valeurs du tableau doivent être de même type**. Par exemple pour des nombres, tous les éléments seront soit des flottants, soit des entiers.\n",
    "- **Les opérations et fonctions mathématiques sont vectorialisées, elles s'appliquent terme-à-terme.**\n",
    "\n",
    "Ces différences permettent des calculs beaucoup plus rapides\n",
    "</div>\n"
   ]
  },
  {
   "cell_type": "code",
   "execution_count": 11,
   "id": "287e3769-f30c-4510-b40a-fcab8ba19371",
   "metadata": {},
   "outputs": [
    {
     "name": "stdout",
     "output_type": "stream",
     "text": [
      "[2 4 6]\n",
      "[0.5 1.  1.5]\n",
      "[1 4 9]\n",
      "[1.         1.41421356 1.73205081]\n"
     ]
    }
   ],
   "source": [
    "t = np.array( [1 , 2, 3])\n",
    "print(t + t)\n",
    "print(0.5*t) \n",
    "print(t**2) \n",
    "print(np.sqrt(t))"
   ]
  },
  {
   "cell_type": "markdown",
   "id": "d18b702e-5b89-4f45-a59b-2dabc7448685",
   "metadata": {},
   "source": [
    "Quelques fonctions de création de tableau bien utiles:"
   ]
  },
  {
   "cell_type": "code",
   "execution_count": 12,
   "id": "4290731a-ea7b-4b25-9eee-ef26198fa641",
   "metadata": {},
   "outputs": [
    {
     "name": "stdout",
     "output_type": "stream",
     "text": [
      "[0. 0. 0. 0. 0.]\n",
      "[1. 1. 1.]\n",
      "[0.  0.5 1.  1.5 2. ]\n"
     ]
    }
   ],
   "source": [
    "print(np.zeros(5))\n",
    "print(np.ones(3))\n",
    "print(np.linspace(0,2,5)) # 5 valeurs équiréparties entre 0 et 2"
   ]
  },
  {
   "cell_type": "markdown",
   "id": "86d4deed-1ae5-41ed-9c8f-76d65a410d99",
   "metadata": {},
   "source": [
    "<div class=\"myexampleblock\" style=\"background-color:#ddffdd; padding:0.01em 16px; margin: 16px auto; border-radius: 4px; box-shadow:0 2px 5px 0 rgba(0, 0, 0, 0.16), 0 2px 10px 0 rgba(0, 0, 0, 0.12)\">\n",
    "\n",
    "#### Exercice 2\n",
    "1. Créer un tableau `numpy` de 100 valeurs équiréparties entre 10 et 20. Afficher les 5 premières valeurs de ce tableau\n",
    "3. Créer une liste python contenant les mêmes valeurs que le tableau `numpy`. Commenter.\n",
    "\n",
    "</div>"
   ]
  },
  {
   "cell_type": "code",
   "execution_count": 13,
   "id": "b187e80a-08f1-4891-b32b-2a902f4553d3",
   "metadata": {},
   "outputs": [],
   "source": [
    "# Votre solution pour l'exercice 2"
   ]
  },
  {
   "cell_type": "markdown",
   "id": "68a16d7a-876d-4e71-9790-7cf0ab452226",
   "metadata": {},
   "source": [
    "## Représentation graphiques avec le module `matplotlib.pyplot`\n",
    "\n",
    "Le langage Python permet de tracer des courbes via le module `matplotlib` et plus particulièrement de son sous-module `pyplot` que l’on importe souvent avec l'alias `plt`."
   ]
  },
  {
   "cell_type": "code",
   "execution_count": 14,
   "id": "905885fc-4d0f-4208-8d77-6be26faeb718",
   "metadata": {},
   "outputs": [],
   "source": [
    "import matplotlib.pyplot as plt"
   ]
  },
  {
   "cell_type": "markdown",
   "id": "85a834ed-c59e-4fee-a212-85309aa64a73",
   "metadata": {},
   "source": [
    "### Graphe d'une fonction\n",
    "\n",
    "Pour tracer le graphe d'une fonction $f(x)$ sur un interval $[a;b]$:\n",
    "1. Créer un tableau de $n$ valeurs $x_i$ équiréparties sur $[a;b]$.\n",
    "2. Créer un tableau des $n$ valeurs $y_i=f(x_i)$ images de $x_i$.\n",
    "3. Tracer le graphe représentant les $n$ points $(x_i,y_i)$ de la courbe $y=f(x)$. Pour cela:\n",
    "    - on crée une figure initialement vide avec la fonction `plt.figure()`\n",
    "    - on ajoute les points à placer avec la fonction `plt.plot(tableau_abcisses,tableau_ordonnees)`\n",
    "    - on peut ajouter d'autres courbes, une légende, un titre, etc...\n",
    "    - Enfin la fonction `plt.show()` permet de visualiser toutes les figures dans une fenêtre annexe.\n"
   ]
  },
  {
   "cell_type": "code",
   "execution_count": 15,
   "id": "10ffd931-9b1b-4605-8aea-cbec6d6e70c8",
   "metadata": {},
   "outputs": [
    {
     "data": {
      "image/png": "[encoded data removed]",
      "text/plain": [
       "<Figure size 640x480 with 1 Axes>"
      ]
     },
     "metadata": {},
     "output_type": "display_data"
    }
   ],
   "source": [
    "X = np.linspace(0,5,200)\n",
    "Y = np.sqrt(X) # fonction racine carrée\n",
    "plt.figure()\n",
    "plt.plot(X,Y)\n",
    "plt.show()"
   ]
  },
  {
   "cell_type": "markdown",
   "id": "74cb7732-85b6-4bc0-b387-ee57be7a6fc1",
   "metadata": {},
   "source": [
    "Pour enrichir la figure, la fonction `plt.plot` possède de nombreux paramètres optionnels que l'on ajoutent dans l'appel après les arguments, sous la forme `nom = valeur`. On peut aussi ajouter une légende, un quadrillage, des noms pour les axes, ajuster les valeurs extrémales des axes, ..."
   ]
  },
  {
   "cell_type": "code",
   "execution_count": 16,
   "id": "d07dce37-e43c-474f-8365-a86883787f1a",
   "metadata": {},
   "outputs": [
    {
     "data": {
      "image/png": "[encoded data removed]",
      "text/plain": [
       "<Figure size 640x480 with 1 Axes>"
      ]
     },
     "metadata": {},
     "output_type": "display_data"
    }
   ],
   "source": [
    "X = np.linspace(0,5,20)\n",
    "Y1 = np.cos(X)\n",
    "Y2 = np.sin(X)\n",
    "plt.plot(X,Y1, marker='o', color=\"red\", linestyle=\"None\", label='y = cos(x)')\n",
    "plt.plot(X,Y2, marker='', color=\"blue\", linestyle=\"dashed\", label='y = sin(x)')\n",
    "plt.title('Titre')\n",
    "plt.legend()\n",
    "plt.grid()\n",
    "plt.xlabel('Abcisses x')\n",
    "plt.ylabel('Ordonnées y')\n",
    "plt.ylim(-1.5,1.5)\n",
    "plt.show()"
   ]
  },
  {
   "cell_type": "markdown",
   "id": "79d61b10-20a0-4258-96a2-3e8f387a31f8",
   "metadata": {},
   "source": [
    "<div class=\"myexampleblock\" style=\"background-color:#ddffdd; padding:0.01em 16px; margin: 16px auto; border-radius: 4px; box-shadow:0 2px 5px 0 rgba(0, 0, 0, 0.16), 0 2px 10px 0 rgba(0, 0, 0, 0.12)\">\n",
    "\n",
    "#### Exercice 3\n",
    "Représenter la courbe de la fonction sinus cardinal $x \\mapsto \\sin(x)/x$ sur l'interval $[-20;20]$.\n",
    "\n",
    "</div>"
   ]
  },
  {
   "cell_type": "code",
   "execution_count": 17,
   "id": "e75e7a79-bc59-42a5-ad68-54599cfe2961",
   "metadata": {},
   "outputs": [],
   "source": [
    "# Votre solution pour l'exercice 3\n"
   ]
  },
  {
   "cell_type": "markdown",
   "id": "5bda08aa-0ddb-45bf-ad42-dcfb6a8c0322",
   "metadata": {},
   "source": [
    "### Graphe expérimentaux\n",
    "\n",
    "Pour représenter $N$ mesures d'une grandeur $Y$ en fonction d'une autre grandeur $X$, on utilise les mêmes fonctions"
   ]
  },
  {
   "cell_type": "code",
   "execution_count": 18,
   "id": "07c53522-4720-4b63-821b-db37a15e7d56",
   "metadata": {},
   "outputs": [
    {
     "data": {
      "image/png": "[encoded data removed]",
      "text/plain": [
       "<Figure size 640x480 with 1 Axes>"
      ]
     },
     "metadata": {},
     "output_type": "display_data"
    }
   ],
   "source": [
    "X_exp = np.array ([0 , 1 , 2 , 3 , 4 , 5]) # Mesures de X\n",
    "Y_exp = np.array ([0 , 0.7 , 4.5 , 9.3 , 15.5 , 24]) # Mesures de Y correspondantes\n",
    "plt.plot(X_exp,Y_exp,'o') # 'o' est un raccourci pour linstyle=None et marker='o'\n",
    "plt.grid()\n",
    "plt.xlabel('X (Unité)')\n",
    "plt.ylabel('Y (Unité)')\n",
    "plt.show()"
   ]
  },
  {
   "cell_type": "markdown",
   "id": "2ad8e95e-b9e9-4753-a97d-60bdc5aa5fff",
   "metadata": {},
   "source": [
    "<div class=\"myalertblock\" style=\"background-color:#ffdddd; padding:0.01em 16px; margin: 16px auto; border-radius: 4px; box-shadow:0 2px 5px 0 rgba(0, 0, 0, 0.16), 0 2px 10px 0 rgba(0, 0, 0, 0.12)\">\n",
    "\n",
    "- **NE JAMAIS relier des points expérimentaux entre eux sur un graphe!** (toujours avoir l'option `linstye='None'` ou le raccourci `'o'` dans la fonction `plt.plot`)\n",
    "\n",
    "- **Toujours préciser les unités sur les axes!**\n",
    "</div>"
   ]
  },
  {
   "cell_type": "markdown",
   "id": "9efeb3f9-bba9-490a-b204-be983f73fa99",
   "metadata": {},
   "source": [
    "La fonction `errorbar` permet de tracer des barres d’incertitude autour des points expérimentaux, données sous forme d’arguments optionnels `xerr` et `yerr`. En donnant un seul des deux arguments, on représente la barre d’incertitude pour une variable seulement. Cette fonction accepte une bonne partie des arguments optionnels décoratifs de `plot`.\n",
    "\n",
    "On peut par exemple refaire la figure précédente en faisant apparaître sur le graphe les incertitudes."
   ]
  },
  {
   "cell_type": "code",
   "execution_count": 19,
   "id": "94142601-5610-4e72-b75b-9f3adc9eda59",
   "metadata": {},
   "outputs": [
    {
     "data": {
      "image/png": "[encoded data removed]",
      "text/plain": [
       "<Figure size 640x480 with 1 Axes>"
      ]
     },
     "metadata": {},
     "output_type": "display_data"
    }
   ],
   "source": [
    "X_exp = np.array ([0 , 1 , 2 , 3 , 4 , 5]) # Mesures de X\n",
    "u_X = 0.1 * np . ones_like ( X_exp ) # incertitude constante de 0.1 sur X\n",
    "Y_exp = np.array ([0 , 0.7 , 4.5 , 9.3 , 15.5 , 24]) # Mesures de Y correspondantes\n",
    "u_Y = 0.1 * Y_exp # incertitude relative de 10% sur Y\n",
    "\n",
    "plt.errorbar(X_exp, Y_exp, xerr=u_X, yerr=u_Y, linestyle='None',capsize=3) \n",
    "plt.grid()\n",
    "plt.xlabel('X (Unité)')\n",
    "plt.ylabel('Y (Unité)')\n",
    "plt.show()"
   ]
  }
 ],
 "metadata": {
  "kernelspec": {
   "display_name": "Python 3 (ipykernel)",
   "language": "python",
   "name": "python3"
  },
  "language_info": {
   "codemirror_mode": {
    "name": "ipython",
    "version": 3
   },
   "file_extension": ".py",
   "mimetype": "text/x-python",
   "name": "python",
   "nbconvert_exporter": "python",
   "pygments_lexer": "ipython3",
   "version": "3.10.8"
  }
 },
 "nbformat": 4,
 "nbformat_minor": 5
}
