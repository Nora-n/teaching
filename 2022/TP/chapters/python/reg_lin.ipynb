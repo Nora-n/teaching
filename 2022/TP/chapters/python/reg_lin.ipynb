{
 "cells": [
  {
   "cell_type": "markdown",
   "metadata": {},
   "source": [
    "!!! info Info\n",
    "Disponible sur Capytale avec le code d3aa-1325055\n",
    "!!!"
   ]
  },
  {
   "cell_type": "markdown",
   "metadata": {},
   "source": [
    "### Importations"
   ]
  },
  {
   "cell_type": "code",
   "execution_count": 1,
   "metadata": {},
   "outputs": [],
   "source": [
    "import numpy as np              # pour les tableaux\n",
    "import matplotlib.pyplot as plt # pour les graphiques"
   ]
  },
  {
   "cell_type": "markdown",
   "metadata": {},
   "source": [
    "# Régression linéaire sans incertitudes\n",
    "## Données expérimentales"
   ]
  },
  {
   "cell_type": "markdown",
   "metadata": {},
   "source": [
    "!!! abstract Explication\n",
    "On a mesuré $n\\geq 5$ valeurs des grandeurs $X$ et $Y$. On souhaite vérifier si les valeurs mesurées sont en accord avec une relation affine $Y = a X + b$ entre ces grandeurs. On commence par créer un tableau `numpy` avec les valeurs mesurées.\n",
    "!!!"
   ]
  },
  {
   "cell_type": "code",
   "execution_count": 2,
   "metadata": {},
   "outputs": [],
   "source": [
    "X = np.array([0 , 2 , 4 , 6 , 8 , 10])            # À modifier par vraies valeurs\n",
    "Y = np.array([0.5 , 7.9 , 11 , 17.5 , 26 , 31.8]) # À modifier par vraies valeurs"
   ]
  },
  {
   "cell_type": "markdown",
   "metadata": {},
   "source": [
    "## Validation d'un modèle linéaire par régression"
   ]
  },
  {
   "cell_type": "markdown",
   "metadata": {},
   "source": [
    "!!! abstract Validation d'un modèle linéaire par régression\n",
    "\n",
    "La fonction `polyfit(X,Y,d)` de la bibliothèque `numpy` ajuste au plus près 2 listes de données (abscisses `X`, ordonnées `Y`) par une fonction polynomiale de degrè `d`, et renvoie les coefficients du polynôme le mieux ajusté. Ainsi, pour le degrè 1, cela correspond à une regression linéaire $y = ax + b$.\n",
    "!!!"
   ]
  },
  {
   "cell_type": "code",
   "execution_count": null,
   "metadata": {},
   "outputs": [],
   "source": [
    "a, b = np.polyfit()         # « a » le coefficient directeur, « b » l'ordonnée à l'origine\n",
    "print(f\"a = {a:.3f}, b = {b:.2f}\") # .3f pour 3 valeurs après la virgule"
   ]
  },
  {
   "cell_type": "markdown",
   "metadata": {},
   "source": [
    "### Fonction pour le tracé"
   ]
  },
  {
   "cell_type": "code",
   "execution_count": null,
   "metadata": {},
   "outputs": [],
   "source": [
    "def yfunc():\n",
    "    return "
   ]
  },
  {
   "cell_type": "markdown",
   "metadata": {},
   "source": [
    "!!! abstract Tracé d'une fonction : abscisse\n",
    "Une fonction en $\\texttt{Python}$ reste une application qui donne une image à un antécédant. Pour pouvoir en faire la représentation graphique, il faut définir toute une série de points sur lesquels on veut tracer pour ensuite les relier un à un. Pour cela, `np.linspace` permet de découper un intervalle de la valeur minimale voulue à la valeur maximale voulue, avec un nombre de points $N$.\n",
    "\n",
    "Ici, on veut tracer de la valeur minimale de `X` à la valeur maximale de `X`, en ayant suffisamment de points pour que le tracé soit efficace. Complétez le code suivant pour définir `wliste` la liste des valeurs de `X` sur laquelle tracer.\n",
    "!!!"
   ]
  },
  {
   "cell_type": "code",
   "execution_count": null,
   "metadata": {},
   "outputs": [],
   "source": [
    "xliste = np.linspace(MIN, MAX, NBPOINTS)"
   ]
  },
  {
   "cell_type": "markdown",
   "metadata": {},
   "source": [
    "!!! tip Indice\n",
    "Les fonctions `min` et `max` existent.\n",
    "!!!"
   ]
  },
  {
   "cell_type": "markdown",
   "metadata": {},
   "source": [
    "!!! abstract Tracé d'une fonction : ordonnée\n",
    "On a dont toutes les briques pour tracer la fonction : la fonction en elle-même, les valeurs d'abscisse, et les meilleurs paramètres. Pour avoir les ordonnées, il suffit de calculer `f(x, a, b)`.\n",
    "!!!"
   ]
  },
  {
   "cell_type": "code",
   "execution_count": null,
   "metadata": {},
   "outputs": [],
   "source": [
    "yliste = yfunc(xliste, a, b)"
   ]
  },
  {
   "cell_type": "markdown",
   "metadata": {},
   "source": [
    "!!! warning Attention\n",
    "<center><b>\n",
    "La seule façon valable de conclure à la validité d’une régression linéaire est une représentation graphique où l’on observe l’alignement des points avec la droite de régression.\n",
    "</center>\n",
    "!!!"
   ]
  },
  {
   "cell_type": "markdown",
   "metadata": {},
   "source": [
    "## Tracé du graphe pour vérification"
   ]
  },
  {
   "cell_type": "code",
   "execution_count": 22,
   "metadata": {},
   "outputs": [
    {
     "data": {
      "application/javascript": [
       "element.append(window._basthonDomNodeBus.pop(0));"
      ]
     },
     "metadata": {},
     "output_type": "display_data"
    }
   ],
   "source": [
    "plt.close()                                 # force la fermeture des figures précédentes\n",
    "\n",
    "plt.figure(figsize=(8, 6))                  # dimension horizontale, verticale\n",
    "plt.grid()                                  # affiche un quadrillage de lecture\n",
    "plt.xlabel('$grandeur$ en UNITÉ',           # Donne le nom de l'axe x, avec $$ pour le mode math\n",
    "           fontsize=10)                     # en grand\n",
    "plt.ylabel('$grandeur$ en UNITÉ',           # Donne le nom de l'axe y, avec $$ pour le mode math\n",
    "           fontsize=10)                     # en grand\n",
    "\n",
    "plt.scatter(X, Y,                           # trace un graphe avec X en abscisse et Y en ordonnée\n",
    "            marker='x', s=100,              # possibilité de customiser le tracé\n",
    "            color='blue',       \n",
    "            label='Données')                # pour la légende\n",
    "\n",
    "plt.plot(xliste, yliste,                    # trace un graphe avec xfit en abscisse et yreg en ordonnée\n",
    "         'r', label='Régression linéaire')\n",
    "\n",
    "plt.title('Titre efficace et descriptif',\n",
    "          fontsize=15)\n",
    "plt.legend(fontsize=12)\n",
    "plt.tight_layout()                          # évite les débordements ou rognages\n",
    "plt.show()"
   ]
  },
  {
   "cell_type": "markdown",
   "metadata": {},
   "source": [
    "!!! question Exercice 1\n",
    "On mesure la puissance $P$ dissipée par effet Joule dans une résistance, ainsi que l'intensité $i$ la traversant.\n",
    "\n",
    "| $P$ (W) | $i$ (mA) |\n",
    "|:-------:|:--------:|\n",
    "|   2,1   |    1,0   |\n",
    "|   4,5   |    1,5   |\n",
    "|   7,9   |    2,0   |\n",
    "|   18,2  |    3,0   |\n",
    "|   31,8  |    4,0   |\n",
    "\n",
    "Ces mesures sont-elles compatible avec le modèle $P=Ri^2$. Si oui, estimer $R$.\n",
    "!!!"
   ]
  },
  {
   "cell_type": "code",
   "execution_count": 5,
   "metadata": {},
   "outputs": [],
   "source": [
    "# Votre code pour l'exercice 1\n"
   ]
  },
  {
   "cell_type": "markdown",
   "metadata": {},
   "source": [
    "# Régression linéaire avec incertitudes\n",
    "## Données expérimentales\n",
    "\n",
    "On considère à nouveau des mesures de $X$ et $Y$, mais cette fois, accompagnées d'incertitudes-types."
   ]
  },
  {
   "cell_type": "code",
   "execution_count": null,
   "metadata": {},
   "outputs": [],
   "source": [
    "X = np.array([0,1,2,3,4,\n",
    "              5,6,7,8,9,10])                  # à modifier par vraies valeurs\n",
    "uX = 0.1*np.ones(len(X))                      # incertitude de 0.1 sur chaque valeur\n",
    "Y = np.array([2.20,2.00,1.60,1.55,1.16,\n",
    "              1.00,0.95,0.60,0.36,0.36,0.18]) # à modifier par vraies valeurs\n",
    "uY = 0.12*np.ones(len(Y))                     # incertitude de 0.12 sur chaque valeur\n",
    "\n",
    "xliste = np.linspace(MIN, MAX, NBPOINTS)\n",
    "yliste = yfunc(xliste, a, b)"
   ]
  },
  {
   "cell_type": "markdown",
   "metadata": {},
   "source": [
    "## Validation d'un modèle linéaire par régression"
   ]
  },
  {
   "cell_type": "code",
   "execution_count": 38,
   "metadata": {},
   "outputs": [
    {
     "name": "stdout",
     "output_type": "stream",
     "text": [
      "a = -0.204, b = 2.11\n"
     ]
    }
   ],
   "source": [
    "a, b = np.polyfit(X, Y, 1)         # « a » le coefficient directeur, « b » l'ordonnée à l'origine\n",
    "print(f\"a = {a:.3f}, b = {b:.2f}\") # .3f pour 3 valeurs après la virgule"
   ]
  },
  {
   "cell_type": "markdown",
   "metadata": {},
   "source": [
    "!!! abstract Validation graphique avec barres d'erreur\n",
    "Afin d’ajouter des barres d’erreurs sur un graphique, il faut remplacer la fonction `plt.plot` par la fonction `plt.errorbar`. Une série de nouveaux paramètres permettent de personnaliser ces barres d’erreur.\n",
    "!!!"
   ]
  },
  {
   "cell_type": "code",
   "execution_count": 44,
   "metadata": {},
   "outputs": [
    {
     "data": {
      "application/javascript": [
       "element.append(window._basthonDomNodeBus.pop(0));"
      ]
     },
     "metadata": {},
     "output_type": "display_data"
    }
   ],
   "source": [
    "plt.close()                                 # force la fermeture des figures précédentes\n",
    "\n",
    "plt.figure(figsize=(8, 6))                  # dimension horizontale, verticale\n",
    "plt.grid()                                  # affiche un quadrillage de lecture\n",
    "plt.xlabel('$grandeur$ en UNITÉ',           # Donne le nom de l'axe x, avec $$ pour le mode math\n",
    "           fontsize=10)                     # en grand\n",
    "plt.ylabel('$grandeur$ en UNITÉ',           # Donne le nom de l'axe y, avec $$ pour le mode math\n",
    "           fontsize=10)                     # en grand\n",
    "\n",
    "plt.errorbar(x, y,                          # trace les données avec des barres d'erreurs ux et uy\n",
    "             xerr=ux, yerr=uy,\n",
    "             linestyle='None', capsize=3,   # possibilité de personnalisation, importante\n",
    "             color='b', label='Mesures')    # légende\n",
    "\n",
    "plt.plot(xliste, yliste,                    # trace un graphe avec xfit en abscisse et yreg en ordonnée\n",
    "         'r', label='Régression linéaire')\n",
    "\n",
    "plt.title('Titre efficace et descriptif',\n",
    "          fontsize=15)\n",
    "plt.legend(fontsize=12)\n",
    "\n",
    "plt.tight_layout()\n",
    "plt.show()"
   ]
  },
  {
   "cell_type": "markdown",
   "metadata": {},
   "source": [
    "## Simulation de Monte-Carlo pour obtenir des incertitudes sur la pente et l'ordonnée à l'origine"
   ]
  },
  {
   "cell_type": "markdown",
   "metadata": {},
   "source": [
    "!!! abstract Fonctionnement Monte-Carlo\n",
    "Pour obtenir des incertitudes sur $a$ et $b$, nous allons:\n",
    "- faire varier aléatoirement les $n$ couples de valeurs mesurées $(x_i,y_i)$ selon des **lois de probabilité uniformes rectangulaires** de demi-largeur la précision $\\Delta(x_i) = \\sqrt{3}u(x_i)$, simulée grâce à la fonction `np.random.uniform(x_i-Delta, x_i+Delta)` (même chose pour $y_i$).\n",
    "- Pour chaque série de mesures simulée, faire la regression  linéaire, et obtenir des valeurs de pente $a_k$ et d'ordonnée à l'origine $b_k$. \n",
    "- La meilleur estimation de $a$ et $b$ sera la moyenne des valeurs calculées \n",
    "- Les incertitude $u(a)$ et $u(b)$ sur ces moyennes seront l'écart-type expérimental des valeurs calculées.\n",
    "!!!"
   ]
  },
  {
   "cell_type": "code",
   "execution_count": 48,
   "metadata": {},
   "outputs": [
    {
     "name": "stdout",
     "output_type": "stream",
     "text": [
      "Coef.directeur = -2.045e-01 ± 1.406e-16\n",
      "Ordonnée à l'origine = 2.106e+00 ± 1.211e-01\n"
     ]
    }
   ],
   "source": [
    "# =========================================================================== #\n",
    "#                                   Calculs                                   #\n",
    "# =========================================================================== #\n",
    "\n",
    "\n",
    "N = 10000                  # nombre de régressions à effectuer\n",
    "\n",
    "alist, blist = [], []      # création des listes vides pour stocker les valeurs\n",
    "for i in range(N):\n",
    "    x_simu = x + np.sqrt(3)*ux*np.random.uniform(-1, 1)\n",
    "    y_simu = y + np.sqrt(3)*uy*np.random.uniform(-1, 1)\n",
    "\n",
    "    p = np.polyfit(x_simu, y_simu, 1)\n",
    "\n",
    "    alist.append(p[0])\n",
    "    blist.append(p[1])\n",
    "\n",
    "# =========================================================================== #\n",
    "#                                 Utilisation                                 #\n",
    "# =========================================================================== #\n",
    "\n",
    "a_mean, b_mean = np.mean(alist), np.mean(blist)\n",
    "ua, ub = np.std(alist, ddof=1), np.std(blist, ddof=1)\n",
    "\n",
    "print('Coef.directeur =', f'{a_mean:.3e}',       #.3e pour écriture scientifique\n",
    "      '±', f'{ua:.3e}')                          # avec 3 chiffres significatifs\n",
    "print(\"Ordonnée à l'origine =\", f'{b_mean:.3e}', # ATTENTION à la rédaction\n",
    "      '±', f'{ub:.3e}')                          # finale d'une mesure…"
   ]
  },
  {
   "cell_type": "markdown",
   "metadata": {},
   "source": [
    "!!! question Exercice 2\n",
    "On considère la charge d'un condensateur de capacité $C$ dans un circuit $RC$ série avec $R$ une résistance variable. On réaliser différentes mesures de la constante de temps $\\tau$ de la charge en faisant varier $R$. La résistance $R$ est mesurée avec une incertitude-type relative de 2% tandis que la constante de temp $\\tau$ est obtenue avec une incertitude-type relative de 4%. On rappel que théoriquement: $\\tau = (R + R_\\mathrm{int})C$ avec $R_\\mathrm{int}$ la résistance interne du GBF utilisé.\n",
    "\n",
    "Completer le code ci-dessous pour vérifier la validité de la formule precedente et estimer des valeurs de $C$ et $R_\\mathrm{int}$ avec incertitudes.\n",
    "!!!"
   ]
  },
  {
   "cell_type": "code",
   "execution_count": 10,
   "metadata": {},
   "outputs": [],
   "source": [
    "R = np.array([100,200,300,400,500,600,700,800,900,1000])        # valeurs de R en Ohms\n",
    "tau = 1e-6*np.array([151,240,356,458,547,651,741,843,949,1041]) # Valeurs de tau en secondes\n",
    "\n",
    "# À vous de jouer…"
   ]
  }
 ],
 "metadata": {
  "kernelspec": {
   "display_name": "Python 3",
   "language": "python",
   "name": "python3"
  },
  "language_info": {
   "codemirror_mode": {
    "name": "ipython",
    "version": 3
   },
   "file_extension": ".py",
   "mimetype": "text/x-python",
   "name": "python",
   "nbconvert_exporter": "python",
   "pygments_lexer": "ipython3",
   "version": "3.7.12"
  }
 },
 "nbformat": 4,
 "nbformat_minor": 4
}
