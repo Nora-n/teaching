{
 "cells": [
  {
   "cell_type": "markdown",
   "id": "8d558b45-d9fb-4a9f-addd-479e67c94931",
   "metadata": {
    "tags": [],
    "user_expressions": []
   },
   "source": [
    "# Introduction éclair aux notebooks "
   ]
  },
  {
   "cell_type": "markdown",
   "id": "b1d4f637-35aa-44a1-8961-85e29fc46cce",
   "metadata": {
    "tags": [],
    "user_expressions": []
   },
   "source": [
    ":::{tip}Cellules\n",
    "Un notebook est un ensemble de cellules pouvant être de différents types :\n",
    "- du code Python\n",
    "- du texte en Markdown permettant des mises en forme enrichies. On peut y faire facilement :\n",
    "    - des listes énumérées ou non :\n",
    "    ```\n",
    "    - élément 1\n",
    "    - élément 2\n",
    "    1) élément 1\n",
    "    2) élément 2\n",
    "    ```\n",
    "    - du texte *italique*, **gras** et `code`\n",
    "    - des expressions mathématiques (entre symboles `$` et selon le langage *LaTeX*): équation ci-dessous ou encore expression $\\sin^2(\\theta)$.\n",
    "        $$y = \\frac{\\alpha + x}{\\sqrt{x + \\ln(x)}}$$ \n",
    "    - des liens internet: [cahier de prépa MPSI 3](https://cahier-de-prepa.fr/mpsi3-pothier/)\n",
    "    - et autres…\n",
    "\n",
    "Pour les curieux-ses, 2 liens en anglais.\n",
    "* [Guide syntaxe complète *markdown*](https://www.markdownguide.org/cheat-sheet/)\n",
    "* [Guide syntaxe *LaTeX* pour les équations mathématiques](https://personal.math.ubc.ca/~pwalls/math-python/jupyter/latex/)\n",
    "\n",
    "Chaque cellule a son entrée et sa sortie. Dans le cas du texte, la sortie remplace la boîte,\n",
    "et il faut double-cliquer dessus pour retrouver le mode édition. Pour les cellules de code,\n",
    "la sortie est en-dessous de la cellule.\n",
    "\n",
    "Le mode par défaut est le code. Il faut cliquer sur le menu déroulant dans la barre d'outils\n",
    "pour le changer. Cliquez sur $+$ dans la barre d'outils pour en ajouter une.\n",
    "\n",
    "Cliquez sur la cellule suivante, tapez \"1+2\" et appuyez sur *Maj+Enter* ou sur le symbole\n",
    "de \"lecture\" dans la barre d'outils.\n",
    ":::"
   ]
  },
  {
   "cell_type": "code",
   "execution_count": null,
   "id": "62412dff-4245-4288-ac6d-2af916486a4d",
   "metadata": {},
   "outputs": [],
   "source": []
  },
  {
   "cell_type": "markdown",
   "id": "c4973faa-9950-4487-97d9-984f9a4fb2b5",
   "metadata": {},
   "source": [
    ":::{tip}Afficher un calcul intermédiaire\n",
    "Par défaut, une cellule affiche en sortie le résultat de la **dernière action** de la cellule.\n",
    "\n",
    "Pour s'assurer que la sortie affiche un calcul même si ça n'est pas le dernier, il suffit\n",
    "de le mettre dans la fonction `print` qui, comme son nom l'indique, affiche le résultat\n",
    "de ce qu'on lui donne.\n",
    "\n",
    "Faites tourner la cellule suivante.\n",
    ":::"
   ]
  },
  {
   "cell_type": "code",
   "execution_count": null,
   "id": "b91ae4b6-174d-47bf-870b-8acef9d6e6d2",
   "metadata": {
    "tags": []
   },
   "outputs": [],
   "source": [
    "1+1        # pas affiché car pas la dernière et pas print\n",
    "print(2+2) # affichée car print\n",
    "3+3        # affichée car dernière"
   ]
  },
  {
   "cell_type": "markdown",
   "id": "846eed2b-b1bd-4dd4-bae5-184f77bec293",
   "metadata": {
    "tags": []
   },
   "source": [
    ":::{tip}Ordre d'activation\n",
    "L'ordre d'activation des cellules de code est important, puisque toutes les informations,\n",
    "définitions, calculs faits par l'ordinateur sont mémorisés au fur et à mesure. Il est indiqué\n",
    "entre crochets à gauche de chaque cellule de code.\n",
    "\n",
    "Lancez la cellule ci-dessous, où on calcule \"x+y\" sans les avoir défini. Lisez l'erreur.\n",
    "Lancez ensuite la cellule définissant x et y, puis relancez \"x+y\". Notez l'ordre croissant des\n",
    "opérations.\n",
    ":::"
   ]
  },
  {
   "cell_type": "code",
   "execution_count": null,
   "id": "9d6b3769-2d1d-4efc-a415-35417925b926",
   "metadata": {
    "tags": []
   },
   "outputs": [],
   "source": [
    "x+y"
   ]
  },
  {
   "cell_type": "code",
   "execution_count": null,
   "id": "01e3aa50-00e1-43a2-8c6c-7644681eab2e",
   "metadata": {
    "tags": []
   },
   "outputs": [],
   "source": [
    "x = 1\n",
    "y = 2"
   ]
  },
  {
   "cell_type": "markdown",
   "id": "f9bcf43c-0ffa-4f14-9f03-6715812fa429",
   "metadata": {},
   "source": [
    "# Principes de base de Python"
   ]
  },
  {
   "cell_type": "markdown",
   "id": "999aa5c9-8d1d-43e3-b720-72c995eae579",
   "metadata": {
    "tags": [],
    "user_expressions": []
   },
   "source": [
    ":::{tip}Opérations en Python\n",
    "- On a les symboles classiques : +, -, \\*, /, par exemple `1+1*1/2-1` pour $1+1*\\frac{1}{2}-1$\n",
    "- Pour les puissances, on utilise \\*\\*, par exemple `x**2` pour $x^2$\n",
    "- Pour les puissances de 10, on utilise `e` et un nombre sans parenthèses, par exemple `1e-3` pour $1*10^{-3}$\n",
    "\n",
    "Ainsi, vous éviterez absolument d'écrire `1*10**(-3)` alors qu'il existe `1e-3`.\n",
    "\n",
    "Testez d'écrire quelques calculs dans les cellules de code en-dessous.\n",
    ":::"
   ]
  },
  {
   "cell_type": "code",
   "execution_count": null,
   "id": "56768777-c767-468c-a5d1-90bf36a3c4f9",
   "metadata": {},
   "outputs": [],
   "source": []
  },
  {
   "cell_type": "code",
   "execution_count": null,
   "id": "79a1d075-d9f6-4ca2-a756-69b6ce937fd2",
   "metadata": {},
   "outputs": [],
   "source": []
  },
  {
   "cell_type": "code",
   "execution_count": null,
   "id": "674b4398-b47c-42bc-a0a4-1379a0c09dba",
   "metadata": {},
   "outputs": [],
   "source": []
  },
  {
   "cell_type": "markdown",
   "id": "d8ecf891-60f5-43d7-96bd-98e10a6a278d",
   "metadata": {
    "tags": [],
    "user_expressions": []
   },
   "source": [
    ":::{tip}Nature des objets\n",
    "Les objets en Python sont de diverses natures. On a des nombres entiers, des nombres flottants,\n",
    "ou d'autres objets. Vous pouvez tester ces types avec la fonction `type`. On a notamment :\n",
    "- Les entiers, de type `int` pour *integer* en anglais. Il n'ont pas de chiffre après la virgule.\n",
    "- Les nombres décimaux, de type `float`. Ils ont une virgule.\n",
    "- Les chaînes de caractères, de type `str` pour *string* (ficelle) en anglais. Elles sont entre apostrophes ou entre guillemets.\n",
    "- Les listes, des ensembles de nombres placés entre crochets.\n",
    "- Les fonctions, des suites d'opérations qui prennent leurs entrées entre parenthèses.\n",
    "\n",
    "Lancez les cellules ci-dessous, et cochez les cases quand vous avez compris leur fonctionnement.\n",
    ":::"
   ]
  },
  {
   "cell_type": "markdown",
   "id": "40972239-0703-4eab-81fa-6784f1881a1c",
   "metadata": {},
   "source": [
    ":::{attention}\n",
    "Il s'opère la même distinction pour les fonctions en Python que pour les fonctions en maths : si $f$ est une fonction qui dépend de la variable $x$, alors $f(x)$ est le nombre associé.\n",
    ":::"
   ]
  },
  {
   "cell_type": "code",
   "execution_count": null,
   "id": "e6f79d13-f605-4ef2-b6e6-42c3f97988e3",
   "metadata": {
    "tags": []
   },
   "outputs": [],
   "source": [
    "type('Chaîne')"
   ]
  },
  {
   "cell_type": "code",
   "execution_count": null,
   "id": "1d5c9920-05e8-447f-9b32-23cf5bcff160",
   "metadata": {
    "tags": []
   },
   "outputs": [],
   "source": [
    "type(1)"
   ]
  },
  {
   "cell_type": "code",
   "execution_count": null,
   "id": "a2b6b165-3b5d-4e57-a38c-d4160b473d46",
   "metadata": {
    "tags": []
   },
   "outputs": [],
   "source": [
    "type(1.)"
   ]
  },
  {
   "cell_type": "code",
   "execution_count": null,
   "id": "3ab260e4-69f0-4482-9ac1-66db9c896230",
   "metadata": {
    "tags": []
   },
   "outputs": [],
   "source": [
    "L1 = [1, 2, 3]\n",
    "type(L1)"
   ]
  },
  {
   "cell_type": "code",
   "execution_count": null,
   "id": "d3e6e182-9c35-4c0c-840a-9014643b0737",
   "metadata": {
    "tags": []
   },
   "outputs": [],
   "source": [
    "type(print)"
   ]
  },
  {
   "cell_type": "markdown",
   "id": "8693cd9f-9057-4695-8d00-abd3b1d87dc7",
   "metadata": {
    "tags": [],
    "user_expressions": []
   },
   "source": [
    ":::{important}Fonctions de base\n",
    "- `print`\n",
    "- `type`\n",
    "- `len` : donne la longueur d'une liste ou d'un tableau.\n",
    "- `abs` : donne la valeur absolue de la variable en entrée.\n",
    "- `min`, `max` : donne la valeur minimale ou maximale d'une liste, respectivement.\n",
    ":::"
   ]
  },
  {
   "cell_type": "code",
   "execution_count": null,
   "id": "0184bfb2-60a7-46e9-9b00-de1dd279a414",
   "metadata": {
    "tags": []
   },
   "outputs": [],
   "source": [
    "print(f'len(L1) = {len(L1)}')\n",
    "print(f'abs(-3) = {abs(-3)}')"
   ]
  },
  {
   "cell_type": "markdown",
   "id": "b0e607f7-49ad-46d6-a56e-e1fd6635bf77",
   "metadata": {
    "tags": [],
    "user_expressions": []
   },
   "source": [
    "# Affichage intelligent"
   ]
  },
  {
   "cell_type": "markdown",
   "id": "6bc2d7e8-99ff-4d1e-b9ab-10f2fc3a3e9c",
   "metadata": {},
   "source": [
    ":::{tip}Afficher du texte et des valeurs\n",
    "Plutôt que d'afficher uniquement un résultat numérique, il est utile d'afficher\n",
    "du texte décrivant ce qui est affiché. On peut pour cela combiner une chaîne de caractères\n",
    "avec la valeur d'une variable dans la fonction `print`.\n",
    "\n",
    "Essayez ça avec la cellule suivante.\n",
    ":::"
   ]
  },
  {
   "cell_type": "code",
   "execution_count": null,
   "id": "e017317f-d09c-42a2-9336-676459a6ab08",
   "metadata": {
    "tags": []
   },
   "outputs": [],
   "source": [
    "print(\"L1 =\", L1)"
   ]
  },
  {
   "cell_type": "markdown",
   "id": "a8c723c8-5944-4585-978a-cfc2714b98b2",
   "metadata": {
    "tags": [],
    "user_expressions": []
   },
   "source": [
    ":::{tip}_f-strings_\n",
    "Une manière plus concise d'afficher une chaîne de caractères avec une valeur est\n",
    "d'utiliser des _f-strings_, des chaînes de caractères capables de formatter l'affichage\n",
    "d'une variable.\n",
    "\n",
    "Elles se définissent en plaçant un `f` devant l'apostrophe ouvrante :\n",
    "```\n",
    "'ma chaîne'  # une chaîne normale\n",
    "f'ma châine' # une f-string\n",
    "```\n",
    "\n",
    "Dans ce cas, mettre des accolades `{}` autour d'une variable affichera sa valeur.\n",
    "```\n",
    "f'L1 = {L1}'\n",
    "```\n",
    "\n",
    "Pour les valeurs numériques, on peut définir la manière dont on veut l'afficher.\n",
    "Pour cela, après la variable en question, on écrit la manière d'afficher après \":.\".\n",
    "On doit indiquer deux choses :\n",
    "1) la précision, c'est-à-dire le nombre de chiffres après la virgule ;\n",
    "2) le type d'affichage.\n",
    "Les types qu'on utilisera seront\n",
    "- `f` pour l'affichage décimal classique (`f` comme _float_)\n",
    "- `e` pour l'affichage scientifique.\n",
    "```\n",
    "x = 1/3\n",
    "f'x = {1/3:.2f}'\n",
    "f'x = {1/3:.2e}'\n",
    "```\n",
    "Modifiez la précision et le type dans les cellules suivantes :\n",
    ":::"
   ]
  },
  {
   "cell_type": "code",
   "execution_count": null,
   "id": "d22d8502-f31e-4717-9859-78790af9d07e",
   "metadata": {
    "tags": []
   },
   "outputs": [],
   "source": [
    "x = 12309.1812308\n",
    "print(f'x = {x:.} cm')     # affichage décimal avec 5 chiffres après la virugle\n",
    "print(f'x = {x:.} cm')     # affichage scientifique avec 2 chiffres après la virugle"
   ]
  },
  {
   "cell_type": "markdown",
   "id": "f63035c9-dbb5-4944-8940-575bcf203cdb",
   "metadata": {
    "tags": [],
    "user_expressions": []
   },
   "source": [
    "# Gestion de données"
   ]
  },
  {
   "cell_type": "markdown",
   "id": "2bb3beec-41ad-4c7e-8bb0-b2c1ed88738d",
   "metadata": {
    "tags": [],
    "user_expressions": []
   },
   "source": [
    ":::{tip}Listes et indices\n",
    "Les listes sont naturellement l'objet qu'on a tendance à utiliser pour sauvegarder un set de données.\n",
    "On peut extraire une valeur d'une liste en l'appelant avec son indice depuis la liste, indiqué entre\n",
    "crochets après celle-ci :\n",
    "```\n",
    "L1 = [1, 2, 3]\n",
    "L1[indice]\n",
    "```\n",
    "On peut également prendre une série d'éléments de `indice1` à `indice2-1` avec\n",
    "```\n",
    "L1[indice1:indice2]\n",
    "```\n",
    "Si `indice2` est vide, alors on va jusqu'au dernier élément *inclus*.\n",
    "\n",
    "Il existe aussi les indices **négatifs** : ils permettent de lire la liste dans l'autre sens. Notamment,\n",
    "`L1[-1]` prendra le dernier élément.\n",
    "\n",
    "Entraînez-vous avec les cellules ci-dessous.\n",
    ":::"
   ]
  },
  {
   "cell_type": "markdown",
   "id": "b45e19cd-b5da-4267-a4bd-0b41a18312fe",
   "metadata": {
    "tags": [],
    "user_expressions": []
   },
   "source": [
    ":::{warning}Attention !\n",
    "En Python, les indices *commençent à 0*, et le second indice d'une série n'est pas pris !\n",
    ":::"
   ]
  },
  {
   "cell_type": "code",
   "execution_count": null,
   "id": "63e0e725-82ff-40cc-878f-f7d724938d60",
   "metadata": {},
   "outputs": [],
   "source": [
    "L1 = [1, 2, 3, 4, 5, 6, 7, 8]\n",
    "# Extraire le deuxième élément :\n",
    "print(f'Deuxième élément = {L1[à remplir]})')\n",
    "# Extraire les 4 premiers éléments\n",
    "print(f'4 premiers = {L1[à remplir]})')\n",
    "# Extraire tous les éléments à partir du troisième\n",
    "print(f'3ème et plus = {L1[à remplir]})')\n",
    "# Extraire le nombre 6\n",
    "print(f'Nombre 6 = {L1[à remplir]})')\n",
    "# Prendre les nombres de 3 à 6\n",
    "print(f'3 4 5 6 = {L1[à remplir]})')\n",
    "# Prendre le dernier élément\n",
    "print(f'8 = {L1[à remplir]})')\n",
    "# Extraire les 5 derniers éléments\n",
    "print(f'5 derniers = {L1[à remplir]})')"
   ]
  },
  {
   "cell_type": "markdown",
   "id": "f48e9759-ed7d-4a42-aab7-6c57fcba990f",
   "metadata": {
    "tags": [],
    "user_expressions": []
   },
   "source": [
    ":::{tip}Ajouter une valeur ou une liste à une autre liste\n",
    "```\n",
    "L1.append(valeur)\n",
    "L3 = L1 + L2\n",
    "L3 = L1 + [1, 2, 3]\n",
    "```\n",
    ":::"
   ]
  },
  {
   "cell_type": "code",
   "execution_count": null,
   "id": "8d1364ef-bded-4f84-9a57-1b96aad25425",
   "metadata": {
    "tags": []
   },
   "outputs": [],
   "source": [
    "L2 = [5, 6, 7]\n",
    "L1 + L2"
   ]
  },
  {
   "cell_type": "markdown",
   "id": "93721a8b-49b4-493c-93db-7953842dfc62",
   "metadata": {
    "tags": [],
    "user_expressions": []
   },
   "source": [
    ":::{note}Librairies de fonctions\n",
    "Les fonctionnalités de Python sont nombreuses, mais il en existe de nombreuses spécifiques à une\n",
    "utilisation dans des librairies de fonctions. Une librairie peut avoir des sous-librairies.\n",
    "Par souci de mémoire, ces librairies ne sont pas chargées par défaut, et il faudra les \"importer\"\n",
    "avant de pouvoir les utiliser :\n",
    "\n",
    "```\n",
    "import librairie\n",
    "```\n",
    "\n",
    "Pour distinguer une fonction qui serait définie de la même manière dans deux librairies, il faut\n",
    "spécifier son origine en écrivant \"librairie.fonction()\". Pour éviter l'écriture systématique du nom\n",
    "de la librairie, on peut l'importer avec un alias. Par exemple avec la fonction `sinus` de la librairie\n",
    "`math` :\n",
    "```\n",
    "import math as m\n",
    "m.sin()\n",
    "```\n",
    "Vous serez peut-être conseillé-es d'écrire `from math import *`, pour charger *sans alias* toutes\n",
    "les fonction de `math`. Je m'y oppose fermement, ceci écrasant la connaissance de la librairie\n",
    "d'origine, surtout quand d'autres librairies ont une implémentation différente d'une fonction de\n",
    "`math`.\n",
    ":::"
   ]
  },
  {
   "cell_type": "markdown",
   "id": "f16007aa-110a-4cad-a3f9-1a463b918778",
   "metadata": {},
   "source": [
    ":::{warning} `math` en physique\n",
    "On n'utilisera _jamais_ `math` en physique-chimie.\n",
    ":::"
   ]
  },
  {
   "cell_type": "markdown",
   "id": "68a248fd-d4d8-45d6-91e3-78514fbd629b",
   "metadata": {
    "tags": [],
    "user_expressions": []
   },
   "source": [
    ":::{tip}Listes et tableaux\n",
    "Les opérations sur les listes sont cependant peu naturelles pour l'utilisation qu'on en fait en physique. Testez par exemple `2*L1`, ou `L1+1`.\n",
    "\n",
    "Pour ces raisons, le traitement de données se fait avec des tableaux, ou *array* en anglais, de la librairie `numpy`. Ils fonctionnent comme on peut s'y attendre de manière naturelle, et les fonctions de la librairie (comme `numpy.sin`) peut s'appliquer directement sur des listes (`math.sin` ne le peut pas).\n",
    ":::"
   ]
  },
  {
   "cell_type": "code",
   "execution_count": null,
   "id": "cacd6528-8800-4693-b42d-26351deb07f5",
   "metadata": {
    "tags": []
   },
   "outputs": [],
   "source": [
    "print(2*L1)\n",
    "print(L1+1)"
   ]
  },
  {
   "cell_type": "code",
   "execution_count": null,
   "id": "f971b64f-d6ec-4784-a41a-5ae40af8a86e",
   "metadata": {
    "tags": []
   },
   "outputs": [],
   "source": [
    "import numpy as np\n",
    "print(np.array(L1)+1)"
   ]
  },
  {
   "cell_type": "markdown",
   "id": "f67fa63b-5b91-416b-bc70-d9253abd181f",
   "metadata": {},
   "source": [
    ":::{important}Python pour la physique\n",
    "Ainsi, nous utiliserons _exclusivement_ des tableaux (_array_) en physique !\n",
    ":::"
   ]
  },
  {
   "cell_type": "markdown",
   "id": "b61c9295-6819-4cfd-824c-5572d7e4cda3",
   "metadata": {},
   "source": [
    ":::{hint}À retenir pour les tableaux\n",
    "La fonction `array` de `numpy` est une _fonction_, donc son entrée se met entre\n",
    "parenthèses après le nom de la fonction, comme `f(x)`. L'entrée de `np.array`\n",
    "est une _liste_, donc définie par `liste = [valeur1, valeur2, …]`. Pour définir\n",
    "un tableaux de valeurs d'intensités par exemple, on écrira\n",
    "```\n",
    "I = np.array([0.1, 0.2, 0.3])    # mA\n",
    "```\n",
    "Le caractère `#` indique un commentaire : ce qui se situe après ce symbole n'est pas\n",
    "pris en compte comme du code. On les utilisera pour indiquer l'unité utilisée.\n",
    ":::"
   ]
  },
  {
   "cell_type": "code",
   "execution_count": null,
   "id": "8aa8b5ac-26f4-4aa8-a0d0-2d54461f8f82",
   "metadata": {
    "tags": []
   },
   "outputs": [],
   "source": [
    "I = np.array([0.1, 0.2, 0.3])\n",
    "print(f'I = {I}, type = {type(I)}')\n",
    "I = [1, 2, 3]\n",
    "I = np.array(I)*1e-1\n",
    "print(I)"
   ]
  },
  {
   "cell_type": "markdown",
   "id": "28313a1d-354b-4a21-bf00-f7b470795c99",
   "metadata": {
    "tags": [],
    "user_expressions": []
   },
   "source": [
    ":::{hint}Fonctions `numpy` utiles\n",
    "- `np.ones(N)` : créé un tableau de taille N dont chaque valeur vaut `1`. Très utile pour créer un tableau avec un valeur répétée grâce à la multiplication par un scalaire : `1e-2*np.ones(5)` créé le tableau `[0.05, 0.05, 0.05, 0.05, 0.05]`.\n",
    "- `np.sqrt(x)` : donne la racine carrée d'un nombre (ou d'un tableau !).\n",
    "- `np.sin(x)` : applique la fonction `sinus` à un nombre (ou un tableau !).\n",
    "- toutes les autres fonctions usuelles : `np.cos`, `np.exp`, `np.log`…\n",
    "- `np.linspace(min, max, nombre)` : découpe l'intervalle [min, max] en `nombre` parties égales.\n",
    "\n",
    "La sortie est un **tableau**.\n",
    "- `np.polyfit(X, Y, d)` : réalise un ajustement polynomial de degré `d` entre les valeurs de `X` en abscisse et des `Y` en ordonnée.\n",
    "\n",
    "La sortie est un **tableau** avec les valeurs des coefficients.\n",
    "Par exemple, pour un ajustement linéaire (une régression donc), on ajuste un modèle de degré `d = 1` de la forme `y = a*x+b`. Les valeurs de `np.polyfit(X, Y, 1)` sont celles de `a` et de `b`. On peut les sauvegarder en écrivant :\n",
    "```\n",
    "a, b = np.polyfit(X, Y, 1)\n",
    "```\n",
    "- `np.mean(liste)` : donne la valeur moyenne d'une liste (ou d'un tableau).\n",
    "\n",
    "La sortie est une valeur décimale.\n",
    "- `np.std(liste, ddof=1)` : donne l'écart-type de la liste (ou du tableau). `ddof` permet d'avoir l'écart-type tel que défini dans la fiche pratique `TP00 - Mesures et incertitudes`. Sans cette valeur, ce n'est pas `1/(n-1)` qui est utilisé dans la racine, mais `1/n`.\n",
    ":::"
   ]
  },
  {
   "cell_type": "markdown",
   "id": "a57de1a0-cc77-4bf6-8bfc-7f6a93e5f380",
   "metadata": {},
   "source": [
    "## Utilisation de `np.polyfit`"
   ]
  },
  {
   "cell_type": "code",
   "execution_count": null,
   "id": "89f7b193-b370-4495-b1a0-4436c1925d59",
   "metadata": {
    "tags": []
   },
   "outputs": [],
   "source": [
    "X = np.array([0 , 2 , 4 , 6 , 8 , 10])\n",
    "Y = np.array([0.5 , 7.9 , 11 , 17.5 , 26 , 31.8])\n",
    "print(f'résultat de np.polyfit : {np.polyfit(X, Y, 1)}')\n",
    "a, b = np.polyfit(X, Y, 1)         # « a » le coefficient directeur, « b » l'ordonnée à l'origine\n",
    "print(f\"a = {a:.3f}, b = {b:.3f}\") # .3f pour 3 valeurs après la virgule"
   ]
  },
  {
   "cell_type": "markdown",
   "id": "8533e391-232d-47ad-8d5f-6947fc1ce886",
   "metadata": {},
   "source": [
    "## Exemple d'utilisation de `np.mean`, `np.std` et `np.sqrt` pour l'incertitude type A sur la mesure du dégré d'alcool d'un vin (voir `TP00 - Mesures et incertitudes`)"
   ]
  },
  {
   "cell_type": "code",
   "execution_count": null,
   "id": "e85af8fd-e488-40c1-9e05-fd547a67cc61",
   "metadata": {
    "tags": []
   },
   "outputs": [],
   "source": [
    "vals = np.array ([11.9 , 12.5, 13.1 , 12.4, 12.9 , 12.6 , 12.8 , 12.6])\n",
    "mean = np.mean(vals)\n",
    "ecarttype = np.std(vals , ddof=1)\n",
    "incertype = ecarttype/np.sqrt(len(vals))\n",
    "print(f'D = {mean :.2f} +- {incertype :.2f}')"
   ]
  },
  {
   "cell_type": "markdown",
   "id": "2d20d472-9101-4196-926a-c25a5650a730",
   "metadata": {},
   "source": [
    ":::{warning}Attention !\n",
    "Dans le monde anglo-saxon, `log` est la fonction inverse de `exp`, c'est-à-dire `ln` en France. \n",
    "Pour avoir le `log` français, la fonction inverse de `10^x`, il faut indiquer la base 10 du logarithme :\n",
    "```\n",
    "print(np.log10(10))       # = 1\n",
    "print(np.log(np.exp(1)))  # = 1\n",
    "```\n",
    ":::"
   ]
  },
  {
   "cell_type": "code",
   "execution_count": null,
   "id": "9682ffa8-e851-4e02-b618-47266bcc16cc",
   "metadata": {
    "tags": []
   },
   "outputs": [],
   "source": [
    "np.log(np.exp(1))"
   ]
  },
  {
   "cell_type": "markdown",
   "id": "eb0dcc45-9142-43a7-8cfc-b02ffc587adc",
   "metadata": {
    "tags": [],
    "user_expressions": []
   },
   "source": [
    "# La versatilité des fonctions"
   ]
  },
  {
   "cell_type": "markdown",
   "id": "fae1125f-71f4-45b4-b26a-0244dd2cabb8",
   "metadata": {},
   "source": [
    ":::{tip}Fonctions utilisataire\n",
    "Pour créer sa propre fonction, on écrit :\n",
    "```\n",
    "def fonction(entrée1, entrée2):\n",
    "    INSTRUCTIONS\n",
    "    return(VALEUR FINALE)\n",
    "```\n",
    "***Les indentations (espaces en début de ligne) sont nécessaires***\n",
    "\n",
    "Définissez la fonction `puissance2` qui prend une variable `nbre` en entrée, et sort sa valeur au carré\n",
    ":::"
   ]
  },
  {
   "cell_type": "code",
   "execution_count": null,
   "id": "6ce8f9a6-8d80-4eeb-a347-7ba5a916eb02",
   "metadata": {
    "tags": []
   },
   "outputs": [],
   "source": []
  },
  {
   "cell_type": "markdown",
   "id": "ae790315-ebcb-4eb4-bb66-b1fc1bda6369",
   "metadata": {},
   "source": [
    "#### Vérification du type de la fonction et de sa sortie"
   ]
  },
  {
   "cell_type": "code",
   "execution_count": null,
   "id": "f85f334c-6380-49b1-9540-152dab54f573",
   "metadata": {
    "tags": []
   },
   "outputs": [],
   "source": [
    "print(f'type de `puissance2` : {type(puissance2)}, \\ntype de `puissance2(3)` : {type(puissance2(3))},\\ntype de `puissance2(3.)` : {type(puissance2(3.))}')"
   ]
  },
  {
   "cell_type": "markdown",
   "id": "1edf720b-78ba-4329-8e5e-d61389e4f558",
   "metadata": {},
   "source": [
    ":::{tip}Variables globales, locales et arguments.\n",
    "- Globale :\n",
    "\n",
    "Toute variable définie dans le corps d'une cellule de code est sauvegardée dans la mémoire.\n",
    "Il faut réinitialiser le notebook pour forcer l'oubli. Ainsi, vous avez encore accès\n",
    "à la variable `x` définie au début de ce notebook. Ce sont des variables *globales*\n",
    "\n",
    "- Locale :\n",
    "\n",
    "En revanche, toute variable définie à l'intérieur d'une fonction est oubliée à sa sortie.\n",
    "Elles sont donc *locales*.\n",
    "\n",
    "- Arguments :\n",
    "\n",
    "Lors de la définition d'une fonction, les entrées sont appelées _arguments_. Le nom utilisé\n",
    "pour les arguments est décorélé des variables globales, ce sont comme des \"variables silencieuse\".\n",
    "Ainsi, si je définis `x=3`, puis que je créé une fonction `def fonction(x):`, ce `x` n'a **rien à voir**\n",
    "avec la variable globale définie plus tôt. Elle sert juste à faire référence à l'_argument_ donné à la fonction\n",
    "à l'intérieur des instructions.\n",
    ":::"
   ]
  },
  {
   "cell_type": "code",
   "execution_count": null,
   "id": "fb963be2-a462-46cc-aaa1-fef059e0ec91",
   "metadata": {
    "tags": []
   },
   "outputs": [],
   "source": [
    "def fff(a, x, b):     # les arguments sont a, x et b, dans cet ordre\n",
    "    resultat = a*x+b  # resultat sera oublié après l'exécution de fff\n",
    "    return(resultat)  # La fonction donnera comme résultat la valeur de a*x+b\n",
    "\n",
    "print(f'fff(1,2,3) = {fff(1, 2, 3)}')\n",
    "arg1 = 1\n",
    "arg2 = 2\n",
    "arg3 = 3\n",
    "print(f'fff(arg1,arg2,arg3) = {fff(arg1, arg2, arg3)}')\n",
    "a = 4\n",
    "x = 5\n",
    "b = 6\n",
    "print(f'fff(a,x,b) = {fff(a, x, b)}')"
   ]
  },
  {
   "cell_type": "markdown",
   "id": "98197a0f-78ff-4411-972f-b38c1a1f4845",
   "metadata": {
    "tags": [],
    "user_expressions": []
   },
   "source": [
    ":::{tip}Instructions conditionnelles\n",
    "À l'intérieur d'une fonction, on peut vouloir effectuer une action selon une\n",
    "certaine condition, et une autre sinon. On utilise pour ça les instructions `if` et `else`.\n",
    "```\n",
    "def valabs(x):\n",
    "    if x>=0:\n",
    "        return x\n",
    "    else:\n",
    "        return -x\n",
    "```\n",
    "Ici aussi, les indentations sont nécessaires. Pour ces conditions, on a les opérateurs suivants :\n",
    "- `>` pour strictement supérieur\n",
    "- `<` pour strictement inférieur\n",
    "- `>=` et `<=` pour supérieur ou égal et inférieur ou égal\n",
    "- `==` pour une égalité : `if type(x)==int:`, `if x==3:`\n",
    "- `!=` pour une non-égalité : `if x!=2:`\n",
    "- `&` pour combiner deux conditions sous la forme `if (cond1) & (cond2):`\n",
    "- `~` pour la négation d'une condition : `if ~cond1:`\n",
    "\n",
    "On peut également imbriquer des conditions avec `elif`:\n",
    "```\n",
    "def comparaison(x,y):\n",
    "    if x > y:\n",
    "        print(\"le premier argument est supérieur au second\")\n",
    "    elif x < y:\n",
    "        print(\"le premier argument est inférieur au second\")\n",
    "    else:\n",
    "        print(\"le premier argument est égal au second\")\n",
    "```\n",
    ":::"
   ]
  },
  {
   "cell_type": "code",
   "execution_count": null,
   "id": "9166be9f-11f3-4254-aa69-098a279f91f1",
   "metadata": {
    "tags": []
   },
   "outputs": [],
   "source": [
    "x = 1\n",
    "if type(x)==int:\n",
    "    print('yes')\n",
    "else:\n",
    "    print('no')"
   ]
  },
  {
   "cell_type": "code",
   "execution_count": null,
   "id": "1ca9ba71-3bba-4c8e-82ec-4255ac67186a",
   "metadata": {
    "tags": []
   },
   "outputs": [],
   "source": [
    "x = 10\n",
    "if (x>3) & (x<10):\n",
    "    print(f'x = {x}')\n",
    "elif x<=3:\n",
    "    print('x <= 3')\n",
    "elif (x>=10):\n",
    "    print('x >= 10')"
   ]
  },
  {
   "cell_type": "code",
   "execution_count": null,
   "id": "0484812a-8395-47e8-a429-0c36579fe1c4",
   "metadata": {},
   "outputs": [],
   "source": [
    "# Écrire une fonction \"chatchiencanard\" dont le résultat est \"chien\" si la valeur est de 1, \"chat\" si la valeur est 2, \"canard\" sinon.\n",
    "def chatchiencanard():\n",
    "    …\n",
    "    …\n",
    "    …\n",
    "\n",
    "print(f'chatchiencnard(1) = {chatchiencanard(1)}')\n",
    "print(f'chatchiencnard(2) = {chatchiencanard(2)}')\n",
    "print(f'chatchiencnard(40) = {chatchiencanard(40)}')"
   ]
  },
  {
   "cell_type": "markdown",
   "id": "49d523ee-acfe-4c54-8f34-c27378e7e65b",
   "metadata": {
    "tags": [],
    "user_expressions": []
   },
   "source": [
    ":::{tip}Boucles _for_\n",
    "Il est commun de vouloir exécuter une série d'opérations un certain nombre de fois.\n",
    "On peut utiliser pour cela l'instruction `for`.\n",
    "\n",
    "Après ce mot, on donne une variable _globale_ qui appartient à un ensemble fini\n",
    "d'éléments, puis la série d'instruction en-dessous de cette ligne s'exécutera pour\n",
    "chacun de ces éléments.\n",
    "\n",
    "L'ensemble fini peut être une liste, un tableau, ou le plus souvent un `range`.\n",
    "La fonction `range(min, max)` génère une suite de valeurs entières de `min` à\n",
    "`max -1`.\n",
    "```\n",
    "for i in range(3):    # on omet la valeur minimale : dans ce cas min = 0\n",
    "    print(i)\n",
    "```\n",
    "\n",
    "La fonction `enumerate` prend un ensemble fini et compte l'avancée de la boucle :\n",
    "```\n",
    "for compteur, élément in enumerate(L1):\n",
    "    print(f'compteur = {compteur}, élément = {élément}')\n",
    "```\n",
    ":::"
   ]
  },
  {
   "cell_type": "code",
   "execution_count": null,
   "id": "3e5cc302-f3a8-44bf-b9e2-d9aadf830a28",
   "metadata": {
    "tags": []
   },
   "outputs": [],
   "source": [
    "for i in range(3):    # on omet la valeur minimale : dans ce cas min = 0\n",
    "    print(f'i = {i}')\n",
    "print()\n",
    "for compteur, élément in enumerate(L1):\n",
    "    print(f'compteur = {compteur}, élément = {élément}')\n",
    "    print(f'L1[{compteur}] = {élément}')"
   ]
  },
  {
   "cell_type": "markdown",
   "id": "90824d5b-01e3-4c94-8327-f40080b98c93",
   "metadata": {},
   "source": [
    ":::{hint}Raccourci de `for`\n",
    "Il est possible d'inverser l'instruction et la boucle au sein d'une liste pour\n",
    "la générer directement :\n",
    "```\n",
    "mylist = [3*i for i in range(5)]\n",
    "mylist2 = [3*L for L in mylist]\n",
    "```\n",
    "\n",
    "Cette boucle _a posteriori_ peut se combiner avec une condition :\n",
    "```\n",
    "mylist3 = [3*L for L in mylist if L<9]\n",
    "```\n",
    "Cette fonctionnalité pourra s'avérer utile, mais les tableaux `numpy` permettent d'éviter ce genre d'opération, par exemple\n",
    "```\n",
    "mytab = np.array([3*i for i in range(5)])\n",
    "mytab2 = 3*mytab\n",
    "```\n",
    "réalise la même opération que précédemment.\n",
    ":::"
   ]
  },
  {
   "cell_type": "code",
   "execution_count": null,
   "id": "37da2ce7-015e-4c0f-b1c6-62f19f4ad893",
   "metadata": {
    "tags": []
   },
   "outputs": [],
   "source": [
    "mylist = [3*i for i in range(5)]\n",
    "print(f'mylsist = {mylist}')\n",
    "mylist2 = [3*L for L in mylist]\n",
    "print(f'mylsist2 = {mylist2}')\n",
    "mylist3 = [3*L for L in mylist if L<9]\n",
    "print(f'mylsist3 = {mylist3}')"
   ]
  },
  {
   "cell_type": "markdown",
   "id": "b3e89aed-1319-4d22-ba88-ba59b0cf0518",
   "metadata": {},
   "source": [
    "# Tracer des graphiques"
   ]
  },
  {
   "cell_type": "markdown",
   "id": "a5581840-8b8c-42a8-ab70-54a3ebe21ef7",
   "metadata": {
    "tags": [],
    "user_expressions": []
   },
   "source": [
    ":::{tip}Tracé simple\n",
    "La librairie `matplotlib` contient de nombreux outils pour le tracé de fonctions.\n",
    "C'est la sous-librairie `matplotlib.pyplot` qu'on utilisera, sous l'alias `plt` :\n",
    "```\n",
    "import matplotlib.pyplot as plt\n",
    "```\n",
    "Sa fonction principale, `plt.plot`, prend au minimum deux arguments :\n",
    "1) une liste de points d'abscisse d'abord\n",
    "2) une liste de points d'ordonnée ensuite\n",
    "\n",
    "Elles doivent être de la même taille. Le graphique doit ensuite être appelé par la\n",
    "fonction `plt.show()` (actif par défaut dans un Notebook, pas dans un script)\n",
    "```\n",
    "X = np.array([1, 2, 3, 4])\n",
    "Y = X**2\n",
    "plt.plot(X, Y)\n",
    "plt.show{}\n",
    "```\n",
    ":::"
   ]
  },
  {
   "cell_type": "code",
   "execution_count": null,
   "id": "1b9076c3-cc7b-41cf-94c7-52d9ae08f69c",
   "metadata": {
    "tags": []
   },
   "outputs": [],
   "source": [
    "import matplotlib.pyplot as plt"
   ]
  },
  {
   "cell_type": "code",
   "execution_count": null,
   "id": "c2071f93-3126-4173-b300-419de15f8c3d",
   "metadata": {
    "tags": []
   },
   "outputs": [],
   "source": [
    "X = np.array([1, 2, 3, 4])\n",
    "Y = X**2\n",
    "plt.plot(X, Y)"
   ]
  },
  {
   "cell_type": "markdown",
   "id": "ac7e7540-deb7-4589-b250-efda994afe6c",
   "metadata": {
    "tags": [],
    "user_expressions": []
   },
   "source": [
    ":::{tip}Légende\n",
    "Pour donner un nom à un tracé qui soit affiché dans la légende, on ajoute\n",
    "`label=` dans la fonction **puis** on appelle la fonction `plt.legend()`.\n",
    "Elle possède ses propres paramètres, mais ses défauts sont satisfaisants.\n",
    "```\n",
    "plt.plot(X, Y, label=\"mes données\")\n",
    "plt.legend()\n",
    "```\n",
    ":::"
   ]
  },
  {
   "cell_type": "code",
   "execution_count": null,
   "id": "1e17f8f6-bad4-46d2-8ed7-2bc0141aeb7b",
   "metadata": {
    "tags": []
   },
   "outputs": [],
   "source": [
    "plt.plot(X, Y, label=\"données\")\n",
    "plt.plot(X-1, Y-1, label=\"données décalées\")\n",
    "plt.legend()"
   ]
  },
  {
   "cell_type": "markdown",
   "id": "509d8138-10cf-4be2-bcf2-52aad9690dcc",
   "metadata": {
    "tags": [],
    "user_expressions": []
   },
   "source": [
    ":::{tip}Modifier le style : couleur, marker et ligne.\n",
    "Après les données, `plt.plot` prend comme argument le style du tracé,\n",
    "exprimé par une chaîne de caractères de 3 éléments, par exemple `ro-` :\n",
    "1) le premier caractère indique la couleur, 'r' pour _red_, 'b' pour _blue_ etc ;\n",
    "2) le deuxième indique le marker à utiliser pour les points, par exemple 'o' pour des cercles, \"+\" pour une croix ;\n",
    "3) le dernier indique le style de la ligne joignant les points.\n",
    "```\n",
    "plt.plot(X, Y, 'o-')\n",
    "```\n",
    "Exemples :\n",
    "- 'b'    # blue markers with default shape\n",
    "- 'or'   # red circles\n",
    "- '-g'   # green solid line\n",
    "- '--'   # dashed line with default color\n",
    "- '^k:'  # black triangle_up markers connected by a dotted line\n",
    "\n",
    "Tous les styles disponibles sont référencés dans la partie `Note` de [ce site](https://matplotlib.org/stable/api/_as_gen/matplotlib.pyplot.plot.html)\n",
    ":::"
   ]
  },
  {
   "cell_type": "code",
   "execution_count": null,
   "id": "5771d426-3249-4454-91fe-644c5d5cb19c",
   "metadata": {
    "tags": []
   },
   "outputs": [],
   "source": [
    "plt.plot(X, Y, 'o-')"
   ]
  },
  {
   "cell_type": "code",
   "execution_count": null,
   "id": "82242386-3e47-4d1d-b716-fa1dcc942b2e",
   "metadata": {
    "tags": []
   },
   "outputs": [],
   "source": [
    "plt.plot(X, Y, 'r+--')"
   ]
  },
  {
   "cell_type": "markdown",
   "id": "d5c3328b-5f97-4db1-9743-cafe143b65a6",
   "metadata": {
    "tags": [],
    "user_expressions": []
   },
   "source": [
    ":::{tip}Modifier le style : couleur, marker et ligne, avancé\n",
    "Chacun des paramètres précédent peut être modifié individuellement à l'intérieur\n",
    "de `plt.plot`. On trouvera _par exemple_ :\n",
    "- `color=green`\n",
    "- `marker=\"+\"`\n",
    "- `linestyle=\"dashed\"`\n",
    "\n",
    "et d'autres sous-paramètres :\n",
    "- `alpha=.5` pour changer l'opacité du tracé\n",
    "- `linewidth=2` pour changer l'épaisseur du tracé\n",
    "- `markersize=12` pour changer la taille du marker\n",
    ":::"
   ]
  },
  {
   "cell_type": "code",
   "execution_count": null,
   "id": "1a2f57a9-502d-4324-8481-c133ba4a634c",
   "metadata": {
    "tags": []
   },
   "outputs": [],
   "source": [
    "plt.plot(X, Y,\n",
    "         color=\"g\",\n",
    "         marker=\"^\",\n",
    "         linestyle=\"dotted\",\n",
    "         linewidth=2,\n",
    "         markersize=10,\n",
    "         label=\"Courbe verte marker diamant et pointillés\")\n",
    "plt.legend()"
   ]
  },
  {
   "cell_type": "markdown",
   "id": "2dd7f76c-2bfc-4289-b34b-ee2b06a7148d",
   "metadata": {
    "tags": [],
    "user_expressions": []
   },
   "source": [
    ":::{tip}Type de tracé\n",
    "Vous remarquerez que par défaut, `plt.plot` relie les points par des droites.\n",
    "C'est souvent non désiré. Notamment, des données _expérimentales_ sont des\n",
    "relevés individuels : elles doivent être affichées individuellement. On utilisera soit :\n",
    "- `plt.scatter(X,Y)` : trace le **nuage de points** de X et Y\n",
    "- `plt.errorbar(X, Y, xerr=erreur_sur_x, yerr=erreur_sur_y)` : trace le nuage de points de X et Y mais en **représentant l'incertitude** sur chaque valeur.\n",
    "```\n",
    "X = np.array([1, 2, 3, 4])\n",
    "Y = X**2\n",
    "plt.scatter(X, Y)\n",
    "xerr = [0.1 for i in range(len(X))]\n",
    "xerr = [0.5 for i in range(len(X))]\n",
    "plt.errorbar(X, Y,\n",
    "             xerr, yerr,\n",
    "             capsize=3)\n",
    "```\n",
    ":::"
   ]
  },
  {
   "cell_type": "code",
   "execution_count": null,
   "id": "50126020-3cf3-422f-bddd-fa69516e7f01",
   "metadata": {
    "tags": []
   },
   "outputs": [],
   "source": [
    "X = np.linspace(0, 10, 10)\n",
    "Y = X**2\n",
    "plt.scatter(X, Y)"
   ]
  },
  {
   "cell_type": "code",
   "execution_count": null,
   "id": "1cf38f33-d6bf-4fa8-8569-20055a4cc046",
   "metadata": {
    "tags": []
   },
   "outputs": [],
   "source": [
    "xerr = [0.5 for i in range(len(X))]\n",
    "yerr = [10 for i in range(len(X))]\n",
    "plt.errorbar(X, Y,\n",
    "             xerr=xerr, yerr=yerr,\n",
    "             capsize=3)"
   ]
  },
  {
   "cell_type": "markdown",
   "id": "2f8669f5-0c64-4b77-8311-11644f45ba4d",
   "metadata": {
    "tags": [],
    "user_expressions": []
   },
   "source": [
    ":::{tip}Modifier l'affichage\n",
    "Maintenant, il faut pouvoir indiquer les axes, choisir les bornes du graphique,\n",
    "la taille des nombres pour voir de loin, éventuellement mettre un titre.\n",
    "Un exemple vaut mieux que mille mots :\n",
    "```\n",
    "plt.figure(figsize=(8, 6))                  # dimension horizontale, verticale\n",
    "plt.grid()                                  # affiche un quadrillage de lecture\n",
    "plt.xticks(fontsize=20)                     # affiche les nombres de l'axe x plus grand\n",
    "plt.yticks(fontsize=20)                     # affiche les nombres de l'axe y plus grand\n",
    "plt.xlabel('$grandeur$ en UNITÉ',           # Donne le nom de l'axe x, avec $$ pour le mode math\n",
    "           fontsize=20)                     # en grand\n",
    "plt.ylabel('$grandeur$ en UNITÉ',           # Donne le nom de l'axe y, avec $$ pour le mode math\n",
    "           fontsize=20)                     # en grand\n",
    "\n",
    "plt.scatter(X, Y,                           # trace un graphe avec X en abscisse et Y en ordonnée\n",
    "            marker='x', s=100,              # possibilité de customiser le tracé\n",
    "            color='blue',       \n",
    "            label='Données')                # pour la légende\n",
    "\n",
    "plt.title('Titre efficace et descriptif',\n",
    "          fontsize=20)\n",
    "plt.legend(fontsize=15)\n",
    "plt.xlim(min(X), max(X))                    # pour les limtes d'affichage en abscisse\n",
    "plt.ylim(min(Y), max(Y))                    # pour les limtes d'affichage en ordonnée\n",
    "plt.tight_layout()                          # évite les débordements ou rognages\n",
    "plt.show()\n",
    "```\n",
    ":::"
   ]
  },
  {
   "cell_type": "code",
   "execution_count": null,
   "id": "52efba10-4767-4409-ad7f-fd14a80c7260",
   "metadata": {
    "tags": []
   },
   "outputs": [],
   "source": [
    "plt.figure(figsize=(8, 6))     # dimension horizontale, verticale\n",
    "plt.grid()                     # affiche un quadrillage de lecture\n",
    "plt.xticks(fontsize=20)        # affiche les nombres de l'axe x plus grand\n",
    "plt.yticks(fontsize=20)        # affiche les nombres de l'axe y plus grand\n",
    "plt.xlabel('$x$ en cm',        # Donne le nom de l'axe x, $ pour le mode math\n",
    "           fontsize=20)        # en grand\n",
    "plt.ylabel('$y$ en cm',        # Donne le nom de l'axe y, $ pour le mode math\n",
    "           fontsize=20)        # en grand\n",
    "\n",
    "plt.scatter(X, Y,              # nuage de points X abscisse et Y ordonnée\n",
    "            color='blue',      # pour la couleur\n",
    "            marker='x', s=100, # possibilité de customiser le tracé\n",
    "            label='Données')   # pour la légende\n",
    "\n",
    "plt.plot(X, Y,                 # graphique relié\n",
    "         color=\"g\",            # couleur\n",
    "         marker=\"^\",           # marker\n",
    "         markersize=10,        # taille marker\n",
    "         linestyle=\"dotted\",   # type de ligne\n",
    "         linewidth=2,          # épaisseur\n",
    "         label=\"Courbe verte marker diamant et pointillés\")\n",
    "\n",
    "plt.title('Titre efficace et descriptif',\n",
    "          fontsize=20)\n",
    "plt.legend(fontsize=15)\n",
    "\n",
    "plt.tight_layout()             # évite les débordements ou rognages\n",
    "plt.xlim(min(X)-.1, max(X))    # pour les limites d'affichage en abscisse\n",
    "plt.ylim(min(Y)-1, max(Y))     # pour les limites d'affichage en ordonnée\n",
    "plt.show()"
   ]
  },
  {
   "cell_type": "markdown",
   "id": "0b8c9269-eccd-4cc1-8827-14a7fb6ad62d",
   "metadata": {
    "tags": [],
    "user_expressions": []
   },
   "source": [
    "# Incertitudes complexes : méthode de Monte-Carlo"
   ]
  },
  {
   "cell_type": "markdown",
   "id": "9d46ae10-830c-4b60-9218-caa698aafcc6",
   "metadata": {
    "tags": [],
    "user_expressions": []
   },
   "source": [
    ":::{note} Incertitudes\n",
    "On développera la notion d'incertitude rapidement au début de l'année. On s'intéresse ici à une manière de propager des incertitudes de mesures à une valeur calculée, quand celle-ci sera complexe à déterminer analytiquement.\n",
    "\n",
    "On dispose en effet généralement de plusieurs jeux de données pour\n",
    "lesquels on a des incertitudes de mesure, et on veut calculer $z$ qui dépend de\n",
    "ces données mais d'une manière complexe. On peut alors réaliser une simulation.\n",
    "\n",
    "Connaissant l'intervalle d'existence des mesures, on peut prendre\n",
    "aléatoirement d'autres valeurs possibles pour les mesures, et faire toute une\n",
    "série de calculs avec des valeurs légèrement modifiées. On pourra alors\n",
    "finalement prendre la moyenne des valeurs calculées et leur écart-type pour\n",
    "avoir la propagation des incertitudes : cela revient à effectuer un estimation d'incertitude de type A sur les valeurs calculées.\n",
    ":::"
   ]
  },
  {
   "cell_type": "markdown",
   "id": "21587638-dfe8-4d88-a3db-20e042f49a29",
   "metadata": {
    "tags": [],
    "user_expressions": []
   },
   "source": [
    ":::{tip} Application : mesure d'une distance focale\n",
    "Prenons un exemple concret : la détermination de la focale d'une lentille convergente par méthode de Bessel :\n",
    "$$\n",
    "\t\\boxed{f' = \\frac{D^{2}-d^{2}}{4D}}\n",
    "$$\n",
    "avec $d$ la plage de positions de la lentille qui garde une image nette sur\n",
    "l'écran, et $D$ la distance objet-écran. S'il est possible de faire le calcul\n",
    "analytique ici, il peut être plus rapide de réaliser une propagation des\n",
    "incertitudes des valeurs $d$ et $D$ sur la valeur calculée de $f'$.\n",
    "\n",
    "Pour cela,\n",
    "- On note les valeurs extrêmes de $d$ dans une liste `d_xtr` ;\n",
    "- On note les valeurs extrêmes de $D$ dans une liste `D_xtr` ;\n",
    "- On créé une liste liste_f vide qui accueillera les valeurs de\n",
    "      $f'$ calculées ;\n",
    "- On fixe $N > 10^4$ le nombre de simulations ;\n",
    "- Pour $i$ allant de 0 à $N-1$ :\n",
    "  - On tire aléatoirement une valeur de $d$ dans l'intervalle\n",
    "        `D_d` ;\n",
    "  - On tire aléatoirement une valeur de $D$ dans l'intervalle\n",
    "        `D_D` ;\n",
    "  - On calcule $f'$ avec ces données **simulées** ;\n",
    "  - On ajoute cette valeur simulée à la liste des valeurs de $f'$.\n",
    "- On calcule alors la valeur moyenne des $f'$, qui sera la valeur la plus\n",
    "      probable, et l'écart-type de la liste des $f'$, qui sera son\n",
    "      incertitude-type.\n",
    "`np.random.uniform(min, max)` est la fonction Python qui permet\n",
    "de tirer aléatoirement une valeur entre `min` et `max`.\n",
    "\n",
    "On reprend les résultats du TP01. À vous de remplir la partie simulation.\n",
    ":::"
   ]
  },
  {
   "cell_type": "markdown",
   "id": "69c2dc49-11cf-415a-b31f-3e19e9f82af9",
   "metadata": {
    "tags": [],
    "user_expressions": []
   },
   "source": [
    "### Valeurs expérimentales et incertitudes"
   ]
  },
  {
   "cell_type": "code",
   "execution_count": 16,
   "id": "d7847807-a66e-4a1d-9c14-2e22f952b0c0",
   "metadata": {
    "tags": []
   },
   "outputs": [],
   "source": [
    "import numpy as np\n",
    "import matplotlib.pyplot as plt"
   ]
  },
  {
   "cell_type": "code",
   "execution_count": 17,
   "id": "7e6860c7-ec61-4cca-afd1-c24b1e20e153",
   "metadata": {
    "tags": []
   },
   "outputs": [],
   "source": [
    "x1  = 11.6   # cm\n",
    "x2  = 80.2   # cm\n",
    "\n",
    "d = abs(x1-x2)\n",
    "\n",
    "D_bessel = 92     # cm"
   ]
  },
  {
   "cell_type": "code",
   "execution_count": 18,
   "id": "2c5e2a70-0338-410a-a6b7-12051550b766",
   "metadata": {
    "tags": []
   },
   "outputs": [],
   "source": [
    "ux1 = 0.1/np.sqrt(3) # cm\n",
    "ux2 = 0.1/np.sqrt(3) # cm\n",
    "\n",
    "ud = np.sqrt(2)*ux1  # cm\n",
    "\n",
    "uD_bessel = 0.1/np.sqrt(3)       # cm"
   ]
  },
  {
   "cell_type": "code",
   "execution_count": 19,
   "id": "3450da2e-1e0d-447c-80b3-9eafedf6a1f7",
   "metadata": {
    "tags": []
   },
   "outputs": [
    {
     "name": "stdout",
     "output_type": "stream",
     "text": [
      "x1 = 11.60 ± 0.06\n",
      "x2 = 80.20 ± 0.06\n",
      "d = 68.60 ± 0.08\n",
      "D_bessel = 92.00 ± 0.06\n"
     ]
    }
   ],
   "source": [
    "print(f'x1 = {x1:.2f} ± {ux1:.2f}')\n",
    "print(f'x2 = {x2:.2f} ± {ux2:.2f}')\n",
    "print(f'd = {d:.2f} ± {ud:.2f}')\n",
    "print(f'D_bessel = {D_bessel:.2f} ± {uD_bessel:.2f}')"
   ]
  },
  {
   "cell_type": "markdown",
   "id": "c6960a22-0fb5-463b-8c69-5503e56874ac",
   "metadata": {
    "tags": [],
    "user_expressions": []
   },
   "source": [
    "### Calcul de f'"
   ]
  },
  {
   "cell_type": "code",
   "execution_count": 20,
   "id": "53b3a3b2-1712-4169-a1ff-628a4964c66d",
   "metadata": {
    "tags": []
   },
   "outputs": [
    {
     "name": "stdout",
     "output_type": "stream",
     "text": [
      "f_bessel = 10.21 cm\n"
     ]
    }
   ],
   "source": [
    "f_bessel = (D_bessel**2 - d**2)/(4*D_bessel)       # cm\n",
    "print(f'f_bessel = {f_bessel:.2f} cm')"
   ]
  },
  {
   "cell_type": "markdown",
   "id": "41e0d29b-3026-46cb-880c-e4f7b1bf02a6",
   "metadata": {
    "tags": [],
    "user_expressions": []
   },
   "source": [
    "#### Incertitudes sur f_bessel"
   ]
  },
  {
   "cell_type": "markdown",
   "id": "d9c26c27-948c-4bdf-bcf1-88d129bd0789",
   "metadata": {},
   "source": [
    "##### Simulation Monte-Carlo"
   ]
  },
  {
   "cell_type": "code",
   "execution_count": 24,
   "id": "dd90e868-8746-4773-bd1f-458280ba6031",
   "metadata": {
    "tags": []
   },
   "outputs": [
    {
     "name": "stdout",
     "output_type": "stream",
     "text": [
      "f_bessel_MC = 10.212 ± 0.038 cm\n"
     ]
    }
   ],
   "source": [
    "Delta_d = ud*np.sqrt(3) # cm\n",
    "d_xtr =  [d - Delta_d, d + Delta_d]          # cm\n",
    "Delta_D_bessel = uD_bessel*np.sqrt(3)        # cm \n",
    "D_bessel_xtr = [D_bessel - Delta_D_bessel, D_bessel + Delta_D_bessel]   # cm\n",
    "\n",
    "N = 100000\n",
    "liste_f = []\n",
    "for i in range(0, N):\n",
    "    d_simu = np.random.uniform(d_xtr[0], d_xtr[1])\n",
    "    D_simu = np.random.uniform(D_bessel_xtr[0], D_bessel_xtr[1])\n",
    "    f_simu = (D_simu**2 - d_simu**2)/(4*D_simu)\n",
    "    liste_f.append(f_simu)\n",
    "\n",
    "f_bessel_MC = np.mean(liste_f)\n",
    "uf_bessel_MC = np.std(liste_f, ddof=1)\n",
    "print(f'f_bessel_MC = {f_bessel_MC:.3f} ± {uf_bessel_MC:.3f} cm')"
   ]
  },
  {
   "cell_type": "markdown",
   "id": "c8b69ac8-d652-4905-a87d-0a439c121f4d",
   "metadata": {
    "tags": [],
    "user_expressions": []
   },
   "source": [
    ":::{tip} Application : régression linéaire sur la relation de Descartes\n",
    "Prenons l'exemple de la régression linéaire :\n",
    "$$\n",
    "\ty = ax+b\n",
    "  \\quad\n",
    "  \\text{ici}\n",
    "  \\quad\n",
    "  \\boxed{\n",
    "\t\t\\frac{1}{\\overline{\\rm OA'}} = \\frac{1}{\\overline{\\rm OA}} + \\frac{1}{f'}\n",
    "  }\n",
    "$$\n",
    "\n",
    "On a mesuré $x=1/OA$ et $y=1/OA'$, et on obtient $a$ et $b=1/f'$ avec\n",
    "`np.polyfit(x, y, 1)`. Mais ce calcul ne donne pas l'incertitude sur $a$ et $b$.\n",
    "Les deux valeurs étant interdépendantes, on n'a pas d'expression analytique pour\n",
    "les déterminer : on va donc les simuler.\n",
    "\n",
    "Chaque valeur de $x$ est comprise dans un certain intervalle $x \\pm \\Delta_x$,\n",
    "et de même pour $y$. Plutôt que de prendre la valeur centrale et de calculer $a$\n",
    "et $b$ avec ces valeurs, on peut essayer de calculer $a$ et $b$ pour des valeurs\n",
    "de $x$ et de $y$ légèrement modifiées. On va donc réaliser un grand nombre de\n",
    "régressions linéaires en modifiant les valeurs de $x$ et $y$, et on prendra la\n",
    "moyenne des $a$ et $b$ comme étant la valeur centrale et leur écart-type pour\n",
    "leur incertitude. Pour cela,\n",
    "\n",
    "- On détermine les demi-largeurs $\\Delta_x$ et $\\Delta_y$. Si ont possède des\n",
    "      incertitudes-types, on aura $\\Delta_x = u(x)\\sqrt{3}$. Sinon, c'est la\n",
    "      demi-largeur de la plage des mesures valables.\n",
    "- On fixe un nombre $N$ très grand.\n",
    "- On créé des listes vides `liste_a` et `liste_b` pour y\n",
    "      stocker les futures valeurs des $a$ et des $b$ calculés.\n",
    "- Pour chaque $i$ compris entre $0$ et $N-1$ :\n",
    "  - on prend `x_simu` dans l'intervalle $[x-\\Delta_x,\n",
    "              x+\\Delta_x]$ ;\n",
    "  - on prend `y_simu` dans l'intervalle $[y-\\Delta_y,\n",
    "              y+\\Delta_y]$ ;\n",
    "  - on calcule `a_simu` et `b_simu` avec ces valeurs\n",
    "        simulées ;\n",
    "  - on les stocke dans `liste_a` et `liste_b`.\n",
    "- On a alors $N$ valeurs de $a$ et de $b$ : les valeurs les plus probables\n",
    "      sont les moyennes, et leurs incertitudes-types sont les les écarts-types des\n",
    "      listes de $a$ et de $b$.\n",
    "\n",
    "À partir des données de OA et OA', faire tourner la régression puis effectuer la\n",
    "simulation Monte-Carlo sur $a$ et $b$.\n",
    ":::"
   ]
  },
  {
   "cell_type": "markdown",
   "id": "8b5cb8d0-f4af-4ac8-b48b-2ca8250ec00c",
   "metadata": {
    "user_expressions": []
   },
   "source": [
    "### Valeurs expérimentales et incertitudes"
   ]
  },
  {
   "cell_type": "code",
   "execution_count": 25,
   "id": "aeca51d6-e58d-451b-88e8-31ba1e8dabc1",
   "metadata": {
    "tags": []
   },
   "outputs": [],
   "source": [
    "OA_list = np.array([19.4,\n",
    "                    13.5,\n",
    "                    12.3,\n",
    "                    11.7,\n",
    "                    11.3])  # cm\n",
    "uOA = .1/np.sqrt(3)         # cm\n",
    "OAp_list = np.array([20.6,\n",
    "                    36.5,\n",
    "                    47.7,\n",
    "                    58.3,\n",
    "                    68.7]) # cm\n",
    "uOAp = .1/np.sqrt(3)       # cm"
   ]
  },
  {
   "cell_type": "markdown",
   "id": "3fe984c9-35bf-4f5c-8e7c-17ca0ec6653a",
   "metadata": {
    "user_expressions": []
   },
   "source": [
    "### Régression"
   ]
  },
  {
   "cell_type": "code",
   "execution_count": 26,
   "id": "5202b79b-6541-4104-abad-5822dec960d9",
   "metadata": {
    "tags": []
   },
   "outputs": [
    {
     "name": "stdout",
     "output_type": "stream",
     "text": [
      "a = -0.922, b = 0.096\n",
      "f_reg = 10.42 cm\n"
     ]
    }
   ],
   "source": [
    "X = 1/OA_list\n",
    "Y = 1/OAp_list\n",
    "a, b = np.polyfit(X, Y, 1)\n",
    "print(f\"a = {a:.3f}, b = {b:.3f}\")\n",
    "f_reg = 1/b\n",
    "print(f'f_reg = {f_reg:.2f} cm')"
   ]
  },
  {
   "cell_type": "markdown",
   "id": "da21d42b-d601-4964-8b9f-687c1eb1cca0",
   "metadata": {
    "user_expressions": []
   },
   "source": [
    "### Incertitude pour régression"
   ]
  },
  {
   "cell_type": "code",
   "execution_count": 27,
   "id": "eef37bd9-b4e8-444c-9645-43f85e577a40",
   "metadata": {
    "tags": []
   },
   "outputs": [],
   "source": [
    "# Attention, X = 1/OA donc l'incertitude est composée !\n",
    "uX = uOA/(OA_list**2)\n",
    "uY = uOAp/(OAp_list**2)"
   ]
  },
  {
   "cell_type": "markdown",
   "id": "2cbc6ea9-58f5-497a-b047-bf9427909d82",
   "metadata": {
    "tags": [],
    "user_expressions": []
   },
   "source": [
    "#### Tracé du graphe pour vérification"
   ]
  },
  {
   "cell_type": "code",
   "execution_count": 13,
   "id": "f925d6f2-3437-4623-8be1-8ef49398f09d",
   "metadata": {
    "tags": []
   },
   "outputs": [],
   "source": [
    "import matplotlib.pyplot as plt"
   ]
  },
  {
   "cell_type": "code",
   "execution_count": 28,
   "id": "1c50a828-51a7-4d00-af4d-99ace2f6b06a",
   "metadata": {
    "tags": []
   },
   "outputs": [
    {
     "data": {
      "image/png": "[encoded data removed]",
      "text/plain": [
       "<Figure size 800x600 with 1 Axes>"
      ]
     },
     "metadata": {},
     "output_type": "display_data"
    }
   ],
   "source": [
    "# découpage de l'intervalle pour fonction lisse\n",
    "xliste = np.linspace(min(X), max(X), 100)\n",
    "# Liste des points y_i obtenus par régression\n",
    "yliste = a*xliste+b\n",
    "\n",
    "plt.figure(figsize=(8, 6))\n",
    "plt.grid()\n",
    "plt.xticks(fontsize=15)\n",
    "plt.yticks(fontsize=15)\n",
    "\n",
    "plt.xlabel('$1/OA$ en m^-1', fontsize=20)\n",
    "plt.ylabel('$1/OAp$ en m^-1', fontsize=20)\n",
    "\n",
    "plt.errorbar(X, Y,\n",
    "             xerr=uX, yerr=uY,\n",
    "             linestyle='None', capsize=3,\n",
    "             color='b', label='Mesures')\n",
    "plt.plot(xliste, yliste,\n",
    "         'r', label='Régression linéaire')\n",
    "\n",
    "plt.title(\"Détermination d'une focale par régression\",\n",
    "          fontsize=20)\n",
    "plt.legend(fontsize=15)\n",
    "plt.show()"
   ]
  },
  {
   "cell_type": "markdown",
   "id": "b08bb545-cf0b-4617-a4db-90a6fd9cc325",
   "metadata": {
    "user_expressions": []
   },
   "source": [
    "#### Monte-Carlo régression"
   ]
  },
  {
   "cell_type": "code",
   "execution_count": 30,
   "id": "d8e62f50-7ad9-4370-91e2-c972184d1a87",
   "metadata": {
    "tags": []
   },
   "outputs": [
    {
     "name": "stdout",
     "output_type": "stream",
     "text": [
      "Coef.directeur = -0.922 +- 0.009\n",
      "Ordonnée à l'origine = 9.593e-02 +- 6.546e-04\n"
     ]
    }
   ],
   "source": [
    "Delta_X = uX*np.sqrt(3)                   # demi-largeur X\n",
    "Delta_Y = uY*np.sqrt(3)                   # demi-largeur Y\n",
    "\n",
    "N = 100000                  # nombre de régressions à effectuer\n",
    "liste_a, liste_b = [], []  # création des listes vides pour stocker les valeurs\n",
    "for i in range(N):\n",
    "    X_simu = X + np.random.uniform(-Delta_X, +Delta_X)\n",
    "    Y_simu = Y + np.random.uniform(-Delta_Y, +Delta_Y)\n",
    "\n",
    "    a_simu, b_simu = np.polyfit(X_simu, Y_simu, 1)\n",
    "\n",
    "    liste_a.append(a_simu)\n",
    "    liste_b.append(b_simu)\n",
    "\n",
    "a_moy, b_moy = np.mean(liste_a), np.mean(liste_b)\n",
    "ua, ub = np.std(liste_a, ddof=1), np.std(liste_b, ddof=1)\n",
    "\n",
    "print(f'Coef.directeur = {a_moy:.3f} +- {ua:.3f}')\n",
    "print(f\"Ordonnée à l'origine = {b_moy:.3e} +- {ub:.3e}\")"
   ]
  },
  {
   "cell_type": "code",
   "execution_count": 31,
   "id": "6de61f84-975e-45d0-80f7-533339bdf886",
   "metadata": {
    "tags": []
   },
   "outputs": [
    {
     "name": "stdout",
     "output_type": "stream",
     "text": [
      "f_reg_MC = 10.42 ± 0.07 cm\n"
     ]
    }
   ],
   "source": [
    "f_reg_MC = 1/b_moy\n",
    "uf_reg_MC = ub/(b_moy**2)\n",
    "\n",
    "print(f'f_reg_MC = {f_reg_MC:.2f} ± {uf_reg_MC:.2f} cm')"
   ]
  },
  {
   "cell_type": "markdown",
   "id": "ee4e263f-2567-4c58-b842-8e96a555c909",
   "metadata": {},
   "source": [
    "## Bravo, vous êtes maintenant des professionnel-les de Python !"
   ]
  }
 ],
 "metadata": {
  "kernelspec": {
   "display_name": "Python 3 (ipykernel)",
   "language": "python",
   "name": "python3"
  },
  "language_info": {
   "codemirror_mode": {
    "name": "ipython",
    "version": 3
   },
   "file_extension": ".py",
   "mimetype": "text/x-python",
   "name": "python",
   "nbconvert_exporter": "python",
   "pygments_lexer": "ipython3",
   "version": "3.11.5"
  }
 },
 "nbformat": 4,
 "nbformat_minor": 5
}
