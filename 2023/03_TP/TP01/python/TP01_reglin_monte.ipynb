{
 "cells": [
  {
   "cell_type": "markdown",
   "metadata": {
    "user_expressions": []
   },
   "source": [
    "# Introduction éclair aux notebooks"
   ]
  },
  {
   "cell_type": "markdown",
   "metadata": {
    "tags": [],
    "user_expressions": []
   },
   "source": [
    ":::{tip}Cellules\n",
    "Un notebook est un ensemble de cellules pouvant être de différents types :\n",
    "- du code Python\n",
    "- du texte en Markdown\n",
    "\n",
    "Chaque cellule a son entrée et sa sortie. Dans le cas du texte, la sortie remplace la boîte,\n",
    "et il faut double-cliquer dessus pour retrouver le mode édition. Pour les cellules de code,\n",
    "la sortie est en-dessous de la cellule. Le mode par défaut est le code. Il faut cliquer sur\n",
    "le menu déroulant dans la barre d'outils pour le changer. Cliquez sur $+$ dans la barre d'outils\n",
    "pour en ajouter une.\n",
    "\n",
    "Par défaut, une cellule affiche en sortie le résultat de la **dernière action** de la cellule.\n",
    "\n",
    "Cliquez sur la cellule suivante, tapez \"1+2\" et appuyez sur *Maj+Enter*\n",
    ":::"
   ]
  },
  {
   "cell_type": "code",
   "execution_count": null,
   "metadata": {},
   "outputs": [],
   "source": []
  },
  {
   "cell_type": "markdown",
   "metadata": {
    "user_expressions": []
   },
   "source": [
    ":::{tip}Afficher un calcul intermédiaire\n",
    "Pour s'assurer que la sortie affiche un calcul, il suffit de le mettre dans la fonction\n",
    "`print` qui, comme son nom l'indique, affiche le résultat de ce qu'on lui donne.\n",
    "\n",
    "Faites tourner la cellule suivante.\n",
    ":::"
   ]
  },
  {
   "cell_type": "code",
   "execution_count": 9,
   "metadata": {
    "tags": []
   },
   "outputs": [
    {
     "name": "stdout",
     "output_type": "stream",
     "text": [
      "4\n"
     ]
    },
    {
     "data": {
      "text/plain": [
       "6"
      ]
     },
     "execution_count": 9,
     "metadata": {},
     "output_type": "execute_result"
    }
   ],
   "source": [
    "1+1        # pas afficher car pas la dernière et pas print\n",
    "print(2+2) # affichée car print\n",
    "3+3        # affichée car dernière"
   ]
  },
  {
   "cell_type": "markdown",
   "metadata": {
    "tags": [],
    "user_expressions": []
   },
   "source": [
    ":::{tip}Ordre d'activation\n",
    "L'ordre d'activation des cellules de code est important, puisque toutes les informations,\n",
    "définitions, calculs faits par l'ordinateur sont mémorisés au fur et à mesure. Il est indiqué\n",
    "entre crochets à gauche de chaque cellule de code.\n",
    "\n",
    "Lancez la cellule ci-dessous, où on calcule \"x+y\" sans les avoir défini. Lisez l'erreur.\n",
    "Lancez ensuite la cellule définissant x et y, puis relancez \"x+y\". Notez l'ordre croissant des\n",
    "opérations.\n",
    ":::"
   ]
  },
  {
   "cell_type": "code",
   "execution_count": 7,
   "metadata": {
    "tags": []
   },
   "outputs": [
    {
     "data": {
      "text/plain": [
       "3"
      ]
     },
     "execution_count": 7,
     "metadata": {},
     "output_type": "execute_result"
    }
   ],
   "source": [
    "x+y"
   ]
  },
  {
   "cell_type": "code",
   "execution_count": 6,
   "metadata": {
    "tags": []
   },
   "outputs": [],
   "source": [
    "x = 1\n",
    "y = 2"
   ]
  },
  {
   "cell_type": "markdown",
   "metadata": {
    "tags": [],
    "user_expressions": []
   },
   "source": [
    ":::{tip}Opérations en Python\n",
    "- [ ] On a les symboles classiques : +, -, \\*, /, par exemple `1+1*1/2-1` pour $1+1*\\frac{1}{2}-1$\n",
    "- [ ] Pour les puissances, on utilise \\*\\*, par exemple `x**2` pour $x^2$\n",
    "- [ ] Pour les puissances de 10, on utilise `e` et un nombre sans parenthèses, par exemple `1e-3` pour $1*10^{-3}$\n",
    "\n",
    "Ainsi, vous éviterez absolument d'écrire `1*10**(-3)` alors qu'il existe `1e-3`.\n",
    "\n",
    "Testez d'écrire quelques calculs dans la cellule de code en-dessous."
   ]
  },
  {
   "cell_type": "code",
   "execution_count": null,
   "metadata": {},
   "outputs": [],
   "source": []
  },
  {
   "cell_type": "markdown",
   "metadata": {
    "tags": [],
    "user_expressions": []
   },
   "source": [
    ":::{note}Librairies de fonctions\n",
    "Les fonctionnalités de Python sont nombreuses, mais il en existe de nombreuses spécifiques à une\n",
    "utilisation dans des librairies de fonctions. Une librairie peut avoir des sous-librairies.\n",
    "Par souci de mémoire, ces librairies ne sont pas chargées par défaut, et il faudra les \"importer\"\n",
    "avant de pouvoir les utiliser :\n",
    "\n",
    "```\n",
    "import librairie\n",
    "```\n",
    "\n",
    "Pour distinguer une fonction qui serait définie de la même manière dans deux librairies, il faut\n",
    "spécifier son origine en écrivant \"librairie.fonction()\". Pour éviter l'écriture systématique du nom\n",
    "de la librairie, on peut l'importer avec un alias. Par exemple avec la fonction `sinus` :\n",
    "```\n",
    "import math as m\n",
    "m.sin()\n",
    "```\n",
    "Vous serez peut-être conseillé-es d'écrire `from math import *`, pour charger *sans alias* toutes\n",
    "les fonction de `math`. Je m'y oppose fermement, ceci écrasant la connaissance de la librairie\n",
    "d'origine, surtout quand d'autres librairies ont une implémentation différente d'une fonction de\n",
    "`math`."
   ]
  },
  {
   "cell_type": "markdown",
   "metadata": {},
   "source": [
    ":::{tip}Nature des objets\n",
    "Les objets en Python sont de diverses natures. On a des nombres entiers, des nombres flottants,\n",
    "ou d'autres objets. Vous pouvez tester ces types avec la fonction `type`. On a notamment :\n",
    "- [ ] Les entiers, de type `int` pour *integer* en anglais. Il n'ont pas de chiffre après la virgule.\n",
    "- [ ] Les nombres décimaux, de type `float`. Ils ont une virgule.\n",
    "- [ ] Les chaînes de caractères, de type `str` pour *string* (ficelle) en anglais. Elles sont entre apostrophes ou entre guillemets.\n",
    "- [ ] Les listes, des ensembles de nombres placés entre crochets.\n",
    "- [ ] Les fonctions, des suites d'opérations qui prennent leurs entrées entre parenthèses.\n",
    "\n",
    "Lancez les cellules ci-dessous, et cochez les cases quand vous avez compris leur fonctionnement.\n",
    ":::"
   ]
  },
  {
   "cell_type": "markdown",
   "metadata": {
    "user_expressions": []
   },
   "source": [
    ":::{attention}\n",
    "Il s'opère la même distinction pour les fonctions en Python que pour les fonctions en maths : si $f$ est une fonction qui dépend de la variable $x$, alors $f(x)$ est le nombre associé.\n",
    ":::"
   ]
  },
  {
   "cell_type": "code",
   "execution_count": 26,
   "metadata": {
    "tags": []
   },
   "outputs": [
    {
     "data": {
      "text/plain": [
       "str"
      ]
     },
     "execution_count": 26,
     "metadata": {},
     "output_type": "execute_result"
    }
   ],
   "source": [
    "type('Chaîne')"
   ]
  },
  {
   "cell_type": "code",
   "execution_count": 10,
   "metadata": {
    "tags": []
   },
   "outputs": [
    {
     "data": {
      "text/plain": [
       "int"
      ]
     },
     "execution_count": 10,
     "metadata": {},
     "output_type": "execute_result"
    }
   ],
   "source": [
    "type(1)"
   ]
  },
  {
   "cell_type": "code",
   "execution_count": 11,
   "metadata": {
    "tags": []
   },
   "outputs": [
    {
     "data": {
      "text/plain": [
       "float"
      ]
     },
     "execution_count": 11,
     "metadata": {},
     "output_type": "execute_result"
    }
   ],
   "source": [
    "type(1.)"
   ]
  },
  {
   "cell_type": "code",
   "execution_count": 13,
   "metadata": {
    "tags": []
   },
   "outputs": [
    {
     "data": {
      "text/plain": [
       "list"
      ]
     },
     "execution_count": 13,
     "metadata": {},
     "output_type": "execute_result"
    }
   ],
   "source": [
    "L1 = [1, 2, 3]\n",
    "type(L1)"
   ]
  },
  {
   "cell_type": "code",
   "execution_count": 23,
   "metadata": {
    "tags": []
   },
   "outputs": [
    {
     "data": {
      "text/plain": [
       "builtin_function_or_method"
      ]
     },
     "execution_count": 23,
     "metadata": {},
     "output_type": "execute_result"
    }
   ],
   "source": [
    "type(print)"
   ]
  },
  {
   "cell_type": "markdown",
   "metadata": {
    "tags": [],
    "user_expressions": []
   },
   "source": [
    ":::{tip}Listes et indices\n",
    "Les listes sont naturellement l'objet qu'on a tendance à utiliser pour sauvegarder un set de données.\n",
    "On peut extraire une valeur d'une liste en l'appelant avec son indice depuis la liste, indiqué entre\n",
    "crochets après celle-ci :\n",
    "```\n",
    "L1 = [1, 2, 3]\n",
    "L1[indice]\n",
    "```\n",
    "On peut également prendre une série d'éléments de `indice1` à `indice2-1` avec\n",
    "```\n",
    "L1[indice1:indice2]\n",
    "```\n",
    "Si `indice2` est vide, alors on va jusqu'au dernier élément *inclus*.\n",
    "\n",
    "Entraînez-vous avec les cellules ci-dessous."
   ]
  },
  {
   "cell_type": "markdown",
   "metadata": {},
   "source": [
    ":::{warning}Attention !\n",
    "En Python, les indices *commençent à 0*, et le second indice d'une série n'est pas pris !\n",
    ":::"
   ]
  },
  {
   "cell_type": "code",
   "execution_count": null,
   "metadata": {},
   "outputs": [],
   "source": [
    "L1 = [1, 2, 3, 4, 5, 6, 7, 8]\n",
    "# Extraire le deuxième élément :\n",
    "L1[à remplir]\n",
    "# Extraire le nombre 6\n",
    "L1[à remplir]\n",
    "# Prendre les nombres de 3 à 6\n",
    "L1[à remplir]"
   ]
  },
  {
   "cell_type": "markdown",
   "metadata": {},
   "source": [
    ":::{tip}Listes et tableaux\n",
    "Les opérations sur les listes sont cependant peu naturelles pour l'utilisation qu'on en fait en physique. Testez par exemple `2*L1`, ou `L1+1`.\n",
    "\n",
    "Pour ces raisons, le traitement de données se fait avec des tableaux, ou *array* en anglais, de la librairie `numpy`. Ils fonctionnent comme on peut s'y attendre de manière naturelle, et les fonctions de la librairie (comme `sin`) peut s'appliquer directement sur des listes (`math.sin` ne le peut pas).\n",
    ":::"
   ]
  },
  {
   "cell_type": "code",
   "execution_count": 34,
   "metadata": {
    "tags": []
   },
   "outputs": [
    {
     "data": {
      "text/plain": [
       "array([2, 3, 4])"
      ]
     },
     "execution_count": 34,
     "metadata": {},
     "output_type": "execute_result"
    }
   ],
   "source": [
    "import numpy as np\n",
    "np.array(L1)+1"
   ]
  },
  {
   "cell_type": "markdown",
   "metadata": {},
   "source": [
    "### Importations"
   ]
  },
  {
   "cell_type": "code",
   "execution_count": 18,
   "metadata": {
    "tags": []
   },
   "outputs": [],
   "source": [
    "import numpy as np              # pour les tableaux\n",
    "import matplotlib.pyplot as plt # pour les graphiques"
   ]
  },
  {
   "cell_type": "markdown",
   "metadata": {
    "tags": [],
    "user_expressions": []
   },
   "source": [
    "# Régression linéaire sans incertitudes"
   ]
  },
  {
   "cell_type": "markdown",
   "metadata": {
    "tags": [],
    "user_expressions": []
   },
   "source": [
    ":::{note}Données expérimentales\n",
    "On a mesuré $n\\geq 5$ valeurs des grandeurs $X$ et $Y$. On souhaite vérifier si les valeurs mesurées sont en accord avec une relation affine $Y = a X + b$ entre ces grandeurs. On commence par créer un tableau `numpy` avec les valeurs mesurées.\n",
    ":::"
   ]
  },
  {
   "cell_type": "code",
   "execution_count": 3,
   "metadata": {
    "tags": []
   },
   "outputs": [],
   "source": [
    "X = np.array([0 , 2 , 4 , 6 , 8 , 10])            # À modifier par vraies valeurs\n",
    "Y = np.array([0.5 , 7.9 , 11 , 17.5 , 26 , 31.8]) # À modifier par vraies valeurs"
   ]
  },
  {
   "cell_type": "markdown",
   "metadata": {
    "tags": [],
    "user_expressions": []
   },
   "source": [
    ":::{note}Validation d'un modèle linéaire par régression\n",
    "La fonction `polyfit(X,Y,d)` de la bibliothèque `numpy` ajuste au plus près 2 listes de données (abscisses `X`, ordonnées `Y`) par une fonction polynomiale de degrè `d`, et renvoie les coefficients du polynôme le mieux ajusté. Ainsi, pour le degrè 1, cela correspond à une regression linéaire $y = ax + b$.\n",
    ":::"
   ]
  },
  {
   "cell_type": "code",
   "execution_count": 4,
   "metadata": {
    "tags": []
   },
   "outputs": [
    {
     "name": "stdout",
     "output_type": "stream",
     "text": [
      "a = 3.104, b = 0.26\n"
     ]
    }
   ],
   "source": [
    "a, b = np.polyfit(X, Y, 1)         # « a » le coefficient directeur, « b » l'ordonnée à l'origine\n",
    "print(f\"a = {a:.3f}, b = {b:.2f}\") # .3f pour 3 valeurs après la virgule"
   ]
  },
  {
   "cell_type": "markdown",
   "metadata": {
    "user_expressions": []
   },
   "source": [
    "<div class=\"myalertblock\" style=\"background-color:#ffdddd; padding:0.01em 16px; margin: 16px auto; border-radius: 4px; box-shadow:0 2px 5px 0 rgba(0, 0, 0, 0.16), 0 2px 10px 0 rgba(0, 0, 0, 0.12)\">\n",
    "\n",
    "Attention! La fonction `polyfit` retournent toujours des valeurs, que le modèle linéaire soit valable ou non !\n",
    "</div>"
   ]
  },
  {
   "cell_type": "markdown",
   "metadata": {
    "user_expressions": []
   },
   "source": [
    "<div class=\"myalertblock\" style=\"background-color:#ffdddd; padding:0.01em 16px; margin: 16px auto; border-radius: 4px; box-shadow:0 2px 5px 0 rgba(0, 0, 0, 0.16), 0 2px 10px 0 rgba(0, 0, 0, 0.12)\">\n",
    "\n",
    "**La seule façon valable de conclure à la validité d’une régression linéaire est une représentation graphique où l’on observe l’alignement des points avec la droite de régression.**\n",
    "</div>"
   ]
  },
  {
   "cell_type": "markdown",
   "metadata": {
    "user_expressions": []
   },
   "source": [
    "## Tracé du graphe pour vérification"
   ]
  },
  {
   "cell_type": "code",
   "execution_count": 5,
   "metadata": {
    "tags": []
   },
   "outputs": [
    {
     "data": {
      "image/png": "[encoded data removed]",
      "text/plain": [
       "<Figure size 800x600 with 1 Axes>"
      ]
     },
     "metadata": {},
     "output_type": "display_data"
    }
   ],
   "source": [
    "plt.close()                                 # force la fermeture des figures précédentes\n",
    "\n",
    "plt.figure(figsize=(8, 6))                  # dimension horizontale, verticale\n",
    "plt.grid()                                  # affiche un quadrillage de lecture\n",
    "plt.xticks(fontsize=20)                     # affiche les nombres de l'axe x plus grand\n",
    "plt.yticks(fontsize=20)                     # affiche les nombres de l'axe y plus grand\n",
    "plt.xlabel('$grandeur$ en UNITÉ',           # Donne le nom de l'axe x, avec $$ pour le mode math\n",
    "           fontsize=20)                     # en grand\n",
    "plt.ylabel('$grandeur$ en UNITÉ',           # Donne le nom de l'axe y, avec $$ pour le mode math\n",
    "           fontsize=20)                     # en grand\n",
    "\n",
    "plt.scatter(X, Y,                           # trace un graphe avec X en abscisse et Y en ordonnée\n",
    "            marker='x', s=100,              # possibilité de customiser le tracé\n",
    "            color='blue',       \n",
    "            label='Données')                # pour la légende\n",
    "\n",
    "xlin = np.linspace(np.min(X),               # découpe l'intervalle des valeurs de x en 100\n",
    "                   np.max(X),               # pour permettre un tracé lisse des valeurs\n",
    "                   100)                     # à modifier au besoin\n",
    "y_reg = a*xlin+b                            # on modélise le lien entre Y et X par une fonction affine\n",
    "\n",
    "plt.plot(xlin, y_reg,                       # trace un graphe avec xfit en abscisse et yreg en ordonnée\n",
    "         'r', label='Régression linéaire')\n",
    "\n",
    "plt.title('Titre efficace et descriptif',\n",
    "          fontsize=20)\n",
    "plt.legend(fontsize=15)\n",
    "plt.tight_layout()                          # évite les débordements ou rognages\n",
    "plt.show()"
   ]
  },
  {
   "cell_type": "markdown",
   "metadata": {},
   "source": [
    "# Régression linéaire avec incertitudes\n",
    "## Données expérimentales\n",
    "\n",
    "On considère à nouveau des mesures de $X$ et $Y$, mais cette fois, accompagnées d'incertitudes-types."
   ]
  },
  {
   "cell_type": "code",
   "execution_count": 35,
   "metadata": {},
   "outputs": [],
   "source": [
    "x = np.array([0,1,2,3,4,\n",
    "              5,6,7,8,9,10])                  # à modifier par vraies valeurs\n",
    "ux = 0.1*np.ones(len(x))                      # incertitude de 0.1 sur chaque valeur\n",
    "y = np.array([2.20,2.00,1.60,1.55,1.16,\n",
    "              1.00,0.95,0.60,0.36,0.36,0.18]) # à modifier par vraies valeurs\n",
    "uy = 0.12*np.ones(len(y))                     # incertitude de 0.12 sur chaque valeur"
   ]
  },
  {
   "cell_type": "markdown",
   "metadata": {},
   "source": [
    "## Validation d'un modèle linéaire par régression"
   ]
  },
  {
   "cell_type": "code",
   "execution_count": 38,
   "metadata": {},
   "outputs": [
    {
     "name": "stdout",
     "output_type": "stream",
     "text": [
      "a = -0.204, b = 2.11\n"
     ]
    }
   ],
   "source": [
    "a, b = np.polyfit(x, y, 1)         # « a » le coefficient directeur, « b » l'ordonnée à l'origine\n",
    "print(f\"a = {a:.3f}, b = {b:.2f}\") # .3f pour 3 valeurs après la virgule"
   ]
  },
  {
   "cell_type": "markdown",
   "metadata": {},
   "source": [
    "## Validation graphique avec barres d'erreur\n",
    "\n",
    "Afin d’ajouter des barres d’erreurs sur un graphique, il faut remplacer la fonction `plt.plot` par la fonction `plt.errorbar`. Une série de nouveaux paramètres permettent de personnaliser ces barres d’erreur."
   ]
  },
  {
   "cell_type": "code",
   "execution_count": 44,
   "metadata": {},
   "outputs": [
    {
     "data": {
      "application/javascript": [
       "element.append(window._basthonDomNodeBus.pop(0));"
      ]
     },
     "metadata": {},
     "output_type": "display_data"
    }
   ],
   "source": [
    "plt.close()                                 # force la fermeture des figures précédentes\n",
    "\n",
    "plt.figure(figsize=(8, 6))                  # dimension horizontale, verticale\n",
    "plt.grid()                                  # affiche un quadrillage de lecture\n",
    "plt.xticks(fontsize=20)                     # affiche les nombres de l'axe x plus grand\n",
    "plt.yticks(fontsize=20)                     # affiche les nombres de l'axe y plus grand\n",
    "plt.xlabel('$grandeur$ en UNITÉ',           # Donne le nom de l'axe x, avec $$ pour le mode math\n",
    "           fontsize=20)                     # en grand\n",
    "plt.ylabel('$grandeur$ en UNITÉ',           # Donne le nom de l'axe y, avec $$ pour le mode math\n",
    "           fontsize=20)                     # en grand\n",
    "\n",
    "plt.errorbar(x, y,                          # trace les données avec des barres d'erreurs ux et uy\n",
    "             xerr=ux, yerr=uy,\n",
    "             linestyle='None', capsize=3,   # possibilité de personnalisation, importante\n",
    "             color='b', label='Mesures')    # légende\n",
    "\n",
    "xlin = np.linspace(np.min(x),               # découpe l'intervalle des valeurs de x en 100\n",
    "                   np.max(x),               # pour permettre un tracé lisse des valeurs\n",
    "                   100)                     # à modifier au besoin\n",
    "y_reg = a*xlin+b                            # on modélise le lien entre x et y par une fonction affine\n",
    "\n",
    "plt.plot(xlin, y_reg,                       # trace un graphe avec xlin en abscisse et yreg en ordonnée\n",
    "         'r', label='Régression linéaire')\n",
    "\n",
    "plt.title('Titre efficace et descriptif',\n",
    "          fontsize=20)\n",
    "plt.legend(fontsize=15)\n",
    "plt.tight_layout()\n",
    "plt.show()"
   ]
  },
  {
   "cell_type": "markdown",
   "metadata": {},
   "source": [
    "Pour valider le modèle linéaire, il faut vérifier que la droite de régression passe suffisamment près des points de mesures en tenant compte des barres d’incertitudes."
   ]
  },
  {
   "cell_type": "markdown",
   "metadata": {},
   "source": [
    "## Simulation de Monte-Carlo pour obtenir des incertitudes sur la pente et l'ordonnée à l'origine\n",
    "\n",
    "Pour obtenir des incertitudes sur $a$ et $b$, nous allons:\n",
    "\n",
    "- faire varier aléatoirement les $n$ couples de valeurs mesurées $(x_i,y_i)$ selon des **lois de probabilité uniformes rectangulaires** de demi-largeur la précision $\\Delta(x_i) = \\sqrt{3}u(x_i)$, simulée grâce à la fonction `np.random.uniform(x_i-Delta, x_i+Delta)` (même chose pour $y_i$).\n",
    "- Pour chaque série de mesures simulée, faire la regression  linéaire, et obtenir des valeurs de pente $a_k$ et d'ordonnée à l'origine $b_k$. \n",
    "- La meilleur estimation de $a$ et $b$ sera la moyenne des valeurs calculées \n",
    "- Les incertitude $u(a)$ et $u(b)$ sur ces moyennes seront l'écart-type expérimental des valeurs calculées."
   ]
  },
  {
   "cell_type": "code",
   "execution_count": 48,
   "metadata": {},
   "outputs": [
    {
     "name": "stdout",
     "output_type": "stream",
     "text": [
      "Coef.directeur = -2.045e-01 ± 1.406e-16\n",
      "Ordonnée à l'origine = 2.106e+00 ± 1.211e-01\n"
     ]
    }
   ],
   "source": [
    "# =========================================================================== #\n",
    "#                                   Calculs                                   #\n",
    "# =========================================================================== #\n",
    "\n",
    "\n",
    "N = 10000                  # nombre de régressions à effectuer\n",
    "\n",
    "alist, blist = [], []      # création des listes vides pour stocker les valeurs\n",
    "for i in range(N):\n",
    "    x_simu = x + np.sqrt(3)*ux*np.random.uniform(-1, 1)\n",
    "    y_simu = y + np.sqrt(3)*uy*np.random.uniform(-1, 1)\n",
    "\n",
    "    p = np.polyfit(x_simu, y_simu, 1)\n",
    "\n",
    "    alist.append(p[0])\n",
    "    blist.append(p[1])\n",
    "\n",
    "# =========================================================================== #\n",
    "#                                 Utilisation                                 #\n",
    "# =========================================================================== #\n",
    "\n",
    "a_mean, b_mean = np.mean(alist), np.mean(blist)\n",
    "ua, ub = np.std(alist, ddof=1), np.std(blist, ddof=1)\n",
    "\n",
    "print('Coef.directeur =', f'{a_mean:.3e}',       #.3e pour écriture scientifique\n",
    "      '±', f'{ua:.3e}')                          # avec 3 chiffres significatifs\n",
    "print(\"Ordonnée à l'origine =\", f'{b_mean:.3e}', # ATTENTION à la rédaction\n",
    "      '±', f'{ub:.3e}')                          # finale d'une mesure…"
   ]
  },
  {
   "cell_type": "markdown",
   "metadata": {},
   "source": [
    "<div class=\"myexampleblock\" style=\"background-color:#ddffdd; padding:0.01em 16px; margin: 16px auto; border-radius: 4px; box-shadow:0 2px 5px 0 rgba(0, 0, 0, 0.16), 0 2px 10px 0 rgba(0, 0, 0, 0.12)\">\n",
    "\n",
    "#### Exercice 2\n",
    "On considère la charge d'un condensateur de capacité $C$ dans un circuit $RC$ série avec $R$ une résistance variable. On réaliser différentes mesures de la constante de temps $\\tau$ de la charge en faisant varier $R$. La résistance $R$ est mesurée avec une incertitude-type relative de 2% tandis que la constante de temp $\\tau$ est obtenue avec une incertitude-type relative de 4%. On rappel que théoriquement: $\\tau = (R + R_\\mathrm{int})C$ avec $R_\\mathrm{int}$ la résistance interne du GBF utilisé.\n",
    "\n",
    "Completer le code ci-dessous pour vérifier la validité de la formule precedente et estimer des valeurs de $C$ et $R_\\mathrm{int}$ avec incertitudes.\n",
    "</div>"
   ]
  },
  {
   "cell_type": "code",
   "execution_count": 10,
   "metadata": {},
   "outputs": [],
   "source": [
    "R = np.array([100,200,300,400,500,600,700,800,900,1000])        # valeurs de R en Ohms\n",
    "tau = 1e-6*np.array([151,240,356,458,547,651,741,843,949,1041]) # Valeurs de tau en secondes\n",
    "\n",
    "# À vous de jouer…"
   ]
  }
 ],
 "metadata": {
  "kernelspec": {
   "display_name": "Python 3 (ipykernel)",
   "language": "python",
   "name": "python3"
  },
  "language_info": {
   "codemirror_mode": {
    "name": "ipython",
    "version": 3
   },
   "file_extension": ".py",
   "mimetype": "text/x-python",
   "name": "python",
   "nbconvert_exporter": "python",
   "pygments_lexer": "ipython3",
   "version": "3.11.5"
  }
 },
 "nbformat": 4,
 "nbformat_minor": 4
}
