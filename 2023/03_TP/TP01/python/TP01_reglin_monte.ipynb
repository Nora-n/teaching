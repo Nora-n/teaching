{
 "cells": [
  {
   "cell_type": "markdown",
   "metadata": {},
   "source": [
    "### Importations"
   ]
  },
  {
   "cell_type": "code",
   "execution_count": null,
   "metadata": {
    "tags": []
   },
   "outputs": [],
   "source": [
    "import numpy as np              # pour les tableaux\n",
    "import matplotlib.pyplot as plt # pour les graphiques"
   ]
  },
  {
   "cell_type": "markdown",
   "metadata": {
    "tags": [],
    "user_expressions": []
   },
   "source": [
    "# A) Méthode de Bessel"
   ]
  },
  {
   "cell_type": "markdown",
   "metadata": {
    "tags": [],
    "user_expressions": []
   },
   "source": [
    "### Valeurs expérimentales et incertitudes"
   ]
  },
  {
   "cell_type": "code",
   "execution_count": null,
   "metadata": {},
   "outputs": [],
   "source": [
    "x1  =      # cm\n",
    "x2  =      # cm\n",
    "\n",
    "d = abs(x1-x2)\n",
    "\n",
    "D_bessel =        # cm"
   ]
  },
  {
   "cell_type": "markdown",
   "metadata": {
    "tags": [],
    "user_expressions": []
   },
   "source": [
    "### Calcul de f'"
   ]
  },
  {
   "cell_type": "code",
   "execution_count": null,
   "metadata": {},
   "outputs": [],
   "source": [
    "f_bessel =        # cm\n",
    "print(f'f_bessel = {f_bessel:.2f} cm')"
   ]
  },
  {
   "cell_type": "markdown",
   "metadata": {},
   "source": [
    "# B) Méthode de Silbermann"
   ]
  },
  {
   "cell_type": "markdown",
   "metadata": {},
   "source": [
    "### Valeurs expérimentales et incertitudes"
   ]
  },
  {
   "cell_type": "code",
   "execution_count": null,
   "metadata": {},
   "outputs": [],
   "source": [
    "D_silb =        # cm\n",
    "uD_silb =       # cm"
   ]
  },
  {
   "cell_type": "markdown",
   "metadata": {
    "tags": [],
    "user_expressions": []
   },
   "source": [
    "### Calcul de f'"
   ]
  },
  {
   "cell_type": "code",
   "execution_count": null,
   "metadata": {},
   "outputs": [],
   "source": [
    "f_silb =        # cm\n",
    "print(f'f_silb = {f_silb:.2f} cm')"
   ]
  },
  {
   "cell_type": "markdown",
   "metadata": {},
   "source": [
    "# C) Par régression"
   ]
  },
  {
   "cell_type": "markdown",
   "metadata": {},
   "source": [
    "### Valeurs expérimentales et incertitudes"
   ]
  },
  {
   "cell_type": "code",
   "execution_count": null,
   "metadata": {},
   "outputs": [],
   "source": [
    "OA_list = np.array([])  # cm\n",
    "uOA =                   # cm\n",
    "OAp_list = np.array([]) # cm\n",
    "uOAp =                  # cm"
   ]
  },
  {
   "cell_type": "markdown",
   "metadata": {},
   "source": [
    "### Régression"
   ]
  },
  {
   "cell_type": "code",
   "execution_count": null,
   "metadata": {},
   "outputs": [],
   "source": [
    "X = 1/OA_list\n",
    "Y = 1/OAp_list\n",
    "a, b = np.polyfit(X, Y, 1)\n",
    "print(f\"a = {a:.3f}, b = {b:.3f}\")\n",
    "f_reg = 1/b\n",
    "print(f'f_reg = {f_reg:.2f} cm')"
   ]
  },
  {
   "cell_type": "markdown",
   "metadata": {
    "tags": [],
    "user_expressions": []
   },
   "source": [
    "### Tracé pour vérification"
   ]
  },
  {
   "cell_type": "code",
   "execution_count": null,
   "metadata": {},
   "outputs": [],
   "source": [
    "# découpage de l'intervalle pour fonction lisse\n",
    "xliste = np.linspace(min(X), max(X), 100)\n",
    "# Liste des points y_i obtenus par régression\n",
    "yliste = a*xliste+b\n",
    "\n",
    "plt.figure(figsize=(8, 6))\n",
    "plt.grid()\n",
    "plt.xticks(fontsize=20)\n",
    "plt.yticks(fontsize=20)\n",
    "\n",
    "plt.xlabel('$1/OA$ en m^-1', fontsize=20)\n",
    "plt.ylabel('$1/OAp$ en m^-1', fontsize=20)\n",
    "\n",
    "plt.scatter(X, Y, marker=\"+\", s=100, label='Données')\n",
    "plt.plot(xliste, yliste,\n",
    "         'r', label='Régression linéaire')\n",
    "\n",
    "plt.title(\"Détermination d'une focale par régression\",\n",
    "          fontsize=20)\n",
    "plt.legend(fontsize=15)"
   ]
  },
  {
   "cell_type": "markdown",
   "metadata": {},
   "source": [
    "# D) Comparaison"
   ]
  },
  {
   "cell_type": "markdown",
   "metadata": {},
   "source": [
    "### Écarts relatifs"
   ]
  },
  {
   "cell_type": "code",
   "execution_count": null,
   "metadata": {},
   "outputs": [],
   "source": [
    "f_theo = (1/10)*1e2       # cm\n",
    "er_bessel = abs(f_bessel-f_theo)/(f_theo)\n",
    "er_silb = abs(f_silb-f_theo)/(f_theo)\n",
    "er_reg = abs(f_reg-f_theo)/(f_theo)\n",
    "\n",
    "print(f'er_bessel = {er_bessel:.2f}')\n",
    "print(f'er_silb = {er_silb:.2f}')\n",
    "print(f'er_reg = {er_reg:.2f}')"
   ]
  },
  {
   "cell_type": "markdown",
   "metadata": {},
   "source": [
    "### Conclusion"
   ]
  },
  {
   "cell_type": "markdown",
   "metadata": {},
   "source": [
    "Ainsi, j'en conclue que…"
   ]
  },
  {
   "cell_type": "markdown",
   "metadata": {},
   "source": [
    "# V/ Valider et conclure"
   ]
  },
  {
   "cell_type": "markdown",
   "metadata": {},
   "source": [
    "### Incertitudes-types"
   ]
  },
  {
   "cell_type": "code",
   "execution_count": null,
   "metadata": {},
   "outputs": [],
   "source": [
    "ux1 =      # cm\n",
    "ux2 =      # cm\n",
    "ud  =      # cm\n",
    "uD_bessel =       # cm\n",
    "uX =       # cm\n",
    "uY =       # cm"
   ]
  },
  {
   "cell_type": "markdown",
   "metadata": {
    "tags": [],
    "user_expressions": []
   },
   "source": [
    "#### Tracé du graphe pour vérification"
   ]
  },
  {
   "cell_type": "code",
   "execution_count": null,
   "metadata": {},
   "outputs": [],
   "source": [
    "# découpage de l'intervalle pour fonction lisse\n",
    "xliste = np.linspace(min(X), max(X), 100)\n",
    "# Liste des points y_i obtenus par régression\n",
    "yliste = a*xliste+b\n",
    "\n",
    "plt.figure(figsize=(8, 6))\n",
    "plt.grid()\n",
    "plt.xticks(fontsize=20)\n",
    "plt.yticks(fontsize=20)\n",
    "\n",
    "plt.xlabel('$1/OA$ en m^-1', fontsize=20)\n",
    "plt.ylabel('$1/OAp$ en m^-1', fontsize=20)\n",
    "\n",
    "plt.errorbar(X, Y,\n",
    "             xerr=uX, yerr=uY,\n",
    "             linestyle='None', capsize=3,\n",
    "             color='b', label='Mesures')\n",
    "plt.plot(xliste, yliste,\n",
    "         'r', label='Régression linéaire')\n",
    "\n",
    "plt.title(\"Détermination d'une focale par régression\",\n",
    "          fontsize=20)\n",
    "plt.legend(fontsize=15)"
   ]
  },
  {
   "cell_type": "code",
   "execution_count": null,
   "metadata": {},
   "outputs": [],
   "source": [
    "uf_comp = 0.25*np.sqrt(\n",
    "    uD_bessel**2 + (d**2/D_bessel)**2*(\n",
    "        2*(ud/d)**2 + (uD_bessel/D_bessel)**2\n",
    "    )\n",
    ")\n",
    "print(f'f_bessel = {f_bessel:.2f} ± {uf_comp:.2f}')"
   ]
  },
  {
   "cell_type": "code",
   "execution_count": null,
   "metadata": {},
   "outputs": [],
   "source": [
    "E_N = abs(f_theo-f_bessel)/(uf_comp)\n",
    "print(f'E_N = {E_N:.2f}')"
   ]
  },
  {
   "cell_type": "markdown",
   "metadata": {},
   "source": [
    "Ainsi, j'en conclue que…"
   ]
  },
  {
   "cell_type": "markdown",
   "metadata": {},
   "source": [
    "### Monte-Carlo"
   ]
  },
  {
   "cell_type": "code",
   "execution_count": null,
   "metadata": {},
   "outputs": [],
   "source": [
    "Delta_d =         # cm\n",
    "D_d = []   # cm\n",
    "Delta_D =         # cm\n",
    "D_D = []   # cm\n",
    "\n",
    "N = 100000\n",
    "liste_f = []\n",
    "for i in range(0, N):\n",
    "    d_simu = np.random.uniform(D_d[0], D_d[1])\n",
    "    D_simu = np.random.uniform(D_D[0], D_D[1])\n",
    "    f_simu = # à remplir !\n",
    "    liste_f.append(f_simu)\n",
    "\n",
    "fmoy = np.mean(liste_f)\n",
    "uf = np.std(liste_f, ddof=1)\n",
    "print(f'f = {fmoy:.2f} ± {uf:.2f}')"
   ]
  }
 ],
 "metadata": {
  "kernelspec": {
   "display_name": "Python 3 (ipykernel)",
   "language": "python",
   "name": "python3"
  },
  "language_info": {
   "codemirror_mode": {
    "name": "ipython",
    "version": 3
   },
   "file_extension": ".py",
   "mimetype": "text/x-python",
   "name": "python",
   "nbconvert_exporter": "python",
   "pygments_lexer": "ipython3",
   "version": "3.11.5"
  }
 },
 "nbformat": 4,
 "nbformat_minor": 4
}
