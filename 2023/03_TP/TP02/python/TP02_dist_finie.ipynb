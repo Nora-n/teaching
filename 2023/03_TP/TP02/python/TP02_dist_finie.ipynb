{
 "cells": [
  {
   "cell_type": "markdown",
   "metadata": {},
   "source": [
    "### Importations"
   ]
  },
  {
   "cell_type": "code",
   "execution_count": null,
   "metadata": {
    "tags": []
   },
   "outputs": [],
   "source": [
    "import numpy as np              # pour les tableaux\n",
    "import matplotlib.pyplot as plt # pour les graphiques"
   ]
  },
  {
   "cell_type": "markdown",
   "metadata": {
    "tags": [],
    "user_expressions": []
   },
   "source": [
    "# A) Pointé longitudinal"
   ]
  },
  {
   "cell_type": "markdown",
   "metadata": {
    "tags": [],
    "user_expressions": []
   },
   "source": [
    "### Valeurs expérimentales et incertitudes par le viseur"
   ]
  },
  {
   "cell_type": "code",
   "execution_count": null,
   "metadata": {},
   "outputs": [],
   "source": [
    "xv1  =      # cm\n",
    "xv2  =      # cm\n",
    "\n",
    "d = abs(xv1-xv2)"
   ]
  },
  {
   "cell_type": "code",
   "execution_count": null,
   "metadata": {},
   "outputs": [],
   "source": [
    "uxv1 =             # cm\n",
    "uxv2 =             # cm\n",
    "\n",
    "ud =               # cm"
   ]
  },
  {
   "cell_type": "code",
   "execution_count": null,
   "metadata": {
    "tags": []
   },
   "outputs": [],
   "source": [
    "print(f'xv1 = {xv1:.2f} ± {uxv1:.2f} cm')\n",
    "print(f'xv2 = {xv2:.2f} ± {uxv2:.2f} cm')\n",
    "print(f'd = {d:.2f} ± {ud:.2f} cm')"
   ]
  },
  {
   "cell_type": "markdown",
   "metadata": {},
   "source": [
    "#### Valeurs expérimentales et incertitudes par lecture directe sur le banc"
   ]
  },
  {
   "cell_type": "code",
   "execution_count": null,
   "metadata": {},
   "outputs": [],
   "source": [
    "xb1 =       # cm\n",
    "xb2 =       # cm\n",
    "\n",
    "d_banc = abs(xb1-xb2)"
   ]
  },
  {
   "cell_type": "code",
   "execution_count": null,
   "metadata": {},
   "outputs": [],
   "source": [
    "uxb1 =              # cm\n",
    "uxb2 =              # cm\n",
    "\n",
    "ud_banc =          # cm"
   ]
  },
  {
   "cell_type": "code",
   "execution_count": null,
   "metadata": {
    "tags": []
   },
   "outputs": [],
   "source": [
    "print(f'xb1 = {xb1:.2f} ± {uxb1:.2f} cm')\n",
    "print(f'xb2 = {xb2:.2f} ± {uxb2:.2f} cm')\n",
    "print(f'd_banc = {d_banc:.2f} ± {ud_banc:.2f} cm')"
   ]
  },
  {
   "cell_type": "markdown",
   "metadata": {},
   "source": [
    "#### Écart normalisé"
   ]
  },
  {
   "cell_type": "code",
   "execution_count": null,
   "metadata": {},
   "outputs": [],
   "source": [
    "E_N = ()/()\n",
    "print(f'E_N = {E_N:.2f}')"
   ]
  },
  {
   "cell_type": "markdown",
   "metadata": {
    "tags": [],
    "user_expressions": []
   },
   "source": [
    "# B) Pointé transversal"
   ]
  },
  {
   "cell_type": "markdown",
   "metadata": {},
   "source": [
    "#### Détermination de gamma"
   ]
  },
  {
   "cell_type": "code",
   "execution_count": null,
   "metadata": {},
   "outputs": [],
   "source": [
    "AB =        # mm\n",
    "ApBp =      # mm\n",
    "gamma =\n",
    "print(f'gamma = {gamma:.2f}')"
   ]
  },
  {
   "cell_type": "markdown",
   "metadata": {},
   "source": [
    "#### Largeur du fil"
   ]
  },
  {
   "cell_type": "code",
   "execution_count": null,
   "metadata": {},
   "outputs": [],
   "source": [
    "e_viseur =        # mm\n",
    "e_reel =          # mm\n",
    "print(f'e_reel = {e_reel:.2f} mm')"
   ]
  },
  {
   "cell_type": "markdown",
   "metadata": {},
   "source": [
    "# C) Relation de conjugaison"
   ]
  },
  {
   "cell_type": "markdown",
   "metadata": {},
   "source": [
    "#### Valeurs"
   ]
  },
  {
   "cell_type": "code",
   "execution_count": null,
   "metadata": {},
   "outputs": [],
   "source": [
    "x1 =        # cm\n",
    "x2 =        # cm\n",
    "x3 =        # cm\n",
    "\n",
    "OA =        # cm\n",
    "OAp =       # cm\n",
    "\n",
    "fp =        # cm\n",
    "\n",
    "print(f\"f' = {fp:.2f} cm\")"
   ]
  },
  {
   "cell_type": "markdown",
   "metadata": {},
   "source": [
    "#### Incertitudes"
   ]
  },
  {
   "cell_type": "code",
   "execution_count": null,
   "metadata": {},
   "outputs": [],
   "source": [
    "ux1 =        # cm\n",
    "ux2 =        # cm\n",
    "ux3 =        # cm\n",
    "\n",
    "uOA =        # cm\n",
    "uOAp =       # cm"
   ]
  },
  {
   "cell_type": "markdown",
   "metadata": {},
   "source": [
    "#### Monte-Carlo pour ufp"
   ]
  },
  {
   "cell_type": "code",
   "execution_count": null,
   "metadata": {},
   "outputs": [],
   "source": [
    "Delta_OA =         # cm\n",
    "OA_xtr = []        # cm\n",
    "Delta_OAp =         # cm\n",
    "OAp_xtr = []        # cm\n",
    "\n",
    "N = 100000\n",
    "liste_f = []\n",
    "for i in range(0, N):\n",
    "    OA_simu = np.random.uniform(OA_xtr[0], OA_xtr[1])\n",
    "    OAp_simu = np.random.uniform(OAp_xtr[0], OAp_xtr[1])\n",
    "    f_simu = # à remplir !\n",
    "    liste_f.append(f_simu)\n",
    "\n",
    "f_desc = np.mean(liste_f)\n",
    "uf_desc = np.std(liste_f, ddof=1)\n",
    "print(f'f_desc = {f_desc:.2f} ± {uf_desc:.2f}')"
   ]
  },
  {
   "cell_type": "markdown",
   "metadata": {},
   "source": [
    "#### Écart normalisé"
   ]
  },
  {
   "cell_type": "code",
   "execution_count": null,
   "metadata": {},
   "outputs": [],
   "source": [
    "E_N_desc = ()/()\n",
    "print(f'E_N_desc = {E_N_desc:.2f}')"
   ]
  },
  {
   "cell_type": "markdown",
   "metadata": {
    "tags": [],
    "user_expressions": []
   },
   "source": [
    "# D) Focométrie Bessel et Silbermann"
   ]
  },
  {
   "cell_type": "markdown",
   "metadata": {},
   "source": [
    "## 1- Bessel"
   ]
  },
  {
   "cell_type": "code",
   "execution_count": null,
   "metadata": {},
   "outputs": [],
   "source": [
    "x1  =      # cm\n",
    "x2  =      # cm\n",
    "\n",
    "d = abs(x1-x2)\n",
    "\n",
    "D_bessel =        # cm"
   ]
  },
  {
   "cell_type": "code",
   "execution_count": null,
   "metadata": {},
   "outputs": [],
   "source": [
    "ux1 =              # cm\n",
    "ux2 =              # cm\n",
    "\n",
    "ud =               # cm\n",
    "\n",
    "uD_bessel =        # cm"
   ]
  },
  {
   "cell_type": "code",
   "execution_count": null,
   "metadata": {
    "tags": []
   },
   "outputs": [],
   "source": [
    "print(f'x1 = {x1:.2f} ± {ux1:.2f}')\n",
    "print(f'x2 = {x2:.2f} ± {ux2:.2f}')\n",
    "print(f'd = {d:.2f} ± {ud:.2f}')\n",
    "print(f'D_bessel = {D_bessel:.2f} ± {uD_bessel:.2f}')"
   ]
  },
  {
   "cell_type": "markdown",
   "metadata": {
    "tags": [],
    "user_expressions": []
   },
   "source": [
    "### Calcul de f'"
   ]
  },
  {
   "cell_type": "code",
   "execution_count": null,
   "metadata": {},
   "outputs": [],
   "source": [
    "f_bessel =        # cm\n",
    "print(f'f_bessel = {f_bessel:.2f} cm')"
   ]
  },
  {
   "cell_type": "markdown",
   "metadata": {
    "tags": [],
    "user_expressions": []
   },
   "source": [
    "#### Incertitudes sur f_bessel"
   ]
  },
  {
   "cell_type": "code",
   "execution_count": null,
   "metadata": {},
   "outputs": [],
   "source": [
    "Delta_d_bessel =         # cm\n",
    "d_bessel_xtr = []        # cm\n",
    "Delta_D_bessel =         # cm\n",
    "D_bessel_xtr = []        # cm\n",
    "\n",
    "N = 100000\n",
    "liste_f = []\n",
    "for i in range(0, N):\n",
    "    d_simu = np.random.uniform(d_bessel_xtr[0], d_bessel_xtr[1])\n",
    "    D_simu = np.random.uniform(D_bessel_xtr[0], D_bessel_xtr[1])\n",
    "    f_simu = # à remplir !\n",
    "    liste_f.append(f_simu)\n",
    "\n",
    "f_bessel_MC = np.mean(liste_f)\n",
    "uf_bessel_MC = np.std(liste_f, ddof=1)\n",
    "print(f'f_bessel_MC = {f_bessel_MC:.2f} ± {uf_bessel_MC:.2f}')"
   ]
  },
  {
   "cell_type": "markdown",
   "metadata": {},
   "source": [
    "## 2- Silbermann"
   ]
  },
  {
   "cell_type": "markdown",
   "metadata": {},
   "source": [
    "### Valeurs expérimentales et incertitudes"
   ]
  },
  {
   "cell_type": "code",
   "execution_count": null,
   "metadata": {},
   "outputs": [],
   "source": [
    "D_silb_xtr = []\n",
    "D_silb = np.mean(D_silb_xtr)       # cm\n",
    "Delta_D_silb = (D_silb_xtr[1]-D_silb_xtr[0])/2\n",
    "uD_silb = Delta_D_silb/(np.sqrt(3))      # cm"
   ]
  },
  {
   "cell_type": "markdown",
   "metadata": {
    "tags": [],
    "user_expressions": []
   },
   "source": [
    "### Calcul de f'"
   ]
  },
  {
   "cell_type": "code",
   "execution_count": null,
   "metadata": {},
   "outputs": [],
   "source": [
    "f_silb =        # cm\n",
    "print(f'f_silb = {f_silb:.2f} cm')\n",
    "\n",
    "uf_silb = \n",
    "print(f'f_silb = {f_silb:.2f} ± {uf_silb:.2f}')"
   ]
  },
  {
   "cell_type": "markdown",
   "metadata": {},
   "source": [
    "## 3- Comparaisons"
   ]
  },
  {
   "cell_type": "markdown",
   "metadata": {},
   "source": [
    "### Écarts relatifs"
   ]
  },
  {
   "cell_type": "code",
   "execution_count": null,
   "metadata": {},
   "outputs": [],
   "source": [
    "f_theo =        # cm\n",
    "\n",
    "er_bessel = abs(f_bessel-f_theo)/(f_theo)\n",
    "er_silb = abs(f_silb-f_theo)/(f_theo)\n",
    "\n",
    "print(f'er_bessel = {er_bessel:.2f}')\n",
    "print(f'er_silb = {er_silb:.2f}')"
   ]
  },
  {
   "cell_type": "markdown",
   "metadata": {},
   "source": [
    "Ainsi, j'en conclue que…"
   ]
  },
  {
   "cell_type": "markdown",
   "metadata": {},
   "source": [
    "### Écarts normalisés"
   ]
  },
  {
   "cell_type": "code",
   "execution_count": null,
   "metadata": {},
   "outputs": [],
   "source": [
    "E_N_bess = abs(f_theo-f_bessel)/(uf_bess)\n",
    "print(f'E_N_bess = {E_N_bess:.2f}')\n",
    "\n",
    "E_N_silb = abs(f_theo-f_silb)/(uf_silb)\n",
    "print(f'E_N_silb = {E_N_silb:.2f}')\n",
    "\n",
    "E_N_reg = abs(f_theo-f_reg)/(uf_reg)\n",
    "print(f'E_N_reg = {E_N_reg:.2f}')"
   ]
  },
  {
   "cell_type": "markdown",
   "metadata": {},
   "source": [
    "### Conclusion"
   ]
  },
  {
   "cell_type": "markdown",
   "metadata": {},
   "source": [
    "Ainsi, j'en conclue que…"
   ]
  }
 ],
 "metadata": {
  "kernelspec": {
   "display_name": "Python 3 (ipykernel)",
   "language": "python",
   "name": "python3"
  },
  "language_info": {
   "codemirror_mode": {
    "name": "ipython",
    "version": 3
   },
   "file_extension": ".py",
   "mimetype": "text/x-python",
   "name": "python",
   "nbconvert_exporter": "python",
   "pygments_lexer": "ipython3",
   "version": "3.11.5"
  }
 },
 "nbformat": 4,
 "nbformat_minor": 4
}
