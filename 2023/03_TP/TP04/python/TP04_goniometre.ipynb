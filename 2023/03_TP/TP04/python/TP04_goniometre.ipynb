{
 "cells": [
  {
   "cell_type": "markdown",
   "metadata": {},
   "source": [
    "### Importations"
   ]
  },
  {
   "cell_type": "code",
   "execution_count": null,
   "metadata": {
    "tags": []
   },
   "outputs": [],
   "source": [
    "import numpy as np              # pour les tableaux\n",
    "import matplotlib.pyplot as plt # pour les graphiques\n",
    "import pandas as pd             # pour visualiser les données"
   ]
  },
  {
   "cell_type": "markdown",
   "metadata": {
    "tags": [],
    "user_expressions": []
   },
   "source": [
    "# IV/ A)"
   ]
  },
  {
   "cell_type": "markdown",
   "metadata": {
    "tags": [],
    "user_expressions": []
   },
   "source": [
    "### Valeurs expérimentales et incertitudes"
   ]
  },
  {
   "cell_type": "code",
   "execution_count": null,
   "metadata": {},
   "outputs": [],
   "source": [
    "lambda_list = []\n",
    "lambda_tab = np.array(lambda_list)\n",
    "\n",
    "angle_minutes_list = []\n",
    "angle_minutes_tab = np.array(angle_minutes_list)\n",
    "\n",
    "uangle_minutes_list = \n",
    "uangle_minutes_tab = np.array(uangle_minutes_list)\n",
    "\n",
    "angle_degre_list = \n",
    "angle_degre_tab = np.array(angle_degre_list)\n",
    "\n",
    "uangle_degre_list = \n",
    "uangle_degre_tab = np.array(uangle_degre_list)\n",
    "\n",
    "i1_tab = \n",
    "ui1_tab = \n",
    "\n",
    "sini1_tab = \n",
    "usini1_tab = np.cos(i1_tab)*ui1_tab"
   ]
  },
  {
   "cell_type": "markdown",
   "metadata": {
    "tags": [],
    "user_expressions": []
   },
   "source": [
    "!!! tip Conseil\n",
    "Pour voir des ensembles de liste, il est pratique de faire un `DataFrame`, comme suit :\n",
    "```\n",
    "visu = pd.DataFrame([X,Y], index=['Label X', 'Label Y']).T\n",
    "```\n",
    "et `.T` permet de transposer le tableau\n",
    "!!!"
   ]
  },
  {
   "cell_type": "code",
   "execution_count": null,
   "metadata": {
    "tags": []
   },
   "outputs": [],
   "source": [
    "visu = pd.DataFrame([lambda_tab, angle_minutes_tab, angle_degre_tab, i1tab, sini1_tab],\n",
    "                    index=['labmda (nm)', 'alpha (deg min)', 'alpha (deg)', 'i1', 'sin(i1)']).T\n",
    "visu"
   ]
  },
  {
   "cell_type": "markdown",
   "metadata": {},
   "source": [
    "## Représentation"
   ]
  },
  {
   "cell_type": "code",
   "execution_count": null,
   "metadata": {},
   "outputs": [],
   "source": [
    "X =\n",
    "Y ="
   ]
  },
  {
   "cell_type": "code",
   "execution_count": null,
   "metadata": {},
   "outputs": [],
   "source": [
    "plt.figure(figsize=(8, 6))\n",
    "plt.grid()\n",
    "plt.xticks(fontsize=15)\n",
    "plt.yticks(fontsize=15)\n",
    "\n",
    "plt.xlabel('$GRANDEUR$ en UNITÉ', fontsize=20)\n",
    "plt.ylabel('$GRANDEUR$ en UNITÉ', fontsize=20)\n",
    "\n",
    "plt.scatter(X, Y, marker=\"+\", s=100, label='Données')\n",
    "\n",
    "plt.title(\"Vérification de la formule des réseaux\",\n",
    "          fontsize=20)\n",
    "plt.legend(fontsize=15)\n",
    "plt.show()"
   ]
  },
  {
   "cell_type": "markdown",
   "metadata": {},
   "source": [
    "## Régression"
   ]
  },
  {
   "cell_type": "markdown",
   "metadata": {},
   "source": [
    "Je trace $y=ax+b$ avec $y = $…"
   ]
  },
  {
   "cell_type": "code",
   "execution_count": null,
   "metadata": {},
   "outputs": [],
   "source": [
    "a, b = np.polyfit(X, Y, 1)\n",
    "print(f\"a = {a:.3f}, b = {b:.3f}\")"
   ]
  },
  {
   "cell_type": "markdown",
   "metadata": {
    "tags": [],
    "user_expressions": []
   },
   "source": [
    "### Tracé pour vérification"
   ]
  },
  {
   "cell_type": "code",
   "execution_count": null,
   "metadata": {},
   "outputs": [],
   "source": [
    "# découpage de l'intervalle pour fonction lisse\n",
    "xliste = np.linspace( A REMPLIR )\n",
    "# Liste des points y_i obtenus par régression\n",
    "yliste = a*xliste+b\n",
    "\n",
    "plt.figure(figsize=(8, 6))\n",
    "plt.grid()\n",
    "plt.xticks(fontsize=15)\n",
    "plt.yticks(fontsize=15)\n",
    "\n",
    "plt.xlabel('$GRANDEUR$ en UNITÉ', fontsize=20)\n",
    "plt.ylabel('$GRANDEUR$ en UNITÉ', fontsize=20)\n",
    "\n",
    "plt.scatter(X, Y, marker=\"+\", s=100, label='Données')\n",
    "plt.plot(xliste, yliste,\n",
    "         'r', label='Régression linéaire')\n",
    "\n",
    "plt.title(\"Vérification de la formule des réseaux\",\n",
    "          fontsize=20)\n",
    "plt.legend(fontsize=15)\n",
    "plt.show()"
   ]
  },
  {
   "cell_type": "markdown",
   "metadata": {},
   "source": [
    "La régression est valide/pas valide parce que…\n",
    "\n",
    "J'en déduis le pas du réseau :"
   ]
  },
  {
   "cell_type": "code",
   "execution_count": null,
   "metadata": {},
   "outputs": [],
   "source": [
    "pas_reseau = \n",
    "print(f'pas du réseau = {pas_reseau} µm')"
   ]
  },
  {
   "cell_type": "markdown",
   "metadata": {},
   "source": [
    "### Incertitude pour régression"
   ]
  },
  {
   "cell_type": "code",
   "execution_count": null,
   "metadata": {},
   "outputs": [],
   "source": [
    "uX = \n",
    "uY = "
   ]
  },
  {
   "cell_type": "markdown",
   "metadata": {
    "tags": [],
    "user_expressions": []
   },
   "source": [
    "#### Tracé du graphe pour vérification"
   ]
  },
  {
   "cell_type": "code",
   "execution_count": null,
   "metadata": {},
   "outputs": [],
   "source": [
    "# découpage de l'intervalle pour fonction lisse\n",
    "xliste = np.linspace(min(X), max(X), 100)\n",
    "# Liste des points y_i obtenus par régression\n",
    "yliste = a*xliste+b\n",
    "\n",
    "plt.figure(figsize=(8, 6))\n",
    "plt.grid()\n",
    "plt.xticks(fontsize=15)\n",
    "plt.yticks(fontsize=15)\n",
    "\n",
    "plt.xlabel('$GANDEUR$ en UNITE', fontsize=20)\n",
    "plt.ylabel('$GRANDEUR$ en UNITE', fontsize=20)\n",
    "\n",
    "plt.errorbar(X, Y,\n",
    "             xerr=uX, yerr=uY,\n",
    "             linestyle='None', capsize=3,\n",
    "             color='b', label='Mesures')\n",
    "plt.plot(xliste, yliste,\n",
    "         'r', label='Régression linéaire')\n",
    "\n",
    "plt.title(\"Vérification de la formule des réseaux\",\n",
    "          fontsize=20)\n",
    "plt.legend(fontsize=15)\n",
    "plt.show()"
   ]
  },
  {
   "cell_type": "markdown",
   "metadata": {},
   "source": [
    "#### Monte-Carlo régression"
   ]
  },
  {
   "cell_type": "code",
   "execution_count": null,
   "metadata": {},
   "outputs": [],
   "source": [
    "Delta_X = \n",
    "Delta_Y = \n",
    "\n",
    "N = 100000                  # nombre de régressions à effectuer\n",
    "liste_a, liste_b = [], []  # création des listes vides pour stocker les valeurs\n",
    "for i in range(N):\n",
    "    X_simu = X + np.random.uniform(-Delta_X, Delta_X)\n",
    "    Y_simu = Y + np.random.uniform(-Delta_Y, Delta_Y)\n",
    "\n",
    "    a_simu, b_simu = np.polyfit(X_simu, Y_simu, 1)\n",
    "\n",
    "    liste_a.append(a_simu)\n",
    "    liste_b.append(b_simu)\n",
    "\n",
    "a_moy, b_moy = np.mean(liste_a), np.mean(liste_b)\n",
    "ua, ub = np.std(liste_a, ddof=1), np.std(liste_b, ddof=1)\n",
    "\n",
    "print(f'Coef.directeur = {a_moy:.3e} +- {ua:.3e}')\n",
    "print(f\"Ordonnée à l'origine = {b_moy:.3e} +- {ub:.3e}\")"
   ]
  },
  {
   "cell_type": "markdown",
   "metadata": {},
   "source": [
    "# V/ Valider : doublet du sodium"
   ]
  },
  {
   "cell_type": "code",
   "execution_count": null,
   "metadata": {},
   "outputs": [],
   "source": [
    "alpha_raie1 = \n",
    "alpha_raie2 = \n",
    "\n",
    "lambda_raie1 = \n",
    "lambda_raie2 = "
   ]
  },
  {
   "cell_type": "markdown",
   "metadata": {},
   "source": [
    "##### Simulation Monte-Carlo"
   ]
  },
  {
   "cell_type": "code",
   "execution_count": null,
   "metadata": {
    "tags": []
   },
   "outputs": [],
   "source": [
    "Delta_lambda_raie1 = \n",
    "lambda_raie1_xtr = \n",
    "Delta_b = \n",
    "b_xtr = \n",
    "Delta_a = \n",
    "a_xtr = \n",
    "\n",
    "N = 100000\n",
    "liste_lambda1, liste_lambda2 = [], []\n",
    "for i in range(0, N):\n",
    "    lambda1_simu = np.random.uniform(lambda_raie1_xtr[0], lambda_raie1_xtr[1])\n",
    "    lambda2_simu = np.random.uniform(lambda_raie2_xtr[0], lambda_raie2_xtr[1])\n",
    "    a_simu = np.random.uniform(a_xtr[0], a_xtr[1])\n",
    "    b_simu = np.random.uniform(b_xtr[0], b_xtr[1])\n",
    "    lambda1_simu = \n",
    "    lambda2_simu = \n",
    "    liste_lambda1.append(lambda1_simu)\n",
    "    liste_lambda2.append(lambda2_simu)\n",
    "\n",
    "lambda_1 = np.mean(liste_lambda1)\n",
    "ulambda_1 = np.std(liste_lambda1, ddof=1)\n",
    "lambda_2 = np.mean(liste_lambda2)\n",
    "ulambda_2 = np.std(liste_lambda2, ddof=1)\n",
    "print(f'lambda_1 = {lambda_1:.2f} ± {ulambda_1:.2f}')\n",
    "print(f'lambda_2 = {lambda_2:.2f} ± {ulambda_2:.2f}')"
   ]
  },
  {
   "cell_type": "markdown",
   "metadata": {},
   "source": [
    "## Écarts normalisés"
   ]
  },
  {
   "cell_type": "code",
   "execution_count": null,
   "metadata": {},
   "outputs": [],
   "source": [
    "lambda_1_theo = \n",
    "lambda_2_theo = \n",
    "E_N1 = \n",
    "E_N2 = "
   ]
  },
  {
   "cell_type": "markdown",
   "metadata": {},
   "source": [
    "## Conclusion"
   ]
  },
  {
   "cell_type": "markdown",
   "metadata": {},
   "source": [
    "Ainsi, je trouve que…"
   ]
  }
 ],
 "metadata": {
  "kernelspec": {
   "display_name": "Python 3 (ipykernel)",
   "language": "python",
   "name": "python3"
  },
  "language_info": {
   "codemirror_mode": {
    "name": "ipython",
    "version": 3
   },
   "file_extension": ".py",
   "mimetype": "text/x-python",
   "name": "python",
   "nbconvert_exporter": "python",
   "pygments_lexer": "ipython3",
   "version": "3.11.6"
  }
 },
 "nbformat": 4,
 "nbformat_minor": 4
}
