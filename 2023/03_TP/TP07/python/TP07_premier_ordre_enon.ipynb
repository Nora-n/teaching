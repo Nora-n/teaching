{
 "cells": [
  {
   "cell_type": "markdown",
   "id": "341a2d00-8f76-4efb-8da5-178197f80db0",
   "metadata": {},
   "source": [
    "### Importations"
   ]
  },
  {
   "cell_type": "code",
   "execution_count": null,
   "id": "101d578b-5171-4a26-ac17-b3a16403054c",
   "metadata": {
    "tags": []
   },
   "outputs": [],
   "source": [
    "import numpy as np              # pour les tableaux\n",
    "import matplotlib.pyplot as plt # pour les graphiques"
   ]
  },
  {
   "cell_type": "markdown",
   "id": "902efb8e-c56f-4001-bfc8-0c0b8a35ae19",
   "metadata": {},
   "source": [
    "## Définition de la fonction analytique"
   ]
  },
  {
   "cell_type": "code",
   "execution_count": null,
   "id": "d8d9c7ba-d903-4148-9eb9-929b87dba623",
   "metadata": {
    "tags": []
   },
   "outputs": [],
   "source": [
    "def solu():\n",
    "    return "
   ]
  },
  {
   "cell_type": "markdown",
   "id": "88fb19bf-bad3-4aa5-a48c-329416899363",
   "metadata": {},
   "source": [
    "### Définition de la fonction `euler`"
   ]
  },
  {
   "cell_type": "code",
   "execution_count": null,
   "id": "191cc7c5-7068-400d-9785-cecd3ea09c84",
   "metadata": {
    "tags": []
   },
   "outputs": [],
   "source": [
    "def euler(f, a, b, y0 , n):\n",
    "    \"\"\"\n",
    "    Calcule les points suivants d'une fonction par une approximation\n",
    "    tangentielle, sur l'intervalle de temps [a,b] à partir de l'ordonnée\n",
    "    y0 et ce pour n points.\n",
    "    \"\"\"\n",
    "    h = (b-a) / n            # le pas temporel\n",
    "    list_y = [y0]            # on initialise la liste avec la valeure mesurée\n",
    "    yk = y0                  # on initialise le premier y_k avec y0\n",
    "    tk = a                   # de même avec t_k = t_0\n",
    "    for k in range(n-1):\n",
    "        yk = yk + h*f(tk, yk, e) # à compléter   voir TP\n",
    "        tk = a + k*h             # à compléter   voir TP\n",
    "        list_y.append(yk)     # on ajoute la valeur de tk à la liste\n",
    "    return list_y"
   ]
  },
  {
   "cell_type": "markdown",
   "id": "89375f71-71c0-4a2f-8266-8dd181cd59a3",
   "metadata": {},
   "source": [
    "### Initalisation des valeurs"
   ]
  },
  {
   "cell_type": "code",
   "execution_count": null,
   "id": "cd67a7be-1208-4926-8f62-f2ea35828491",
   "metadata": {
    "tags": []
   },
   "outputs": [],
   "source": [
    "a = 0    # s\n",
    "b = À CHOISIR    # s\n",
    "n = À CHOISIR\n",
    "list_t = np.linspace(COMPLÉTER)"
   ]
  },
  {
   "cell_type": "markdown",
   "id": "539a9ef6-b295-4c74-9c7e-fb40dbedf880",
   "metadata": {
    "tags": []
   },
   "source": [
    "On étudie l'équation\n",
    "$$\n",
    "    \\frac{{\\rm d}u_C}{{\\rm d}t} + \\frac{u_C}{\\tau} = \\frac{e(t)}{\\tau}\n",
    "$$\n",
    "On peut isoler $y' = {\\rm d}u_C/{\\rm d}t$ pour trouver f.\n",
    "Pour étudier cette fonction par la méthode d'Euler, il faut définir l'entrée $e$\n",
    "et la fonction $f(t,u_C(t))$."
   ]
  },
  {
   "cell_type": "markdown",
   "id": "b5b3bbb2-b98d-4169-913b-577cf4c960b5",
   "metadata": {},
   "source": [
    "### Définition de l'entrée `e(t)` et de la fonction `f`"
   ]
  },
  {
   "cell_type": "code",
   "execution_count": null,
   "id": "8dfe0a37-7f90-4bd1-b3c5-43a7326ac686",
   "metadata": {
    "tags": []
   },
   "outputs": [],
   "source": [
    "def f(t, y, e):\n",
    "    \"\"\"\n",
    "    Donne la valeur de y', ici duC/dt, à partir de e, uC et t.\n",
    "    \"\"\"\n",
    "    return          # à compléter"
   ]
  },
  {
   "cell_type": "markdown",
   "id": "33dd2d50-9f6b-44dc-b181-805261958876",
   "metadata": {},
   "source": [
    "### Test de résolution avec `e(t) = E`"
   ]
  },
  {
   "cell_type": "code",
   "execution_count": null,
   "id": "b6105f87-72fd-4b5b-8736-62e17d23193c",
   "metadata": {
    "tags": []
   },
   "outputs": [],
   "source": [
    "def e(t):\n",
    "    \"\"\"\n",
    "    La fonction d'entrée.\n",
    "    Peut être égale à une constante :\n",
    "    `return 10`\n",
    "    Peut être égale à un sinus :\n",
    "    `return np.sin(t)`\n",
    "    \"\"\"\n",
    "    return        # à vous de compléter\n",
    "\n",
    "list_y = # À compléter (voir TP)"
   ]
  },
  {
   "cell_type": "markdown",
   "id": "05d710b4-9240-4952-8fb2-55245b6b3ed9",
   "metadata": {},
   "source": [
    "### Définition listes pour tracé de la solution analytique et fonction erreur"
   ]
  },
  {
   "cell_type": "code",
   "execution_count": null,
   "id": "ae104be3-c836-48ab-8b7a-74d69755f1d6",
   "metadata": {
    "tags": []
   },
   "outputs": [],
   "source": [
    "solu_y =\n",
    "erro_y ="
   ]
  },
  {
   "cell_type": "markdown",
   "id": "892f4072-6558-4a93-aa05-9e9e9fdd6b30",
   "metadata": {},
   "source": [
    "### Tracé"
   ]
  },
  {
   "cell_type": "code",
   "execution_count": null,
   "id": "d222a4a5-2b4a-4165-a6ca-e33ee7f953ed",
   "metadata": {
    "tags": []
   },
   "outputs": [],
   "source": [
    "plt.figure(figsize=(8, 6))\n",
    "plt.grid()\n",
    "plt.xticks(fontsize=15)\n",
    "plt.yticks(fontsize=15)\n",
    "\n",
    "plt.xlabel('LABEL SUR X', fontsize=20)\n",
    "plt.ylabel('LABEL SUR Y', fontsize=20)\n",
    "\n",
    "À COMPLÉTER\n",
    "\n",
    "plt.title(\"TITRE\",\n",
    "          fontsize=20)\n",
    "plt.legend(fontsize=15)\n",
    "plt.show()"
   ]
  },
  {
   "cell_type": "markdown",
   "id": "df5b8333-7b9f-4cc7-a6f0-3cffc2c5de78",
   "metadata": {},
   "source": [
    "# Différents pas de calcul"
   ]
  },
  {
   "cell_type": "code",
   "execution_count": null,
   "id": "0ab4629b-dea7-407d-82da-96bd4ad350f6",
   "metadata": {},
   "outputs": [],
   "source": []
  },
  {
   "cell_type": "code",
   "execution_count": null,
   "id": "2c0e101f-5a12-4613-b086-5ea1925b7568",
   "metadata": {},
   "outputs": [],
   "source": []
  },
  {
   "cell_type": "code",
   "execution_count": null,
   "id": "1afc690c-43b1-4aee-b348-826f2ba9162d",
   "metadata": {},
   "outputs": [],
   "source": []
  },
  {
   "cell_type": "markdown",
   "id": "56a4d6c0-6c23-4c58-9d9f-e0bee701bc3d",
   "metadata": {},
   "source": [
    "## Avec d'autres entrées"
   ]
  },
  {
   "cell_type": "code",
   "execution_count": null,
   "id": "7eba8814-a650-44ad-a18c-0f9b7b1a9f06",
   "metadata": {},
   "outputs": [],
   "source": []
  },
  {
   "cell_type": "code",
   "execution_count": null,
   "id": "9a294ffa-7dae-4e70-8819-dcab819dc3b4",
   "metadata": {
    "tags": []
   },
   "outputs": [],
   "source": [
    "def e(t):\n",
    "    \"\"\"\n",
    "    La fonction d'entrée.\n",
    "    Peut être égale à une constante :\n",
    "    `return 10`\n",
    "    Peut être égale à un sinus :\n",
    "    `return np.sin(t)`\n",
    "    \"\"\"\n",
    "    return  # à compléter\n",
    "\n",
    "list_y = # à compléter"
   ]
  },
  {
   "cell_type": "markdown",
   "id": "8ab86e76-ab36-441b-a4b9-a8f2637ad7b8",
   "metadata": {},
   "source": [
    "### Tracé"
   ]
  },
  {
   "cell_type": "code",
   "execution_count": null,
   "id": "df1106c3-d5c2-4dd6-86ea-91800c4075aa",
   "metadata": {
    "tags": []
   },
   "outputs": [],
   "source": [
    "plt.figure(figsize=(8, 6))\n",
    "plt.grid()\n",
    "plt.xticks(fontsize=15)\n",
    "plt.yticks(fontsize=15)\n",
    "\n",
    "plt.xlabel('$t$ en s', fontsize=20)\n",
    "plt.ylabel('$u_C$ en V', fontsize=20)\n",
    "\n",
    "plt.plot(list_t, list_y,\n",
    "         'r', label=f'Numérique {n} points')\n",
    "\n",
    "plt.title(\"Performance méthode d'Euler\",\n",
    "          fontsize=20)\n",
    "plt.legend(fontsize=15)\n",
    "plt.show()"
   ]
  }
 ],
 "metadata": {
  "kernelspec": {
   "display_name": "Python 3 (ipykernel)",
   "language": "python",
   "name": "python3"
  },
  "language_info": {
   "codemirror_mode": {
    "name": "ipython",
    "version": 3
   },
   "file_extension": ".py",
   "mimetype": "text/x-python",
   "name": "python",
   "nbconvert_exporter": "python",
   "pygments_lexer": "ipython3",
   "version": "3.11.5"
  }
 },
 "nbformat": 4,
 "nbformat_minor": 5
}
