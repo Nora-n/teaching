{
 "cells": [
  {
   "cell_type": "markdown",
   "id": "58e1d6cd-2741-4bfc-b595-f30bbef5b492",
   "metadata": {},
   "source": [
    "### Importations"
   ]
  },
  {
   "cell_type": "code",
   "execution_count": null,
   "id": "8d59f23b-f40f-449a-9e52-8bf59a4f0d1d",
   "metadata": {
    "tags": []
   },
   "outputs": [],
   "source": [
    "import numpy as np              # pour les tableaux\n",
    "import matplotlib.pyplot as plt # pour les graphiques\n",
    "import pandas as pd             # pour visualiser les données"
   ]
  },
  {
   "cell_type": "markdown",
   "id": "6d1c1f57-13da-4a6f-bd60-3bcc2791ae6b",
   "metadata": {},
   "source": [
    "## IV/B) Suivi conductimétrique"
   ]
  },
  {
   "cell_type": "code",
   "execution_count": null,
   "id": "5e83d2df-4373-4e27-bb78-7ef797723685",
   "metadata": {},
   "outputs": [],
   "source": [
    "sigma0 =       # mS.m^2.mol^-1\n",
    "sigmainf =     # mS.m^2.mol^-1\n",
    "t_list = [\n",
    "    # à remplir\n",
    "]\n",
    "sigma_list = [\n",
    "    # à remplir\n",
    "]"
   ]
  },
  {
   "cell_type": "markdown",
   "id": "fa3d4784-11fe-4660-8bad-4d05e4d7fd5f",
   "metadata": {},
   "source": [
    "## V/A) Exploitation"
   ]
  },
  {
   "cell_type": "markdown",
   "id": "07322298-9ad3-4c38-ade5-404610963528",
   "metadata": {},
   "source": [
    "### Tracé $\\sigma = f(t)$"
   ]
  },
  {
   "cell_type": "code",
   "execution_count": null,
   "id": "1f6a8b2d-46ff-4610-b950-df95f2fe921e",
   "metadata": {
    "tags": []
   },
   "outputs": [],
   "source": [
    "plt.figure(figsize=(8, 6))\n",
    "plt.grid()\n",
    "plt.xticks(fontsize=15)\n",
    "plt.yticks(fontsize=15)\n",
    "\n",
    "plt.xlabel('$GRANDEUR$ en UNITÉ', fontsize=20)\n",
    "plt.ylabel('$GRANDEUR$ en UNITÉ', fontsize=20)\n",
    "\n",
    "plt.scatter(X, Y,\n",
    "            marker=\"+\", s=100, label='Données')\n",
    "\n",
    "plt.title(\"TITRE\",\n",
    "          fontsize=20)\n",
    "plt.legend(fontsize=15)\n",
    "plt.show()"
   ]
  },
  {
   "cell_type": "markdown",
   "id": "cd0396cd-a95c-4f1f-acc6-89875418ab6a",
   "metadata": {},
   "source": [
    "### Variables nécessaires pour la régression linéaire"
   ]
  },
  {
   "cell_type": "code",
   "execution_count": null,
   "id": "2cf94e87-35b0-47b0-bafc-d51a1b4cc1af",
   "metadata": {},
   "outputs": [],
   "source": [
    "sigma_reglin =      # à remplir"
   ]
  },
  {
   "cell_type": "code",
   "execution_count": null,
   "id": "a33f70ae-4523-4c5c-92e5-986b4e92ae21",
   "metadata": {},
   "outputs": [],
   "source": [
    "X =  # à remplir\n",
    "Y =  # à remplir\n",
    "a, b =  # à remplir\n",
    "print(f\"a = {a:.3f}, b = {b:.3f}\")"
   ]
  },
  {
   "cell_type": "markdown",
   "id": "caa43eac-45cb-4df7-af25-ae144b7e6d11",
   "metadata": {},
   "source": [
    "### Tracé de la régression linéaire"
   ]
  },
  {
   "cell_type": "code",
   "execution_count": null,
   "id": "2675dfdd-3e87-4979-af4a-82fb79eb5372",
   "metadata": {
    "tags": []
   },
   "outputs": [],
   "source": [
    "# découpage de l'intervalle pour fonction lisse\n",
    "xliste = \n",
    "# Liste des points y_i obtenus par régression\n",
    "yliste = \n",
    "\n",
    "plt.figure(figsize=(8, 6))\n",
    "plt.grid()\n",
    "plt.xticks(fontsize=15)\n",
    "plt.yticks(fontsize=15)\n",
    "\n",
    "plt.xlabel('$GRANDEUR$ en UNITÉ', fontsize=20)\n",
    "plt.ylabel('$GRANDEUR$ en UNITÉ', fontsize=20)\n",
    "\n",
    "plt.scatter(X, Y, marker=\"+\", s=100, label='Données')\n",
    "plt.plot(xliste, yliste,\n",
    "         'r', label='Régression linéaire')\n",
    "\n",
    "plt.title(\"TITRE\",\n",
    "          fontsize=20)\n",
    "plt.legend(fontsize=15)\n",
    "plt.show()"
   ]
  },
  {
   "cell_type": "raw",
   "id": "e043aa23-3a16-4d89-9256-749553ab2fcb",
   "metadata": {},
   "source": [
    "La régression est ou n'est pas validée parce que…"
   ]
  },
  {
   "cell_type": "markdown",
   "id": "56d34232-a0c5-4f84-b20f-44450a5a465d",
   "metadata": {},
   "source": [
    "### Calcul de $k$"
   ]
  },
  {
   "cell_type": "code",
   "execution_count": null,
   "id": "67429041-78b2-4539-ad86-2e6c4f71fe34",
   "metadata": {},
   "outputs": [],
   "source": [
    "c0 = # à remplir\n",
    "k =  # à remplir"
   ]
  },
  {
   "cell_type": "markdown",
   "id": "adefd6d9-26c3-4b35-b7ff-7e5a0225ec95",
   "metadata": {},
   "source": [
    "### Supplément : calcul de $r^2$"
   ]
  },
  {
   "cell_type": "markdown",
   "id": "bc33fe27-bfa5-4c7a-963d-74de6f61a490",
   "metadata": {
    "tags": [],
    "user_expressions": []
   },
   "source": [
    ":::{tip} Calcul de $r^2$\n",
    "Le coefficient de corrélation calcule la moyenne des distances *au carré* (qu'on soit au-dessus ou en-dessous de la valeur de la régression, on en est loin : on utilise le carré de la distance pour avoir une valeur positive).\n",
    "\n",
    "Pour le calculer, on moyenne donc tous les écarts au carré :\n",
    "$$\n",
    "    E^2 = \\frac{1}{N} \\sum_{n=1}^{N} (y_{\\rm n, exp} - (a\\times x_{\\rm n, exp}+b))^2\n",
    "$$\n",
    "avec $E^2$ les erreurs au carré, et $N$ le nombre de mesures. On doit ensuite diviser par la variance :\n",
    "$$\n",
    "    V = \\frac{1}{N} \\sum_{n=1}^{N} (y_{\\rm n, exp} - y_{\\rm moy})^2\n",
    "$$\n",
    "Le coefficient de corréleation est donc le rapport entre les deux. Comme on veut se rapprocher de l'unité, on calcule en réalité\n",
    "$$\n",
    "    r^2 = 1 - \\frac{E^2}{V}\n",
    "    \\Leftrightarrow\n",
    "    \\boxed{\n",
    "    r^2 = 1 - \\frac{\\sum_{n}^{N} (y_{\\rm n, exp} - (a\\times x_{\\rm n, exp}+b))^2}\n",
    "    {\\sum_{n=1}^{N} (y_{\\rm n, exp} - y_{\\rm moy})^2}\n",
    "    }\n",
    "$$\n",
    ":::"
   ]
  },
  {
   "cell_type": "code",
   "execution_count": null,
   "id": "d2f13f58-4ac9-4e38-aeef-ffbe9e7c004c",
   "metadata": {},
   "outputs": [],
   "source": [
    "r_carre = 1-(sum((Y-(a*X+b))**2))/(sum((Y-np.mean(Y))**2))\n",
    "print(fr'$r^2 = {r_carre:.2f}$')"
   ]
  },
  {
   "cell_type": "markdown",
   "id": "03f0ef6d-fd28-4200-bdf4-6df9b7d48008",
   "metadata": {},
   "source": [
    "## V/B) Énergie d'activation"
   ]
  },
  {
   "cell_type": "markdown",
   "id": "eb55d285-3a1b-482a-914c-992e0cba3216",
   "metadata": {},
   "source": [
    "### Valeurs de base"
   ]
  },
  {
   "cell_type": "code",
   "execution_count": null,
   "id": "80b6c497-c1f6-47cf-896a-2fe7588e6d03",
   "metadata": {},
   "outputs": [],
   "source": [
    "theta = [\n",
    "    # à remplir\n",
    "]\n",
    "T = [\n",
    "    # à remplir\n",
    "]\n",
    "k_list = "
   ]
  },
  {
   "cell_type": "markdown",
   "id": "97b0acd0-cf63-43e4-affd-4aa961ebf617",
   "metadata": {},
   "source": [
    "### Variables pour régression"
   ]
  },
  {
   "cell_type": "code",
   "execution_count": null,
   "id": "59b93aa5-0c07-4dfd-86bd-e84d31370108",
   "metadata": {},
   "outputs": [],
   "source": [
    "X = # à remplir\n",
    "Y = # à remplir\n",
    "a, b = # à remplir\n",
    "print(f\"a = {a:.3f}, b = {b:.3f}\")"
   ]
  },
  {
   "cell_type": "markdown",
   "id": "ea7ee64e-ad6d-42dd-99ec-7aab1659dbd8",
   "metadata": {},
   "source": [
    "### Tracé de la régression linéaire"
   ]
  },
  {
   "cell_type": "code",
   "execution_count": null,
   "id": "f30c9c5a-2432-4949-8250-aff7bd7df652",
   "metadata": {
    "tags": []
   },
   "outputs": [],
   "source": [
    "# découpage de l'intervalle pour fonction lisse\n",
    "xliste = \n",
    "# Liste des points y_i obtenus par régression\n",
    "yliste = \n",
    "\n",
    "plt.figure(figsize=(8, 6))\n",
    "plt.grid()\n",
    "plt.xticks(fontsize=15)\n",
    "plt.yticks(fontsize=15)\n",
    "\n",
    "plt.xlabel('$GRANDEUR$ en UNITÉ', fontsize=20)\n",
    "plt.ylabel('$GRANDEUR$ en UNITÉ', fontsize=20)\n",
    "\n",
    "plt.scatter(X, Y, marker=\"+\", s=100, label='Données')\n",
    "plt.plot(xliste, yliste,\n",
    "         'r', label='Régression linéaire')\n",
    "\n",
    "plt.title(\"TITRE\",\n",
    "          fontsize=20)\n",
    "plt.legend(fontsize=15)\n",
    "plt.show()"
   ]
  },
  {
   "cell_type": "markdown",
   "id": "d85c5cb5-6087-4cb9-9d2b-457cacd242c7",
   "metadata": {},
   "source": [
    "### Détermination de $E_a$"
   ]
  },
  {
   "cell_type": "code",
   "execution_count": null,
   "id": "70180adb-ab6a-43f0-ae6c-6ec5a3738dde",
   "metadata": {},
   "outputs": [],
   "source": [
    "R = 8.314    # J.K^-1.mol^-1\n",
    "Ea = # à remplir\n",
    "print(fr'$E_a = {Ea:.3e}$')"
   ]
  }
 ],
 "metadata": {
  "kernelspec": {
   "display_name": "Python 3 (ipykernel)",
   "language": "python",
   "name": "python3"
  },
  "language_info": {
   "codemirror_mode": {
    "name": "ipython",
    "version": 3
   },
   "file_extension": ".py",
   "mimetype": "text/x-python",
   "name": "python",
   "nbconvert_exporter": "python",
   "pygments_lexer": "ipython3",
   "version": "3.11.5"
  }
 },
 "nbformat": 4,
 "nbformat_minor": 5
}
