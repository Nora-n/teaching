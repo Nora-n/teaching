{
 "cells": [
  {
   "cell_type": "markdown",
   "metadata": {},
   "source": [
    "### Importations"
   ]
  },
  {
   "cell_type": "code",
   "execution_count": null,
   "metadata": {},
   "outputs": [],
   "source": [
    "import numpy as np              # pour les tableaux\n",
    "import pandas as pd             # pour visualiser les données\n",
    "import matplotlib.pyplot as plt # pour les graphiques"
   ]
  },
  {
   "cell_type": "markdown",
   "metadata": {},
   "source": [
    "## Données relevées"
   ]
  },
  {
   "cell_type": "markdown",
   "metadata": {},
   "source": [
    "!!! note Note\n",
    "Pour éviter la verbosité de cette manière de créer des tableaux, il est possible de d'abord créer une liste *puis* de la convertir en tableau avec la fonction `np.asarray` (littéralement, « comme un tableau ») :\n",
    "```\n",
    "f = [1, 2, 3]\n",
    "f = np.asarray(f)\n",
    "```\n",
    "!!!"
   ]
  },
  {
   "cell_type": "code",
   "execution_count": null,
   "metadata": {},
   "outputs": [],
   "source": [
    "V0 = [10 , 20 , 30 , 40 , 50 , 60 , 70]\n",
    "DV0 = np.ones(len(V0))/10\n",
    "f0 = [29 , 21 , 17 , 15 , 13 , 12 , 11]\n",
    "Df0 = np.ones(len(f0))\n",
    "V0, DV0, f0, Df0 = np.asarray(V0), np.asarray(DV0), np.asarray(f0), np.asarray(Df0)\n",
    "\n",
    "uV0 = DV0/np.sqrt(3)\n",
    "uf0 = Df0/np.sqrt(3)"
   ]
  },
  {
   "cell_type": "markdown",
   "metadata": {},
   "source": [
    "### Erreurs relatives"
   ]
  },
  {
   "cell_type": "code",
   "execution_count": null,
   "metadata": {},
   "outputs": [],
   "source": [
    "eV0 = uV0/V0\n",
    "ef0 = uf0/f0"
   ]
  },
  {
   "cell_type": "markdown",
   "metadata": {},
   "source": [
    "!!! tip Conseil\n",
    "Pour voir des ensembles de liste, il est pratique de faire un `DataFrame`, comme suit :\n",
    "`visu = pd.DataFrame([f,A], index=['Fréquence', 'Amplitude a']).T`\n",
    "et `.T` permet de transposer le tableau\n",
    "!!!"
   ]
  },
  {
   "cell_type": "code",
   "execution_count": null,
   "metadata": {},
   "outputs": [],
   "source": [
    "visu = pd.DataFrame([V0, uV0, eV0, f0, uf0, ef0],\n",
    "                    index=['Volume',\n",
    "                           'Incertitude volume',\n",
    "                           'Erreur volume',\n",
    "                           'Fréquence',\n",
    "                           'Incertitude fréquence',\n",
    "                           'Erreur fréquence'\n",
    "                          ]).T\n",
    "visu"
   ]
  },
  {
   "cell_type": "markdown",
   "metadata": {},
   "source": [
    "### Conversion pour régression"
   ]
  },
  {
   "cell_type": "code",
   "execution_count": null,
   "metadata": {},
   "outputs": [],
   "source": [
    "X = 1/V0\n",
    "Y = f0**2"
   ]
  },
  {
   "cell_type": "markdown",
   "metadata": {},
   "source": [
    "### Propagation des erreurs\n",
    "On admet que `eX = eV0` pour l'inverse, et que `eY = 2*ef0` pour le carré. Cf. https://www.physicsforums.com/threads/error-propagation-when-you-take-the-inverse.213794/"
   ]
  },
  {
   "cell_type": "code",
   "execution_count": null,
   "metadata": {},
   "outputs": [],
   "source": [
    "eX = eV0\n",
    "eY = 2*ef0\n",
    "\n",
    "uX = eX*X\n",
    "uY = eY*Y"
   ]
  },
  {
   "cell_type": "markdown",
   "metadata": {},
   "source": [
    "### Régression linéaire"
   ]
  },
  {
   "cell_type": "markdown",
   "metadata": {},
   "source": [
    "!!! abstract Validation d'un modèle linéaire par régression\n",
    "\n",
    "La fonction `polyfit(X,Y,d)` de la bibliothèque `numpy` ajuste au plus près 2 listes de données (abscisses `X`, ordonnées `Y`) par une fonction polynomiale de degrè `d`, et renvoie les coefficients du polynôme le mieux ajusté. Ainsi, pour le degrè 1, cela correspond à une regression linéaire $y = ax + b$.\n",
    "!!!"
   ]
  },
  {
   "cell_type": "code",
   "execution_count": null,
   "metadata": {},
   "outputs": [],
   "source": [
    "a, b = np.polyfit(X, Y, 1)         # « a » le coefficient directeur, « b » l'ordonnée à l'origine\n",
    "print(f\"a = {a:.3f}, b = {b:.2f}\") # .3f pour 3 valeurs après la virgule"
   ]
  },
  {
   "cell_type": "markdown",
   "metadata": {},
   "source": [
    "### Fonction pour le tracé"
   ]
  },
  {
   "cell_type": "code",
   "execution_count": null,
   "metadata": {},
   "outputs": [],
   "source": [
    "def y(x, a, b):\n",
    "    return a*x + b"
   ]
  },
  {
   "cell_type": "markdown",
   "metadata": {},
   "source": [
    "!!! abstract Tracé d'une fonction : abscisse\n",
    "Une fonction en $\\texttt{Python}$ reste une application qui donne une image à un antécédant. Pour pouvoir en faire la représentation graphique, il faut définir toute une série de points sur lesquels on veut tracer pour ensuite les relier un à un. Pour cela, `np.linspace` permet de découper un intervalle de la valeur minimale voulue à la valeur maximale voulue, avec un nombre de points $N$.\n",
    "\n",
    "Ici, on veut tracer de la valeur minimale de `X` à la valeur maximale de `X`, en ayant suffisamment de points pour que le tracé soit efficace. Complétez le code suivant pour définir `wliste` la liste des valeurs de `X` sur laquelle tracer.\n",
    "!!!"
   ]
  },
  {
   "cell_type": "code",
   "execution_count": null,
   "metadata": {},
   "outputs": [],
   "source": [
    "xliste = np.linspace(0, max(X), 300)"
   ]
  },
  {
   "cell_type": "markdown",
   "metadata": {},
   "source": [
    "!!! tip Indice\n",
    "Les fonctions `min` et `max` existent.\n",
    "!!!"
   ]
  },
  {
   "cell_type": "markdown",
   "metadata": {},
   "source": [
    "!!! abstract Tracé d'une fonction : ordonnée\n",
    "On a dont toutes les briques pour tracer la fonction : la fonction en elle-même, les valeurs d'abscisse, et les meilleurs paramètres. Pour avoir les ordonnées, il suffit de calculer `f(x, a, b)`.\n",
    "!!!"
   ]
  },
  {
   "cell_type": "code",
   "execution_count": null,
   "metadata": {},
   "outputs": [],
   "source": [
    "yliste = y(xliste, a, b)"
   ]
  },
  {
   "cell_type": "markdown",
   "metadata": {},
   "source": [
    "!!! warning Attention\n",
    "<center><b>\n",
    "La seule façon valable de conclure à la validité d’une régression linéaire est une représentation graphique où l’on observe l’alignement des points avec la droite de régression.\n",
    "</center>\n",
    "!!!"
   ]
  },
  {
   "cell_type": "markdown",
   "metadata": {},
   "source": [
    "## Validation graphique avec barres d'erreur"
   ]
  },
  {
   "cell_type": "markdown",
   "metadata": {},
   "source": [
    "!!! abstract Note\n",
    "Afin d’ajouter des barres d’erreurs sur un graphique, il faut remplacer la fonction `plt.plot` par la fonction `plt.errorbar`. Une série de nouveaux paramètres permettent de personnaliser ces barres d’erreur.\n",
    "!!!"
   ]
  },
  {
   "cell_type": "code",
   "execution_count": null,
   "metadata": {},
   "outputs": [],
   "source": [
    "plt.close()                                 # force la fermeture des figures précédentes\n",
    "\n",
    "plt.figure(figsize=(8, 6))                  # dimension horizontale, verticale\n",
    "plt.grid()                                  # affiche un quadrillage de lecture\n",
    "plt.xlabel('$grandeur$ en UNITÉ',           # Donne le nom de l'axe x, avec $$ pour le mode math\n",
    "           fontsize=10)                     # en grand\n",
    "plt.ylabel('$grandeur$ en UNITÉ',           # Donne le nom de l'axe y, avec $$ pour le mode math\n",
    "           fontsize=10)                     # en grand\n",
    "\n",
    "plt.errorbar(X, Y,                          # trace les données avec des barres d'erreurs ux et uy\n",
    "             xerr=uX, yerr=uY,\n",
    "             marker='x',\n",
    "             linestyle='None', capsize=3,   # possibilité de personnalisation, importante\n",
    "             color='b', label='Mesures')    # légende\n",
    "\n",
    "plt.plot(xliste, yliste,                       # trace un graphe avec xlin en abscisse et yreg en ordonnée\n",
    "         'r', label='Régression linéaire')\n",
    "\n",
    "plt.title('Titre efficace et descriptif',\n",
    "          fontsize=15)\n",
    "plt.legend(fontsize=12)\n",
    "plt.tight_layout()\n",
    "plt.show()"
   ]
  },
  {
   "cell_type": "markdown",
   "metadata": {},
   "source": [
    "!!! note Note\n",
    "Toutes les options de `grid`, `xticks` etc sont optionnelles, et ne sont pas à retenir. Ce qu'il est exigible que vous reteniez est simplement :\n",
    "```\n",
    "X = np.array([0 , 2 , 4 , 6 , 8 , 10])\n",
    "Y = np.array([0.5 , 7.9 , 11 , 17.5 , 26 , 31.8])\n",
    "y_reg = a*X+b\n",
    "\n",
    "plt.scatter(X, Y)\n",
    "plt.plot(X, y_reg)\n",
    "\n",
    "plt.show()\n",
    "```\n",
    "Je vous invite à essayer de lancer ces commandes et voir la différence… c'est ce qui pourra vous dinstinguer d'um élève lambda à quelqu'um d'investix et avec le sens de la présentation scientifique. À bon entendeur !\n",
    "!!!"
   ]
  },
  {
   "cell_type": "markdown",
   "metadata": {},
   "source": [
    "### Détermination de la valeur de $\\gamma$"
   ]
  },
  {
   "cell_type": "code",
   "execution_count": null,
   "metadata": {},
   "outputs": [],
   "source": [
    "m = 8.8e-3          # kg\n",
    "P0 = 0.995e5        # Pa = N.m⁻²\n",
    "d = 13.97e-3        # m\n",
    "a_cor = a*(1e-2)**3 # 1cm³ = 10⁻⁶m³\n",
    "\n",
    "gamma = 64*a_cor*m/(P0*d**4)\n",
    "print(f'gamma = {gamma:.2f}')"
   ]
  },
  {
   "cell_type": "markdown",
   "metadata": {},
   "source": [
    "## Simulation de Monte-Carlo pour obtenir des incertitudes sur la pente et l'ordonnée à l'origine\n",
    "\n",
    "Pour obtenir des incertitudes sur $a$ et $b$, nous allons:\n",
    "\n",
    "- faire varier aléatoirement les $n$ couples de valeurs mesurées $(x_i,y_i)$ selon des **lois de probabilité uniformes rectangulaires** de demi-largeur la précision $\\Delta(x_i) = \\sqrt{3}u(x_i)$, simulée grâce à la fonction `np.random.uniform` (même chose pour $y_i$).\n",
    "- Pour chaque série de mesures simulée, faire la regression  linéaire, et obtenir des valeurs de pente $a_k$ et d'ordonnée à l'origine $b_k$. \n",
    "- La meilleur estimation de $a$ et $b$ sera la moyenne des valeurs calculées \n",
    "- Les incertitude $u(a)$ et $u(b)$ sur ces moyennes seront l'écart-type expérimental des valeurs calculées."
   ]
  },
  {
   "cell_type": "code",
   "execution_count": null,
   "metadata": {},
   "outputs": [],
   "source": [
    "# =========================================================================== #\n",
    "#                                   Calculs                                   #\n",
    "# =========================================================================== #\n",
    "\n",
    "N = 10000                  # nombre de régressions à effectuer\n",
    "\n",
    "alist, blist = [], []      # création des listes vides pour stocker les valeurs\n",
    "for i in range(N):\n",
    "    x_simu = X + np.sqrt(3)*uX*np.random.uniform(-1, 1)\n",
    "    y_simu = Y + np.sqrt(3)*uY*np.random.uniform(-1, 1)\n",
    "\n",
    "    p = np.polyfit(x_simu, y_simu, 1)\n",
    "\n",
    "    alist.append(p[0])\n",
    "    blist.append(p[1])\n",
    "\n",
    "# =========================================================================== #\n",
    "#                                 Utilisation                                 #\n",
    "# =========================================================================== #\n",
    "\n",
    "a_mean, b_mean = np.mean(alist), np.mean(blist)\n",
    "ua, ub = np.std(alist, ddof=1), np.std(blist, ddof=1)\n",
    "\n",
    "print('Coef.directeur =', f'{a_mean:.3f}',       #.3e pour écriture scientifique\n",
    "      '±', f'{ua:.3f}')                          # avec 3 chiffres significatifs\n",
    "print(\"Ordonnée à l'origine =\", f'{b_mean:.3f}', # ATTENTION à la rédaction\n",
    "      '±', f'{ub:.3f}')                          # finale d'une mesure…"
   ]
  },
  {
   "cell_type": "markdown",
   "metadata": {},
   "source": [
    "### Estimations basses et hautes de gamma"
   ]
  },
  {
   "cell_type": "code",
   "execution_count": null,
   "metadata": {},
   "outputs": [],
   "source": [
    "a_min = a_mean-ua\n",
    "a_max = a_mean+ua\n",
    "\n",
    "a_cor_mean = a_mean*(1e-2)**3 # 1cm³ = 10⁻⁶m³\n",
    "a_cor_min = a_min*(1e-2)**3 # 1cm³ = 10⁻⁶m³\n",
    "a_cor_max = a_max*(1e-2)**3 # 1cm³ = 10⁻⁶m³\n",
    "\n",
    "g_mean = 64*a_cor_mean*m/(P0*d**4)\n",
    "g_min = 64*a_cor_min*m/(P0*d**4)\n",
    "g_max = 64*a_cor_max*m/(P0*d**4)\n",
    "ug = (g_max-g_min)/2\n",
    "\n",
    "print(f'gamma = {g_mean:.2f} ± {ug:.2f}')"
   ]
  },
  {
   "cell_type": "code",
   "execution_count": null,
   "metadata": {},
   "outputs": [],
   "source": [
    "E_n = (1.4-g_mean)/(ug)\n",
    "E_n"
   ]
  }
 ],
 "metadata": {
  "kernelspec": {
   "display_name": "Python 3",
   "language": "python",
   "name": "python3"
  },
  "language_info": {
   "codemirror_mode": {
    "name": "ipython",
    "version": 3
   },
   "file_extension": ".py",
   "mimetype": "text/x-python",
   "name": "python",
   "nbconvert_exporter": "python",
   "pygments_lexer": "ipython3",
   "version": "3.7.12"
  }
 },
 "nbformat": 4,
 "nbformat_minor": 4
}
