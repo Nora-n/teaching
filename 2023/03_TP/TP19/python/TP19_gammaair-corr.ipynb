{
 "cells": [
  {
   "cell_type": "markdown",
   "metadata": {
    "user_expressions": []
   },
   "source": [
    "### Importations"
   ]
  },
  {
   "cell_type": "code",
   "execution_count": 1,
   "metadata": {},
   "outputs": [],
   "source": [
    "import numpy as np              # pour les tableaux\n",
    "import pandas as pd             # pour visualiser les données\n",
    "import matplotlib.pyplot as plt # pour les graphiques"
   ]
  },
  {
   "cell_type": "markdown",
   "metadata": {
    "user_expressions": []
   },
   "source": [
    "## Données relevées"
   ]
  },
  {
   "cell_type": "markdown",
   "metadata": {
    "user_expressions": []
   },
   "source": [
    "!!! note Note\n",
    "Pour éviter la verbosité de cette manière de créer des tableaux, il est possible de d'abord créer une liste *puis* de la convertir en tableau avec la fonction `np.asarray` (littéralement, « comme un tableau ») :\n",
    "```\n",
    "f = [1, 2, 3]\n",
    "f = np.asarray(f)\n",
    "```\n",
    "!!!"
   ]
  },
  {
   "cell_type": "code",
   "execution_count": 2,
   "metadata": {},
   "outputs": [],
   "source": [
    "V0 = [10 , 20 , 30 , 40 , 50 , 60 , 70] # cm^3\n",
    "DV0 = np.ones(len(V0))/10               # cm^3\n",
    "f0 = [29 , 21 , 17 , 15 , 13 , 12 , 11] # Hz\n",
    "Df0 = np.ones(len(f0))                  # Hz\n",
    "V0, DV0, f0, Df0 = np.asarray(V0), np.asarray(DV0), np.asarray(f0), np.asarray(Df0)\n",
    "\n",
    "uV0 = DV0/np.sqrt(3) # cm^3\n",
    "uf0 = Df0/np.sqrt(3) # Hz"
   ]
  },
  {
   "cell_type": "markdown",
   "metadata": {
    "user_expressions": []
   },
   "source": [
    "### Erreurs relatives"
   ]
  },
  {
   "cell_type": "code",
   "execution_count": 3,
   "metadata": {},
   "outputs": [],
   "source": [
    "eV0 = uV0/V0\n",
    "ef0 = uf0/f0"
   ]
  },
  {
   "cell_type": "markdown",
   "metadata": {
    "user_expressions": []
   },
   "source": [
    "!!! tip Conseil\n",
    "Pour voir des ensembles de liste, il est pratique de faire un `DataFrame`, comme suit :\n",
    "`visu = pd.DataFrame([f,A], index=['Fréquence', 'Amplitude a']).T`\n",
    "et `.T` permet de transposer le tableau\n",
    "!!!"
   ]
  },
  {
   "cell_type": "code",
   "execution_count": 4,
   "metadata": {},
   "outputs": [
    {
     "data": {
      "text/html": [
       "<div>\n",
       "<style scoped>\n",
       "    .dataframe tbody tr th:only-of-type {\n",
       "        vertical-align: middle;\n",
       "    }\n",
       "\n",
       "    .dataframe tbody tr th {\n",
       "        vertical-align: top;\n",
       "    }\n",
       "\n",
       "    .dataframe thead th {\n",
       "        text-align: right;\n",
       "    }\n",
       "</style>\n",
       "<table border=\"1\" class=\"dataframe\">\n",
       "  <thead>\n",
       "    <tr style=\"text-align: right;\">\n",
       "      <th></th>\n",
       "      <th>Volume</th>\n",
       "      <th>Incertitude volume</th>\n",
       "      <th>Erreur volume</th>\n",
       "      <th>Fréquence</th>\n",
       "      <th>Incertitude fréquence</th>\n",
       "      <th>Erreur fréquence</th>\n",
       "    </tr>\n",
       "  </thead>\n",
       "  <tbody>\n",
       "    <tr>\n",
       "      <th>0</th>\n",
       "      <td>10.0</td>\n",
       "      <td>0.057735</td>\n",
       "      <td>0.005774</td>\n",
       "      <td>29.0</td>\n",
       "      <td>0.57735</td>\n",
       "      <td>0.019909</td>\n",
       "    </tr>\n",
       "    <tr>\n",
       "      <th>1</th>\n",
       "      <td>20.0</td>\n",
       "      <td>0.057735</td>\n",
       "      <td>0.002887</td>\n",
       "      <td>21.0</td>\n",
       "      <td>0.57735</td>\n",
       "      <td>0.027493</td>\n",
       "    </tr>\n",
       "    <tr>\n",
       "      <th>2</th>\n",
       "      <td>30.0</td>\n",
       "      <td>0.057735</td>\n",
       "      <td>0.001925</td>\n",
       "      <td>17.0</td>\n",
       "      <td>0.57735</td>\n",
       "      <td>0.033962</td>\n",
       "    </tr>\n",
       "    <tr>\n",
       "      <th>3</th>\n",
       "      <td>40.0</td>\n",
       "      <td>0.057735</td>\n",
       "      <td>0.001443</td>\n",
       "      <td>15.0</td>\n",
       "      <td>0.57735</td>\n",
       "      <td>0.038490</td>\n",
       "    </tr>\n",
       "    <tr>\n",
       "      <th>4</th>\n",
       "      <td>50.0</td>\n",
       "      <td>0.057735</td>\n",
       "      <td>0.001155</td>\n",
       "      <td>13.0</td>\n",
       "      <td>0.57735</td>\n",
       "      <td>0.044412</td>\n",
       "    </tr>\n",
       "    <tr>\n",
       "      <th>5</th>\n",
       "      <td>60.0</td>\n",
       "      <td>0.057735</td>\n",
       "      <td>0.000962</td>\n",
       "      <td>12.0</td>\n",
       "      <td>0.57735</td>\n",
       "      <td>0.048113</td>\n",
       "    </tr>\n",
       "    <tr>\n",
       "      <th>6</th>\n",
       "      <td>70.0</td>\n",
       "      <td>0.057735</td>\n",
       "      <td>0.000825</td>\n",
       "      <td>11.0</td>\n",
       "      <td>0.57735</td>\n",
       "      <td>0.052486</td>\n",
       "    </tr>\n",
       "  </tbody>\n",
       "</table>\n",
       "</div>"
      ],
      "text/plain": [
       "   Volume  Incertitude volume  Erreur volume  Fréquence  \\\n",
       "0    10.0            0.057735       0.005774       29.0   \n",
       "1    20.0            0.057735       0.002887       21.0   \n",
       "2    30.0            0.057735       0.001925       17.0   \n",
       "3    40.0            0.057735       0.001443       15.0   \n",
       "4    50.0            0.057735       0.001155       13.0   \n",
       "5    60.0            0.057735       0.000962       12.0   \n",
       "6    70.0            0.057735       0.000825       11.0   \n",
       "\n",
       "   Incertitude fréquence  Erreur fréquence  \n",
       "0                0.57735          0.019909  \n",
       "1                0.57735          0.027493  \n",
       "2                0.57735          0.033962  \n",
       "3                0.57735          0.038490  \n",
       "4                0.57735          0.044412  \n",
       "5                0.57735          0.048113  \n",
       "6                0.57735          0.052486  "
      ]
     },
     "execution_count": 4,
     "metadata": {},
     "output_type": "execute_result"
    }
   ],
   "source": [
    "visu = pd.DataFrame([V0, uV0, eV0, f0, uf0, ef0],\n",
    "                    index=['Volume',\n",
    "                           'Incertitude volume',\n",
    "                           'Erreur volume',\n",
    "                           'Fréquence',\n",
    "                           'Incertitude fréquence',\n",
    "                           'Erreur fréquence'\n",
    "                          ]).T\n",
    "visu"
   ]
  },
  {
   "cell_type": "markdown",
   "metadata": {
    "user_expressions": []
   },
   "source": [
    "### Conversion pour régression"
   ]
  },
  {
   "cell_type": "code",
   "execution_count": 5,
   "metadata": {},
   "outputs": [],
   "source": [
    "X = 1/V0\n",
    "Y = f0**2"
   ]
  },
  {
   "cell_type": "markdown",
   "metadata": {
    "user_expressions": []
   },
   "source": [
    "### Propagation des erreurs\n",
    "On admet que `eX = eV0` pour l'inverse, et que `eY = 2*ef0` pour le carré. Cf. https://www.physicsforums.com/threads/error-propagation-when-you-take-the-inverse.213794/"
   ]
  },
  {
   "cell_type": "code",
   "execution_count": 6,
   "metadata": {},
   "outputs": [],
   "source": [
    "eX = eV0\n",
    "eY = 2*ef0\n",
    "\n",
    "uX = eX*X\n",
    "uY = eY*Y"
   ]
  },
  {
   "cell_type": "markdown",
   "metadata": {
    "user_expressions": []
   },
   "source": [
    "### Régression linéaire"
   ]
  },
  {
   "cell_type": "markdown",
   "metadata": {
    "user_expressions": []
   },
   "source": [
    "!!! abstract Validation d'un modèle linéaire par régression\n",
    "\n",
    "La fonction `polyfit(X,Y,d)` de la bibliothèque `numpy` ajuste au plus près 2 listes de données (abscisses `X`, ordonnées `Y`) par une fonction polynomiale de degrè `d`, et renvoie les coefficients du polynôme le mieux ajusté. Ainsi, pour le degrè 1, cela correspond à une regression linéaire $y = ax + b$.\n",
    "!!!"
   ]
  },
  {
   "cell_type": "code",
   "execution_count": 7,
   "metadata": {},
   "outputs": [
    {
     "name": "stdout",
     "output_type": "stream",
     "text": [
      "a = 8399.969, b = 7.43\n"
     ]
    }
   ],
   "source": [
    "a, b = np.polyfit(X, Y, 1)         # « a » le coefficient directeur, « b » l'ordonnée à l'origine\n",
    "print(f\"a = {a:.3f}, b = {b:.2f}\") # .3f pour 3 valeurs après la virgule"
   ]
  },
  {
   "cell_type": "markdown",
   "metadata": {
    "user_expressions": []
   },
   "source": [
    "### Fonction pour le tracé"
   ]
  },
  {
   "cell_type": "code",
   "execution_count": 8,
   "metadata": {},
   "outputs": [],
   "source": [
    "def y(x, a, b):\n",
    "    return a*x + b"
   ]
  },
  {
   "cell_type": "markdown",
   "metadata": {
    "user_expressions": []
   },
   "source": [
    "!!! abstract Tracé d'une fonction : abscisse\n",
    "Une fonction en $\\texttt{Python}$ reste une application qui donne une image à un antécédant. Pour pouvoir en faire la représentation graphique, il faut définir toute une série de points sur lesquels on veut tracer pour ensuite les relier un à un. Pour cela, `np.linspace` permet de découper un intervalle de la valeur minimale voulue à la valeur maximale voulue, avec un nombre de points $N$.\n",
    "\n",
    "Ici, on veut tracer de la valeur minimale de `X` à la valeur maximale de `X`, en ayant suffisamment de points pour que le tracé soit efficace. Complétez le code suivant pour définir `wliste` la liste des valeurs de `X` sur laquelle tracer.\n",
    "!!!"
   ]
  },
  {
   "cell_type": "code",
   "execution_count": 9,
   "metadata": {},
   "outputs": [],
   "source": [
    "xliste = np.linspace(0, max(X), 300)"
   ]
  },
  {
   "cell_type": "markdown",
   "metadata": {
    "user_expressions": []
   },
   "source": [
    "!!! tip Indice\n",
    "Les fonctions `min` et `max` existent.\n",
    "!!!"
   ]
  },
  {
   "cell_type": "markdown",
   "metadata": {
    "user_expressions": []
   },
   "source": [
    "!!! abstract Tracé d'une fonction : ordonnée\n",
    "On a dont toutes les briques pour tracer la fonction : la fonction en elle-même, les valeurs d'abscisse, et les meilleurs paramètres. Pour avoir les ordonnées, il suffit de calculer `f(x, a, b)`.\n",
    "!!!"
   ]
  },
  {
   "cell_type": "code",
   "execution_count": 10,
   "metadata": {},
   "outputs": [],
   "source": [
    "yliste = y(xliste, a, b)"
   ]
  },
  {
   "cell_type": "markdown",
   "metadata": {
    "user_expressions": []
   },
   "source": [
    "!!! warning Attention\n",
    "<center><b>\n",
    "La seule façon valable de conclure à la validité d’une régression linéaire est une représentation graphique où l’on observe l’alignement des points avec la droite de régression.\n",
    "</center>\n",
    "!!!"
   ]
  },
  {
   "cell_type": "markdown",
   "metadata": {
    "user_expressions": []
   },
   "source": [
    "## Validation graphique avec barres d'erreur"
   ]
  },
  {
   "cell_type": "markdown",
   "metadata": {
    "tags": [],
    "user_expressions": []
   },
   "source": [
    "!!! abstract Note\n",
    "Afin d’ajouter des barres d’erreurs sur un graphique, il faut remplacer la fonction `plt.plot` par la fonction `plt.errorbar`. Une série de nouveaux paramètres permettent de personnaliser ces barres d’erreur.\n",
    "!!!"
   ]
  },
  {
   "cell_type": "code",
   "execution_count": 19,
   "metadata": {},
   "outputs": [
    {
     "data": {
      "image/png": "[encoded data removed]",
      "text/plain": [
       "<Figure size 800x600 with 1 Axes>"
      ]
     },
     "metadata": {},
     "output_type": "display_data"
    }
   ],
   "source": [
    "plt.close()                                 # force la fermeture des figures précédentes\n",
    "\n",
    "plt.figure(figsize=(8, 6))                  # dimension horizontale, verticale\n",
    "plt.grid()                                  # affiche un quadrillage de lecture\n",
    "plt.xticks(fontsize=15)\n",
    "plt.yticks(fontsize=15)\n",
    "\n",
    "plt.xlabel('$1/V0$ en cm$^{-3}$',           # Donne le nom de l'axe x, avec $$ pour le mode math\n",
    "           fontsize=15)                     # en grand\n",
    "plt.ylabel('$f_0{}^2$ en Hz$^2$',           # Donne le nom de l'axe y, avec $$ pour le mode math\n",
    "           fontsize=15)                     # en grand\n",
    "\n",
    "plt.errorbar(X, Y,                          # trace les données avec des barres d'erreurs ux et uy\n",
    "             xerr=uX, yerr=uY,\n",
    "             fmt='.',\n",
    "             capsize=3,   # possibilité de personnalisation, importante\n",
    "             color='b', label='Mesures')    # légende\n",
    "\n",
    "plt.plot(xliste, yliste,                       # trace un graphe avec xlin en abscisse et yreg en ordonnée\n",
    "         'r', label='Régression linéaire')\n",
    "\n",
    "plt.title(\"Mesure du coefficient adiabatique de l'air\",\n",
    "          fontsize=15)\n",
    "plt.legend(fontsize=12)\n",
    "plt.tight_layout()\n",
    "plt.show()"
   ]
  },
  {
   "cell_type": "markdown",
   "metadata": {
    "user_expressions": []
   },
   "source": [
    "!!! note Note\n",
    "Toutes les options de `grid`, `xticks` etc sont optionnelles, et ne sont pas à retenir. Ce qu'il est exigible que vous reteniez est simplement :\n",
    "```\n",
    "X = np.array([0 , 2 , 4 , 6 , 8 , 10])\n",
    "Y = np.array([0.5 , 7.9 , 11 , 17.5 , 26 , 31.8])\n",
    "y_reg = a*X+b\n",
    "\n",
    "plt.scatter(X, Y)\n",
    "plt.plot(X, y_reg)\n",
    "\n",
    "plt.show()\n",
    "```\n",
    "Je vous invite à essayer de lancer ces commandes et voir la différence… c'est ce qui pourra vous dinstinguer d'um élève lambda à quelqu'um d'investix et avec le sens de la présentation scientifique. À bon entendeur !\n",
    "!!!"
   ]
  },
  {
   "cell_type": "markdown",
   "metadata": {
    "user_expressions": []
   },
   "source": [
    "### Détermination de la valeur de $\\gamma$"
   ]
  },
  {
   "cell_type": "code",
   "execution_count": 12,
   "metadata": {},
   "outputs": [
    {
     "name": "stdout",
     "output_type": "stream",
     "text": [
      "gamma = 1.25\n"
     ]
    }
   ],
   "source": [
    "m = 8.8e-3          # kg\n",
    "P0 = 0.995e5        # Pa = N.m⁻²\n",
    "d = 13.97e-3        # m\n",
    "a_cor = a*(1e-2)**3 # 1cm³ = 10⁻⁶m³\n",
    "\n",
    "gamma = 64*a_cor*m/(P0*d**4)\n",
    "print(f'gamma = {gamma:.2f}')"
   ]
  },
  {
   "cell_type": "markdown",
   "metadata": {
    "user_expressions": []
   },
   "source": [
    "## Simulation de Monte-Carlo pour obtenir des incertitudes sur la pente et l'ordonnée à l'origine\n",
    "\n",
    "Pour obtenir des incertitudes sur $a$ et $b$, nous allons:\n",
    "\n",
    "- faire varier aléatoirement les $n$ couples de valeurs mesurées $(x_i,y_i)$ selon des **lois de probabilité uniformes rectangulaires** de demi-largeur la précision $\\Delta(x_i) = \\sqrt{3}u(x_i)$, simulée grâce à la fonction `np.random.uniform` (même chose pour $y_i$).\n",
    "- Pour chaque série de mesures simulée, faire la regression  linéaire, et obtenir des valeurs de pente $a_k$ et d'ordonnée à l'origine $b_k$. \n",
    "- La meilleur estimation de $a$ et $b$ sera la moyenne des valeurs calculées \n",
    "- Les incertitude $u(a)$ et $u(b)$ sur ces moyennes seront l'écart-type expérimental des valeurs calculées."
   ]
  },
  {
   "cell_type": "code",
   "execution_count": 13,
   "metadata": {},
   "outputs": [
    {
     "name": "stdout",
     "output_type": "stream",
     "text": [
      "Coef.directeur = 8396.021 ± 245.315\n",
      "Ordonnée à l'origine = 7.163 ± 10.708\n"
     ]
    }
   ],
   "source": [
    "# ===========================================================================#\n",
    "#                                   Calculs                                  #\n",
    "# ===========================================================================#\n",
    "\n",
    "Delta_X = uX*np.sqrt(3)\n",
    "Delta_Y = uY*np.sqrt(3)\n",
    "\n",
    "N = 10000                  # nombre de régressions à effectuer\n",
    "\n",
    "alist, blist = [], []      # création des listes vides pour stocker les valeurs\n",
    "for i in range(N):\n",
    "    x_simu = X + Delta_X*np.random.uniform(-1, 1)\n",
    "    y_simu = Y + Delta_Y*np.random.uniform(-1, 1)\n",
    "\n",
    "    p = np.polyfit(x_simu, y_simu, 1)\n",
    "\n",
    "    alist.append(p[0])\n",
    "    blist.append(p[1])\n",
    "\n",
    "# ===========================================================================#\n",
    "#                                 Utilisation                                #\n",
    "# ===========================================================================#\n",
    "\n",
    "a_mean, b_mean = np.mean(alist), np.mean(blist)\n",
    "ua, ub = np.std(alist, ddof=1), np.std(blist, ddof=1)\n",
    "\n",
    "print('Coef.directeur =', f'{a_mean:.3f}',       #.3e pour écriture scientifique\n",
    "      '±', f'{ua:.3f}')                          # avec 3 chiffres significatifs\n",
    "print(\"Ordonnée à l'origine =\", f'{b_mean:.3f}', # ATTENTION à la rédaction\n",
    "      '±', f'{ub:.3f}')                          # finale d'une mesure…"
   ]
  },
  {
   "cell_type": "markdown",
   "metadata": {
    "user_expressions": []
   },
   "source": [
    "### Estimations basses et hautes de gamma"
   ]
  },
  {
   "cell_type": "code",
   "execution_count": 14,
   "metadata": {},
   "outputs": [
    {
     "name": "stdout",
     "output_type": "stream",
     "text": [
      "gamma = 1.25 ± 0.04\n"
     ]
    }
   ],
   "source": [
    "a_min = a_mean-ua*np.sqrt(3)    # on utilise l'incertitude élargie\n",
    "a_max = a_mean+ua*np.sqrt(3)\n",
    "\n",
    "a_cor_mean = a_mean*(1e-2)**3 # 1cm³ = 10⁻⁶m³\n",
    "a_cor_min = a_min*(1e-2)**3 # 1cm³ = 10⁻⁶m³\n",
    "a_cor_max = a_max*(1e-2)**3 # 1cm³ = 10⁻⁶m³\n",
    "\n",
    "g_mean = 64*a_cor_mean*m/(P0*d**4)\n",
    "g_min = 64*a_cor_min*m/(P0*d**4)\n",
    "g_max = 64*a_cor_max*m/(P0*d**4)\n",
    "ug = (g_max-g_min)/(2*np.sqrt(3))\n",
    "\n",
    "print(f'gamma = {g_mean:.2f} ± {ug:.2f}')"
   ]
  },
  {
   "cell_type": "code",
   "execution_count": 15,
   "metadata": {
    "tags": []
   },
   "outputs": [
    {
     "data": {
      "text/plain": [
       "4.17618081095967"
      ]
     },
     "execution_count": 15,
     "metadata": {},
     "output_type": "execute_result"
    }
   ],
   "source": [
    "E_n = (1.4-g_mean)/(ug)\n",
    "E_n"
   ]
  }
 ],
 "metadata": {
  "kernelspec": {
   "display_name": "Python 3 (ipykernel)",
   "language": "python",
   "name": "python3"
  },
  "language_info": {
   "codemirror_mode": {
    "name": "ipython",
    "version": 3
   },
   "file_extension": ".py",
   "mimetype": "text/x-python",
   "name": "python",
   "nbconvert_exporter": "python",
   "pygments_lexer": "ipython3",
   "version": "3.11.7"
  }
 },
 "nbformat": 4,
 "nbformat_minor": 4
}
