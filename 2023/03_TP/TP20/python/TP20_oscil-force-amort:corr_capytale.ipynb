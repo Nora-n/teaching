{
 "cells": [
  {
   "cell_type": "markdown",
   "metadata": {},
   "source": [
    "### Importations"
   ]
  },
  {
   "cell_type": "code",
   "execution_count": 1,
   "metadata": {},
   "outputs": [],
   "source": [
    "import numpy as np              # pour les tableaux\n",
    "import pandas as pd             # pour la visualisation des données\n",
    "import matplotlib.pyplot as plt # pour les graphiques\n",
    "\n",
    "from scipy.optimize import curve_fit # pour l'ajustement\n",
    "from scipy.interpolate import pchip  # pour le lissage"
   ]
  },
  {
   "cell_type": "markdown",
   "metadata": {},
   "source": [
    "# IV/ Réaliser\n",
    "## Données expérimentales"
   ]
  },
  {
   "cell_type": "code",
   "execution_count": 2,
   "metadata": {},
   "outputs": [
    {
     "data": {
      "text/html": [
       "<div>\n",
       "<style scoped>\n",
       "    .dataframe tbody tr th:only-of-type {\n",
       "        vertical-align: middle;\n",
       "    }\n",
       "\n",
       "    .dataframe tbody tr th {\n",
       "        vertical-align: top;\n",
       "    }\n",
       "\n",
       "    .dataframe thead th {\n",
       "        text-align: right;\n",
       "    }\n",
       "</style>\n",
       "<table border=\"1\" class=\"dataframe\">\n",
       "  <thead>\n",
       "    <tr style=\"text-align: right;\">\n",
       "      <th></th>\n",
       "      <th>Fréquence</th>\n",
       "      <th>Amplitude a</th>\n",
       "    </tr>\n",
       "  </thead>\n",
       "  <tbody>\n",
       "    <tr>\n",
       "      <th>0</th>\n",
       "      <td>4.00</td>\n",
       "      <td>0.103</td>\n",
       "    </tr>\n",
       "    <tr>\n",
       "      <th>1</th>\n",
       "      <td>5.00</td>\n",
       "      <td>0.154</td>\n",
       "    </tr>\n",
       "    <tr>\n",
       "      <th>2</th>\n",
       "      <td>6.00</td>\n",
       "      <td>0.466</td>\n",
       "    </tr>\n",
       "    <tr>\n",
       "      <th>3</th>\n",
       "      <td>6.20</td>\n",
       "      <td>0.661</td>\n",
       "    </tr>\n",
       "    <tr>\n",
       "      <th>4</th>\n",
       "      <td>6.40</td>\n",
       "      <td>0.937</td>\n",
       "    </tr>\n",
       "    <tr>\n",
       "      <th>5</th>\n",
       "      <td>6.65</td>\n",
       "      <td>1.364</td>\n",
       "    </tr>\n",
       "    <tr>\n",
       "      <th>6</th>\n",
       "      <td>6.75</td>\n",
       "      <td>1.828</td>\n",
       "    </tr>\n",
       "    <tr>\n",
       "      <th>7</th>\n",
       "      <td>7.00</td>\n",
       "      <td>1.902</td>\n",
       "    </tr>\n",
       "    <tr>\n",
       "      <th>8</th>\n",
       "      <td>7.50</td>\n",
       "      <td>0.758</td>\n",
       "    </tr>\n",
       "    <tr>\n",
       "      <th>9</th>\n",
       "      <td>8.00</td>\n",
       "      <td>0.492</td>\n",
       "    </tr>\n",
       "    <tr>\n",
       "      <th>10</th>\n",
       "      <td>10.00</td>\n",
       "      <td>0.254</td>\n",
       "    </tr>\n",
       "    <tr>\n",
       "      <th>11</th>\n",
       "      <td>13.00</td>\n",
       "      <td>0.204</td>\n",
       "    </tr>\n",
       "    <tr>\n",
       "      <th>12</th>\n",
       "      <td>15.00</td>\n",
       "      <td>0.196</td>\n",
       "    </tr>\n",
       "  </tbody>\n",
       "</table>\n",
       "</div>"
      ],
      "text/plain": [
       "    Fréquence  Amplitude a\n",
       "0        4.00        0.103\n",
       "1        5.00        0.154\n",
       "2        6.00        0.466\n",
       "3        6.20        0.661\n",
       "4        6.40        0.937\n",
       "5        6.65        1.364\n",
       "6        6.75        1.828\n",
       "7        7.00        1.902\n",
       "8        7.50        0.758\n",
       "9        8.00        0.492\n",
       "10      10.00        0.254\n",
       "11      13.00        0.204\n",
       "12      15.00        0.196"
      ]
     },
     "execution_count": 2,
     "metadata": {},
     "output_type": "execute_result"
    }
   ],
   "source": [
    "# À vous de jouer\n",
    "f = [4, 5, 6, 6.2, 6.4, 6.65, 6.750, 7, 7.5, 8, 10, 13, 15]\n",
    "A = [0.103, 0.154, 0.466, 0.661, 0.937, 1.364, 1.828, 1.902, 0.758, 0.492, 0.254, 0.204, 0.196]\n",
    "f, A = np.asarray(f), np.asarray(A)\n",
    "visu = pd.DataFrame([f,A], index=['Fréquence', 'Amplitude a']).T\n",
    "visu"
   ]
  },
  {
   "cell_type": "markdown",
   "metadata": {},
   "source": [
    "# V/ Valider\n",
    "## Traitement des données"
   ]
  },
  {
   "cell_type": "markdown",
   "metadata": {},
   "source": [
    "### Calcul de $\\omega$"
   ]
  },
  {
   "cell_type": "code",
   "execution_count": 3,
   "metadata": {},
   "outputs": [],
   "source": [
    "w = 2*np.pi*f"
   ]
  },
  {
   "cell_type": "markdown",
   "metadata": {},
   "source": [
    "### Amplitudes en vitesse et position"
   ]
  },
  {
   "cell_type": "code",
   "execution_count": 4,
   "metadata": {},
   "outputs": [],
   "source": [
    "V = A/w\n",
    "U = V/w"
   ]
  },
  {
   "cell_type": "code",
   "execution_count": 5,
   "metadata": {},
   "outputs": [
    {
     "data": {
      "text/html": [
       "<div>\n",
       "<style scoped>\n",
       "    .dataframe tbody tr th:only-of-type {\n",
       "        vertical-align: middle;\n",
       "    }\n",
       "\n",
       "    .dataframe tbody tr th {\n",
       "        vertical-align: top;\n",
       "    }\n",
       "\n",
       "    .dataframe thead th {\n",
       "        text-align: right;\n",
       "    }\n",
       "</style>\n",
       "<table border=\"1\" class=\"dataframe\">\n",
       "  <thead>\n",
       "    <tr style=\"text-align: right;\">\n",
       "      <th></th>\n",
       "      <th>Fréquence</th>\n",
       "      <th>Pulsation</th>\n",
       "      <th>Amplitude a</th>\n",
       "      <th>Amplitude v</th>\n",
       "      <th>Amplitude u</th>\n",
       "    </tr>\n",
       "  </thead>\n",
       "  <tbody>\n",
       "    <tr>\n",
       "      <th>0</th>\n",
       "      <td>4.00</td>\n",
       "      <td>25.132741</td>\n",
       "      <td>0.103</td>\n",
       "      <td>0.004098</td>\n",
       "      <td>0.000163</td>\n",
       "    </tr>\n",
       "    <tr>\n",
       "      <th>1</th>\n",
       "      <td>5.00</td>\n",
       "      <td>31.415927</td>\n",
       "      <td>0.154</td>\n",
       "      <td>0.004902</td>\n",
       "      <td>0.000156</td>\n",
       "    </tr>\n",
       "    <tr>\n",
       "      <th>2</th>\n",
       "      <td>6.00</td>\n",
       "      <td>37.699112</td>\n",
       "      <td>0.466</td>\n",
       "      <td>0.012361</td>\n",
       "      <td>0.000328</td>\n",
       "    </tr>\n",
       "    <tr>\n",
       "      <th>3</th>\n",
       "      <td>6.20</td>\n",
       "      <td>38.955749</td>\n",
       "      <td>0.661</td>\n",
       "      <td>0.016968</td>\n",
       "      <td>0.000436</td>\n",
       "    </tr>\n",
       "    <tr>\n",
       "      <th>4</th>\n",
       "      <td>6.40</td>\n",
       "      <td>40.212386</td>\n",
       "      <td>0.937</td>\n",
       "      <td>0.023301</td>\n",
       "      <td>0.000579</td>\n",
       "    </tr>\n",
       "    <tr>\n",
       "      <th>5</th>\n",
       "      <td>6.65</td>\n",
       "      <td>41.783182</td>\n",
       "      <td>1.364</td>\n",
       "      <td>0.032645</td>\n",
       "      <td>0.000781</td>\n",
       "    </tr>\n",
       "    <tr>\n",
       "      <th>6</th>\n",
       "      <td>6.75</td>\n",
       "      <td>42.411501</td>\n",
       "      <td>1.828</td>\n",
       "      <td>0.043102</td>\n",
       "      <td>0.001016</td>\n",
       "    </tr>\n",
       "    <tr>\n",
       "      <th>7</th>\n",
       "      <td>7.00</td>\n",
       "      <td>43.982297</td>\n",
       "      <td>1.902</td>\n",
       "      <td>0.043245</td>\n",
       "      <td>0.000983</td>\n",
       "    </tr>\n",
       "    <tr>\n",
       "      <th>8</th>\n",
       "      <td>7.50</td>\n",
       "      <td>47.123890</td>\n",
       "      <td>0.758</td>\n",
       "      <td>0.016085</td>\n",
       "      <td>0.000341</td>\n",
       "    </tr>\n",
       "    <tr>\n",
       "      <th>9</th>\n",
       "      <td>8.00</td>\n",
       "      <td>50.265482</td>\n",
       "      <td>0.492</td>\n",
       "      <td>0.009788</td>\n",
       "      <td>0.000195</td>\n",
       "    </tr>\n",
       "    <tr>\n",
       "      <th>10</th>\n",
       "      <td>10.00</td>\n",
       "      <td>62.831853</td>\n",
       "      <td>0.254</td>\n",
       "      <td>0.004043</td>\n",
       "      <td>0.000064</td>\n",
       "    </tr>\n",
       "    <tr>\n",
       "      <th>11</th>\n",
       "      <td>13.00</td>\n",
       "      <td>81.681409</td>\n",
       "      <td>0.204</td>\n",
       "      <td>0.002498</td>\n",
       "      <td>0.000031</td>\n",
       "    </tr>\n",
       "    <tr>\n",
       "      <th>12</th>\n",
       "      <td>15.00</td>\n",
       "      <td>94.247780</td>\n",
       "      <td>0.196</td>\n",
       "      <td>0.002080</td>\n",
       "      <td>0.000022</td>\n",
       "    </tr>\n",
       "  </tbody>\n",
       "</table>\n",
       "</div>"
      ],
      "text/plain": [
       "    Fréquence  Pulsation  Amplitude a  Amplitude v  Amplitude u\n",
       "0        4.00  25.132741        0.103     0.004098     0.000163\n",
       "1        5.00  31.415927        0.154     0.004902     0.000156\n",
       "2        6.00  37.699112        0.466     0.012361     0.000328\n",
       "3        6.20  38.955749        0.661     0.016968     0.000436\n",
       "4        6.40  40.212386        0.937     0.023301     0.000579\n",
       "5        6.65  41.783182        1.364     0.032645     0.000781\n",
       "6        6.75  42.411501        1.828     0.043102     0.001016\n",
       "7        7.00  43.982297        1.902     0.043245     0.000983\n",
       "8        7.50  47.123890        0.758     0.016085     0.000341\n",
       "9        8.00  50.265482        0.492     0.009788     0.000195\n",
       "10      10.00  62.831853        0.254     0.004043     0.000064\n",
       "11      13.00  81.681409        0.204     0.002498     0.000031\n",
       "12      15.00  94.247780        0.196     0.002080     0.000022"
      ]
     },
     "execution_count": 5,
     "metadata": {},
     "output_type": "execute_result"
    }
   ],
   "source": [
    "visu = pd.DataFrame([f, w, A, V, U],\n",
    "                    index=['Fréquence',\n",
    "                           'Pulsation',\n",
    "                           'Amplitude a',\n",
    "                           'Amplitude v',\n",
    "                           'Amplitude u']\n",
    "                   ).T\n",
    "visu"
   ]
  },
  {
   "cell_type": "markdown",
   "metadata": {},
   "source": [
    "### Tracé des valeurs expérimentales"
   ]
  },
  {
   "cell_type": "code",
   "execution_count": 6,
   "metadata": {
    "tags": []
   },
   "outputs": [
    {
     "data": {
      "image/png": "[encoded data removed]",
      "text/plain": [
       "<Figure size 576x432 with 2 Axes>"
      ]
     },
     "metadata": {
      "needs_background": "light"
     },
     "output_type": "display_data"
    }
   ],
   "source": [
    "plt.close()                                 # force la fermeture des figures précédentes\n",
    "\n",
    "# =========================================================================== #\n",
    "#                                  Paramètres                                 #\n",
    "# =========================================================================== #\n",
    "\n",
    "fig = plt.figure(figsize=(8, 6))            # dimension horizontale, verticale\n",
    "plt.grid()                                  # affiche un quadrillage de lecture\n",
    "\n",
    "# =========================================================================== #\n",
    "#                                    Vitesse                                  #\n",
    "# =========================================================================== #\n",
    "\n",
    "plt.scatter(w, V,                           # trace les valeurs de X en abscisse et Y en ordonnée\n",
    "            marker='x',\n",
    "            color='blue',       \n",
    "            label='Vitesse')                 # pour la légende\n",
    "\n",
    "plt.xlabel(r'$\\omega$ en rad$\\cdot$s$^{-1}$',\n",
    "           fontsize=10)\n",
    "plt.ylabel('$V$ en m$\\cdot$s$^{-1}$',\n",
    "           fontsize=10)\n",
    "\n",
    "# =========================================================================== #\n",
    "#                                   Position                                  #\n",
    "# =========================================================================== #\n",
    "\n",
    "plr = plt.twinx()                           # permet de tracer avec un axe secondaire\n",
    "\n",
    "plr.scatter(w, U,\n",
    "            marker='x',\n",
    "            color='red',       \n",
    "            label='Position')\n",
    "\n",
    "plr.set_ylabel('$U$ en m',\n",
    "               fontsize=10)\n",
    "\n",
    "# =========================================================================== #\n",
    "#                               Titre, légende                                #\n",
    "# =========================================================================== #\n",
    "\n",
    "plt.title('Résonance du ressort',\n",
    "          fontsize=15)\n",
    "fig.legend(fontsize=10, \n",
    "           loc='upper right',               # quel coin constitue l'ancrage de la boîte\n",
    "           bbox_to_anchor=(1,1),            # où placer ce point\n",
    "           bbox_transform=plr.transAxes)    # à l'intérieur de la figure\n",
    "\n",
    "plt.tight_layout()                          # évite les débordements ou rognages\n",
    "plt.show()"
   ]
  },
  {
   "cell_type": "markdown",
   "metadata": {
    "tags": []
   },
   "source": [
    "### Lissage"
   ]
  },
  {
   "cell_type": "markdown",
   "metadata": {},
   "source": [
    "!!! abstract `pchip`\n",
    "`pchip` peut s'apparenter à `np.polyfit` pour la régression linéaire : c'est une fonction qui prend une liste de valeurs en X et une de valeurs en Y et qui joint chaque point par une courbe ; ici ce ne sont pas des segments.\n",
    "!!!"
   ]
  },
  {
   "cell_type": "code",
   "execution_count": 7,
   "metadata": {},
   "outputs": [],
   "source": [
    "Vlisse = pchip(w, V)     # Comme un régression linéaire mais cubique\n",
    "Ulisse = pchip(w, U)"
   ]
  },
  {
   "cell_type": "markdown",
   "metadata": {},
   "source": [
    "!!! abstract Tracé d'une fonction : abscisse\n",
    "Une fonction en $\\texttt{Python}$ reste une application qui donne une image à un antécédant. Pour pouvoir en faire la représentation graphique, il faut définir toute une série de points sur lesquels on veut tracer pour ensuite les relier un à un. Pour cela, `np.linspace` permet de découper un intervalle de la valeur minimale voulue à la valeur maximale voulue, avec un nombre de points $N$.\n",
    "\n",
    "Ici, on veut tracer de la valeur minimale de $\\omega$ à la valeur maximale de $\\omega$, en ayant suffisamment de points pour que le tracé soit efficace. Complétez le code suivant pour définir `wliste` la liste des valeurs de $\\omega$ sur laquelle tracer.\n",
    "!!!"
   ]
  },
  {
   "cell_type": "code",
   "execution_count": 8,
   "metadata": {},
   "outputs": [],
   "source": [
    "wliste = np.linspace(min(w), max(w), 1000)"
   ]
  },
  {
   "cell_type": "markdown",
   "metadata": {},
   "source": [
    "!!! abstract Tracé d'une fonction : ordonnée\n",
    "On a dont toutes les briques pour tracer la fonction : la fonction en elle-même, les valeurs d'abscisse, et les meilleurs paramètres. Pour avoir les ordonnées, il suffit de calculer `f(x)`.\n",
    "!!!"
   ]
  },
  {
   "cell_type": "code",
   "execution_count": 9,
   "metadata": {},
   "outputs": [],
   "source": [
    "Vliste = Vlisse(wliste)\n",
    "Uliste = Ulisse(wliste)"
   ]
  },
  {
   "cell_type": "markdown",
   "metadata": {},
   "source": [
    "### Tracé avec lissage"
   ]
  },
  {
   "cell_type": "code",
   "execution_count": 10,
   "metadata": {
    "tags": []
   },
   "outputs": [
    {
     "data": {
      "image/png": "[encoded data removed]",
      "text/plain": [
       "<Figure size 576x432 with 2 Axes>"
      ]
     },
     "metadata": {
      "needs_background": "light"
     },
     "output_type": "display_data"
    }
   ],
   "source": [
    "plt.close()                                 # force la fermeture des figures précédentes\n",
    "\n",
    "# =========================================================================== #\n",
    "#                                  Paramètres                                 #\n",
    "# =========================================================================== #\n",
    "\n",
    "fig = plt.figure(figsize=(8, 6))            # dimension horizontale, verticale\n",
    "plt.grid()                                  # affiche un quadrillage de lecture\n",
    "\n",
    "# =========================================================================== #\n",
    "#                                    Vitesse                                  #\n",
    "# =========================================================================== #\n",
    "\n",
    "plt.scatter(w, V,                           # trace les valeurs de X en abscisse et Y en ordonnée\n",
    "            marker='x',\n",
    "            color='blue',       \n",
    "            label='Vitesse')                 # pour la légende\n",
    "\n",
    "plt.plot(wliste, Vliste,\n",
    "         color='blue',\n",
    "         label='Lissage')\n",
    "\n",
    "plt.xlabel(r'$\\omega$ en rad$\\cdot$s$^{-1}$',\n",
    "           fontsize=10)\n",
    "plt.ylabel('$V$ en m$\\cdot$s$^{-1}$',\n",
    "           fontsize=10)\n",
    "\n",
    "# =========================================================================== #\n",
    "#                                   Position                                  #\n",
    "# =========================================================================== #\n",
    "\n",
    "plr = plt.twinx()                           # permet de tracer avec un axe secondaire\n",
    "\n",
    "plr.scatter(w, U,\n",
    "            marker='x',\n",
    "            color='red',       \n",
    "            label='Position')\n",
    "\n",
    "plt.plot(wliste, Uliste,\n",
    "         color='red',\n",
    "         label='Lissage')\n",
    "\n",
    "plr.set_ylabel('$U$ en m',\n",
    "               fontsize=10)\n",
    "\n",
    "# =========================================================================== #\n",
    "#                               Titre, légende                                #\n",
    "# =========================================================================== #\n",
    "\n",
    "plt.title('Résonance du ressort',\n",
    "          fontsize=15)\n",
    "fig.legend(fontsize=10, \n",
    "           loc='upper right',               # quel coin constitue l'ancrage de la boîte\n",
    "           bbox_to_anchor=(1,1),            # où placer ce point\n",
    "           bbox_transform=plr.transAxes)    # à l'intérieur de la figure\n",
    "\n",
    "plt.tight_layout()                          # évite les débordements ou rognages\n",
    "plt.show()"
   ]
  },
  {
   "cell_type": "markdown",
   "metadata": {},
   "source": [
    "### Estimation des paramètres du modèle.\n",
    "Ce lissage permet une détermination rapide et simple des paramètres du modèle. Indiquez leurs valeurs ci-après."
   ]
  },
  {
   "cell_type": "code",
   "execution_count": 11,
   "metadata": {},
   "outputs": [],
   "source": [
    "w0_esti = 45\n",
    "Q_esti = 45/5"
   ]
  },
  {
   "cell_type": "markdown",
   "metadata": {},
   "source": [
    "## Ajustement des données"
   ]
  },
  {
   "cell_type": "markdown",
   "metadata": {},
   "source": [
    "!!! abstract Utilité de $\\texttt{Python}$\n",
    "Avec les outils de traitement informatiques usuels, comme $\\texttt{LatisPro}$ ou $\\texttt{Regressi}$, on relève les données et on réalise un lissage pour combler le vide. C'est une approche valable pour les expériences dont on ne connaît pas l'étude théorique, mais n'est pas appropriée pour correctement tester un modèle analytique. Dans la recherche scientifique, on établit la théorie analytique puis on expérimente pour trouver les valeurs et comparer.\n",
    "\n",
    "Dans notre cas, les fonctions analytiques de l'amplitude de la vitesse et de l'élongation sont connues, et fournies dans l'énoncé du TP. Pour estimer les caractéristiques du dispositif pour lequel vous venez de relever les données expérimentales, nous allons définir les fonctions associées avec les constantes $\\omega_0$, $K$ et $Q$ comme des paramètres libres : c'est $\\texttt{Python}$ qui va se charger de les déterminer à partir du relevé, plutôt que d'en faire une lecture graphique. Nous allons ensuite comparer les deux méthodes de lissage et d'ajustement.\n",
    "!!!"
   ]
  },
  {
   "cell_type": "markdown",
   "metadata": {},
   "source": [
    "### Définition des fonctions"
   ]
  },
  {
   "cell_type": "markdown",
   "metadata": {},
   "source": [
    "!!! info Racine carrée\n",
    "On utilise `np.sqrt` pour la racine carrée.\n",
    "!!!"
   ]
  },
  {
   "cell_type": "code",
   "execution_count": 12,
   "metadata": {},
   "outputs": [],
   "source": [
    "def V_func(w, Kv, w0, Q):\n",
    "    return(Kv/np.sqrt(1+Q**2*(w/w0 - w0/w)**2)) # rentrer la fonction demandée\n",
    "\n",
    "def U_func(w, Ku, w0, Q):\n",
    "    return(Ku/np.sqrt((1-(w/w0)**2)**2+(w/(Q*w0))**2)) # rentrer la fonction demandée"
   ]
  },
  {
   "cell_type": "markdown",
   "metadata": {},
   "source": [
    "### Ajustement par `curve_fit`"
   ]
  },
  {
   "cell_type": "markdown",
   "metadata": {},
   "source": [
    "!!! abstract Fonctionnement d'un ajustement\n",
    "Pour ajuster (*fit* en anglais, *fitter* en franglais) un modèle à des données expérimentales, il faut donner à l'ajusteur des valeurs de départ. Sinon, on pourrait trouver des valeurs aberrantes pour des paramètres physiques dont on sait, par exemple, qu'ils sont positifs.\n",
    "\n",
    "On a déjà estimé grossièrement les valeurs de $\\omega_0$ et $Q$ à partir du tracé de vos valeurs expérimentales. On les renomme ici en tant que valeurs initiales pour séparer leur fonction. On prendra $K = 1$ pour chaque numérateur. Ces valeurs initales sont passées à des listes `p0_V` et `p0_U` pour être fournies à `curve_fit` ensuite.\n",
    "!!!"
   ]
  },
  {
   "cell_type": "markdown",
   "metadata": {},
   "source": [
    "#### Estimation des valeurs initiales"
   ]
  },
  {
   "cell_type": "code",
   "execution_count": 13,
   "metadata": {},
   "outputs": [],
   "source": [
    "Kv_init, Ku_init = [1,1]\n",
    "w0_init = w0_esti\n",
    "Q_init = Q_esti\n",
    "\n",
    "p0_V = [Kv_init, w0_init, Q_init]\n",
    "p0_U = [Ku_init, w0_init, Q_init]  # listes différentes si Ku et Kv doivent être différents"
   ]
  },
  {
   "cell_type": "markdown",
   "metadata": {},
   "source": [
    "#### Calcul"
   ]
  },
  {
   "cell_type": "markdown",
   "metadata": {},
   "source": [
    "!!! abstract Utilisation de `curve_fit`\n",
    "On donne alors à `curve_fit` la fonction à ajuster, puis les valeurs en $x$ et les valeurs en $y$, et enfin les conditions initiales. `curve_fit` renvoie en premier argument les valeurs des paramètres ajustés, ici dans l'ordre : $K$, $\\omega_0$, $Q$. Ce sont donc ces valeurs qu'il faudra utiliser pour tracer la courbe ajustée.\n",
    "!!!"
   ]
  },
  {
   "cell_type": "code",
   "execution_count": 14,
   "metadata": {},
   "outputs": [
    {
     "name": "stdout",
     "output_type": "stream",
     "text": [
      "Valeurs ajustées sur la vitesse : Kv = 4.81e-02, w0 = 43.19, Q = 14.32\n",
      "Valeurs ajustées sur la position : Ku = 7.96e-05, w0 = 43.20, Q = 13.88\n"
     ]
    }
   ],
   "source": [
    "val_vfit = curve_fit(V_func, w, V, p0=p0_V)[0]\n",
    "val_ufit = curve_fit(U_func, w, U, p0=p0_U)[0]\n",
    "\n",
    "Kv_fit, w0_vfit, Q_vfit = val_vfit\n",
    "Ku_fit, w0_ufit, Q_ufit = val_ufit\n",
    "\n",
    "print(f'Valeurs ajustées sur la vitesse : Kv = {Kv_fit:.2e}, w0 = {w0_vfit:.2f}, Q = {Q_vfit:.2f}')\n",
    "print(f'Valeurs ajustées sur la position : Ku = {Ku_fit:.2e}, w0 = {w0_ufit:.2f}, Q = {Q_ufit:.2f}')"
   ]
  },
  {
   "cell_type": "markdown",
   "metadata": {},
   "source": [
    "#### Résultat"
   ]
  },
  {
   "cell_type": "code",
   "execution_count": 15,
   "metadata": {},
   "outputs": [],
   "source": [
    "Vfit = V_func(wliste, *val_vfit)\n",
    "Ufit = U_func(wliste, *val_ufit)"
   ]
  },
  {
   "cell_type": "markdown",
   "metadata": {},
   "source": [
    "#### Tracé "
   ]
  },
  {
   "cell_type": "code",
   "execution_count": 16,
   "metadata": {
    "tags": []
   },
   "outputs": [
    {
     "data": {
      "text/plain": [
       "<matplotlib.legend.Legend at 0x7f54c1e44dd0>"
      ]
     },
     "execution_count": 16,
     "metadata": {},
     "output_type": "execute_result"
    },
    {
     "data": {
      "image/png": "[encoded data removed]",
      "text/plain": [
       "<Figure size 576x576 with 2 Axes>"
      ]
     },
     "metadata": {
      "needs_background": "light"
     },
     "output_type": "display_data"
    }
   ],
   "source": [
    "plt.close()                                 # force la fermeture des figures précédentes\n",
    "\n",
    "# =========================================================================== #\n",
    "#                                  Paramètres                                 #\n",
    "# =========================================================================== #\n",
    "\n",
    "fig, (ax1, ax2) = plt.subplots(2, 1,           # différencie les graphiques\n",
    "                               sharex=True,\n",
    "                               figsize=(8, 8)) # dimension horizontale, verticale\n",
    "fig.subplots_adjust(hspace=0.3)\n",
    "ax1.grid()                                     # affiche un quadrillage de lecture\n",
    "ax2.grid()\n",
    "ax1.xaxis.set_tick_params(labelbottom=True)\n",
    "\n",
    "# =========================================================================== #\n",
    "#                                    Vitesse                                  #\n",
    "# =========================================================================== #\n",
    "\n",
    "ax1.scatter(w, V,                           # trace les valeurs de X en abscisse et Y en ordonnée\n",
    "            marker='x',\n",
    "            color='blue',       \n",
    "            label='Vitesse')                 # pour la légende\n",
    "\n",
    "ax1.plot(wliste, Vliste,\n",
    "         color='blue',\n",
    "         label='Lissage')\n",
    "\n",
    "ax1.plot(wliste, Vfit,\n",
    "         color='cornflowerblue',\n",
    "         label='Ajustement')\n",
    "\n",
    "ax1.set_xlabel(r'$\\omega$ en rad$\\cdot$s$^{-1}$',\n",
    "               fontsize=10)\n",
    "ax1.set_ylabel('$V$ en m$\\cdot$s$^{-1}$',\n",
    "               fontsize=10)\n",
    "\n",
    "# =========================================================================== #\n",
    "#                                   Position                                  #\n",
    "# =========================================================================== #\n",
    "\n",
    "ax2.scatter(w, U,\n",
    "            marker='x',\n",
    "            color='red',       \n",
    "            label='Position')\n",
    "\n",
    "ax2.plot(wliste, Uliste,\n",
    "         color='red',\n",
    "         label='Lissage')\n",
    "\n",
    "ax2.plot(wliste, Ufit,\n",
    "         color='firebrick',\n",
    "         label='Ajustement')\n",
    "\n",
    "ax2.set_xlabel(r'$\\omega$ en rad$\\cdot$s$^{-1}$',\n",
    "               fontsize=10)\n",
    "ax2.set_ylabel('$U$ en m',\n",
    "               fontsize=10)\n",
    "\n",
    "# =========================================================================== #\n",
    "#                               Titre, légende                                #\n",
    "# =========================================================================== #\n",
    "\n",
    "ax1.set_title('Résonance en vitesse',\n",
    "              fontsize=15)\n",
    "ax1.legend(fontsize=10, \n",
    "           loc='best')\n",
    "\n",
    "ax2.set_title('Résonance en position',\n",
    "              fontsize=15)\n",
    "ax2.legend(fontsize=10, \n",
    "           loc='best')\n",
    "\n",
    "# plt.tight_layout()                          # évite les débordements ou rognages"
   ]
  },
  {
   "cell_type": "markdown",
   "metadata": {},
   "source": [
    "!!! note Note\n",
    "Toutes les options de `grid`, `xticks` etc sont optionnelles, et ne sont pas à retenir. Ce qu'il est exigible que vous reteniez est simplement :\n",
    "```\n",
    "plt.scatter(X, Y)\n",
    "plt.scatter(X, Z)\n",
    "plt.show()\n",
    "```\n",
    "afin de tracer `Y` et `Z` sur le même graphe, avec un axe unique, et\n",
    "```\n",
    "plt.plot(xliste, yliste)\n",
    "plt.show()\n",
    "```\n",
    "pour ajouter les courbes lisses. Je vous invite à essayer de lancer ces commandes et voir la différence… c'est ce qui pourra vous dinstinguer d'um élève lambda à quelqu'um d'investix et avec le sens de la présentation scientifique. À bon entendeur !\n",
    "!!!"
   ]
  }
 ],
 "metadata": {
  "kernelspec": {
   "display_name": "Python 3 (ipykernel)",
   "language": "python",
   "name": "python3"
  },
  "language_info": {
   "codemirror_mode": {
    "name": "ipython",
    "version": 3
   },
   "file_extension": ".py",
   "mimetype": "text/x-python",
   "name": "python",
   "nbconvert_exporter": "python",
   "pygments_lexer": "ipython3",
   "version": "3.11.5"
  }
 },
 "nbformat": 4,
 "nbformat_minor": 4
}
