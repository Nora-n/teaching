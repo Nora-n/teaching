{
 "cells": [
  {
   "cell_type": "markdown",
   "metadata": {},
   "source": [
    "### Importations"
   ]
  },
  {
   "cell_type": "code",
   "execution_count": null,
   "metadata": {},
   "outputs": [],
   "source": [
    "import numpy as np              # pour les tableaux\n",
    "import pandas as pd             # pour la visualisation des données\n",
    "import matplotlib.pyplot as plt # pour les graphiques\n",
    "\n",
    "from scipy.optimize import curve_fit # pour l'ajustement\n",
    "from scipy.interpolate import pchip  # pour le lissage"
   ]
  },
  {
   "cell_type": "markdown",
   "metadata": {},
   "source": [
    "# IV/ Réaliser\n",
    "## Données expérimentales"
   ]
  },
  {
   "cell_type": "code",
   "execution_count": null,
   "metadata": {},
   "outputs": [],
   "source": [
    "# À vous de jouer\n",
    "f = np.array([])\n",
    "A = np.array([])"
   ]
  },
  {
   "cell_type": "markdown",
   "metadata": {},
   "source": [
    "!!! note Note\n",
    "Pour éviter la verbosité de cette manière de créer des tableaux, il est possible de d'abord créer une liste *puis* de la convertir en tableau avec la fonction `np.asarray` (littéralement, « comme un tableau ») :\n",
    "```\n",
    "f = [1, 2, 3]\n",
    "f = np.asarray(f)\n",
    "```\n",
    "!!!"
   ]
  },
  {
   "cell_type": "markdown",
   "metadata": {},
   "source": [
    "!!! tip Conseil\n",
    "Pour voir des ensembles de liste, il est pratique de faire un `DataFrame`, comme suit :\n",
    "`visu = pd.DataFrame([f,A], index=['Fréquence', 'Amplitude a']).T`\n",
    "et `.T` permet de transposer le tableau\n",
    "!!!"
   ]
  },
  {
   "cell_type": "code",
   "execution_count": null,
   "metadata": {},
   "outputs": [],
   "source": [
    "visu = pd.DataFrame([f,A], index=['Fréquence', 'Amplitude a']).T\n",
    "visu"
   ]
  },
  {
   "cell_type": "markdown",
   "metadata": {},
   "source": [
    "# V/ Valider\n",
    "## Traitement des données"
   ]
  },
  {
   "cell_type": "markdown",
   "metadata": {},
   "source": [
    "### Calcul de $\\omega$"
   ]
  },
  {
   "cell_type": "code",
   "execution_count": null,
   "metadata": {},
   "outputs": [],
   "source": [
    "w = # À vous"
   ]
  },
  {
   "cell_type": "markdown",
   "metadata": {},
   "source": [
    "### Amplitudes en vitesse et position"
   ]
  },
  {
   "cell_type": "code",
   "execution_count": null,
   "metadata": {},
   "outputs": [],
   "source": [
    "V =\n",
    "U ="
   ]
  },
  {
   "cell_type": "markdown",
   "metadata": {},
   "source": [
    "!!! tip Conseil\n",
    "Vous pouvez compléter le `DataFrame` précédent pour voir toutes vos valeurs.\n",
    "!!!"
   ]
  },
  {
   "cell_type": "code",
   "execution_count": null,
   "metadata": {},
   "outputs": [],
   "source": [
    "visu = pd.DataFrame([f,A, ÀREMPLIR], index=['Fréquence', 'Amplitude a', 'ÀREMPLIR']).T\n",
    "visu"
   ]
  },
  {
   "cell_type": "markdown",
   "metadata": {},
   "source": [
    "### Tracé des valeurs expérimentales"
   ]
  },
  {
   "cell_type": "code",
   "execution_count": null,
   "metadata": {
    "tags": []
   },
   "outputs": [],
   "source": [
    "plt.close()                                 # force la fermeture des figures précédentes\n",
    "\n",
    "# =========================================================================== #\n",
    "#                                  Paramètres                                 #\n",
    "# =========================================================================== #\n",
    "\n",
    "fig = plt.figure(figsize=(8, 6))            # dimension horizontale, verticale\n",
    "plt.grid()                                  # affiche un quadrillage de lecture\n",
    "\n",
    "# =========================================================================== #\n",
    "#                                    Vitesse                                  #\n",
    "# =========================================================================== #\n",
    "\n",
    "plt.scatter(X, Y,                           # trace les valeurs de X en abscisse et Y en ordonnée\n",
    "            marker='x',\n",
    "            color='blue',       \n",
    "            label='Vitesse')                 # pour la légende\n",
    "\n",
    "plt.xlabel('$grandeur$ en UNITÉ',\n",
    "           fontsize=10)\n",
    "plt.ylabel('$grandeur$ en UNITÉ',\n",
    "           fontsize=10)\n",
    "\n",
    "# =========================================================================== #\n",
    "#                                   Position                                  #\n",
    "# =========================================================================== #\n",
    "\n",
    "plr = plt.twinx()                           # permet de tracer avec un axe secondaire\n",
    "\n",
    "plr.scatter(X, Y,\n",
    "            marker='x',\n",
    "            color='red',       \n",
    "            label='Position')\n",
    "\n",
    "plr.set_ylabel('$grandeur$ en UNITÉ',\n",
    "               fontsize=10)\n",
    "\n",
    "# =========================================================================== #\n",
    "#                               Titre, légende                                #\n",
    "# =========================================================================== #\n",
    "\n",
    "plt.title('Titre efficace et descriptif',\n",
    "          fontsize=15)\n",
    "fig.legend(fontsize=10, \n",
    "           loc='upper right',               # quel coin constitue l'ancrage de la boîte\n",
    "           bbox_to_anchor=(1,1),            # où placer ce point\n",
    "           bbox_transform=plr.transAxes)    # à l'intérieur de la figure\n",
    "\n",
    "plt.tight_layout()                          # évite les débordements ou rognages\n",
    "plt.show()"
   ]
  },
  {
   "cell_type": "markdown",
   "metadata": {
    "tags": []
   },
   "source": [
    "### Lissage"
   ]
  },
  {
   "cell_type": "markdown",
   "metadata": {},
   "source": [
    "!!! abstract `pchip`\n",
    "`pchip` peut s'apparenter à `np.polyfit` pour la régression linéaire : c'est une fonction qui prend une liste de valeurs en X et une de valeurs en Y et qui joint chaque point par une courbe ; ici ce ne sont pas des segments.\n",
    "!!!"
   ]
  },
  {
   "cell_type": "code",
   "execution_count": null,
   "metadata": {},
   "outputs": [],
   "source": [
    "Vlisse = pchip(X, Y)\n",
    "Ulisse = Uchip(X, Y)"
   ]
  },
  {
   "cell_type": "markdown",
   "metadata": {},
   "source": [
    "!!! abstract Tracé d'une fonction : abscisse\n",
    "Une fonction en $\\texttt{Python}$ reste une application qui donne une image à un antécédant. Pour pouvoir en faire la représentation graphique, il faut définir toute une série de points sur lesquels on veut tracer pour ensuite les relier un à un. Pour cela, `np.linspace` permet de découper un intervalle de la valeur minimale voulue à la valeur maximale voulue, avec un nombre de points $N$.\n",
    "\n",
    "Ici, on veut tracer de la valeur minimale de $\\omega$ à la valeur maximale de $\\omega$, en ayant suffisamment de points pour que le tracé soit efficace. Complétez le code suivant pour définir `wliste` la liste des valeurs de $\\omega$ sur laquelle tracer.\n",
    "!!!"
   ]
  },
  {
   "cell_type": "code",
   "execution_count": null,
   "metadata": {},
   "outputs": [],
   "source": [
    "wliste = np.linspace(VALEURMIN, VALEURMAX, NBPOINTS)"
   ]
  },
  {
   "cell_type": "markdown",
   "metadata": {},
   "source": [
    "!!! tip Indice\n",
    "Les fonctions `min` et `max` existent.\n",
    "!!!"
   ]
  },
  {
   "cell_type": "markdown",
   "metadata": {},
   "source": [
    "!!! abstract Tracé d'une fonction : ordonnée\n",
    "On a dont toutes les briques pour tracer la fonction : la fonction en elle-même, les valeurs d'abscisse, et les meilleurs paramètres. Pour avoir les ordonnées, il suffit de calculer `f(x)`.\n",
    "!!!"
   ]
  },
  {
   "cell_type": "code",
   "execution_count": null,
   "metadata": {},
   "outputs": [],
   "source": [
    "Vliste = Vlisse(wliste)\n",
    "Uliste = Ulisse(wliste)"
   ]
  },
  {
   "cell_type": "markdown",
   "metadata": {},
   "source": [
    "### Tracé avec lissage"
   ]
  },
  {
   "cell_type": "code",
   "execution_count": null,
   "metadata": {
    "tags": []
   },
   "outputs": [],
   "source": [
    "plt.close()                                 # force la fermeture des figures précédentes\n",
    "\n",
    "# =========================================================================== #\n",
    "#                                  Paramètres                                 #\n",
    "# =========================================================================== #\n",
    "\n",
    "fig = plt.figure(figsize=(8, 6))            # dimension horizontale, verticale\n",
    "plt.grid()                                  # affiche un quadrillage de lecture\n",
    "\n",
    "# =========================================================================== #\n",
    "#                                    Vitesse                                  #\n",
    "# =========================================================================== #\n",
    "\n",
    "plt.scatter(w, V,                           # trace les valeurs de X en abscisse et Y en ordonnée\n",
    "            marker='x',\n",
    "            color='blue',       \n",
    "            label='Vitesse')                 # pour la légende\n",
    "\n",
    "plt.plot(X, Y,\n",
    "         color='blue',\n",
    "         label='Lissage')\n",
    "\n",
    "plt.xlabel(r'$\\omega$ en rad$\\cdot$s$^{-1}$',\n",
    "           fontsize=10)\n",
    "plt.ylabel('$V$ en m$\\cdot$s$^{-1}$',\n",
    "           fontsize=10)\n",
    "\n",
    "# =========================================================================== #\n",
    "#                                   Position                                  #\n",
    "# =========================================================================== #\n",
    "\n",
    "plr = plt.twinx()                           # permet de tracer avec un axe secondaire\n",
    "\n",
    "plr.scatter(w, U,\n",
    "            marker='x',\n",
    "            color='red',       \n",
    "            label='Position')\n",
    "\n",
    "plt.plot(X, Y,\n",
    "         color='red',\n",
    "         label='Lissage')\n",
    "\n",
    "plr.set_ylabel('$U$ en m',\n",
    "               fontsize=10)\n",
    "\n",
    "# =========================================================================== #\n",
    "#                               Titre, légende                                #\n",
    "# =========================================================================== #\n",
    "\n",
    "plt.title('Résonance du ressort',\n",
    "          fontsize=15)\n",
    "fig.legend(fontsize=10, \n",
    "           loc='upper right',               # quel coin constitue l'ancrage de la boîte\n",
    "           bbox_to_anchor=(1,1),            # où placer ce point\n",
    "           bbox_transform=plr.transAxes)    # à l'intérieur de la figure\n",
    "\n",
    "plt.tight_layout()                          # évite les débordements ou rognages\n",
    "plt.show()"
   ]
  },
  {
   "cell_type": "markdown",
   "metadata": {},
   "source": [
    "### Estimation des paramètres du modèle.\n",
    "Ce lissage permet une détermination rapide et simple des paramètres du modèle. Indiquez leurs valeurs ci-après."
   ]
  },
  {
   "cell_type": "code",
   "execution_count": null,
   "metadata": {},
   "outputs": [],
   "source": [
    "w0_esti = \n",
    "Q_esti = "
   ]
  },
  {
   "cell_type": "markdown",
   "metadata": {},
   "source": [
    "## Ajustement des données"
   ]
  },
  {
   "cell_type": "markdown",
   "metadata": {},
   "source": [
    "!!! abstract Utilité de $\\texttt{Python}$\n",
    "Avec les outils de traitement informatiques usuels, comme $\\texttt{LatisPro}$ ou $\\texttt{Regressi}$, on relève les données et on réalise un lissage pour combler le vide. C'est une approche valable pour les expériences dont on ne connaît pas l'étude théorique, mais n'est pas appropriée pour correctement tester un modèle analytique. Dans la recherche scientifique, on établit la théorie analytique puis on expérimente pour trouver les valeurs et comparer.\n",
    "\n",
    "Dans notre cas, les fonctions analytiques de l'amplitude de la vitesse et de l'élongation sont connues, et fournies dans l'énoncé du TP. Pour estimer les caractéristiques du dispositif pour lequel vous venez de relever les données expérimentales, nous allons définir les fonctions associées avec les constantes $\\omega_0$, $K$ et $Q$ comme des paramètres libres : c'est $\\texttt{Python}$ qui va se charger de les déterminer à partir du relevé, plutôt que d'en faire une lecture graphique. Nous allons ensuite comparer les deux méthodes de lissage et d'ajustement.\n",
    "!!!"
   ]
  },
  {
   "cell_type": "markdown",
   "metadata": {},
   "source": [
    "### Définition des fonctions"
   ]
  },
  {
   "cell_type": "markdown",
   "metadata": {},
   "source": [
    "!!! info Racine carrée\n",
    "On utilise `np.sqrt` pour la racine carrée.\n",
    "!!!"
   ]
  },
  {
   "cell_type": "code",
   "execution_count": null,
   "metadata": {},
   "outputs": [],
   "source": [
    "def V_func(w, Kv, w0, Q):\n",
    "    return() # rentrer la fonction demandée\n",
    "\n",
    "def U_func(w, Ku, w0, Q):\n",
    "    return() # rentrer la fonction demandée"
   ]
  },
  {
   "cell_type": "markdown",
   "metadata": {},
   "source": [
    "### Ajustement par `curve_fit`"
   ]
  },
  {
   "cell_type": "markdown",
   "metadata": {},
   "source": [
    "!!! abstract Fonctionnement d'un ajustement\n",
    "Pour ajuster (*fit* en anglais, *fitter* en franglais) un modèle à des données expérimentales, il faut donner à l'ajusteur des valeurs de départ. Sinon, on pourrait trouver des valeurs aberrantes pour des paramètres physiques dont on sait, par exemple, qu'ils sont positifs.\n",
    "\n",
    "On a déjà estimé grossièrement les valeurs de $\\omega_0$ et $Q$ à partir du tracé de vos valeurs expérimentales. On les renomme ici en tant que valeurs initiales pour séparer leur fonction. On prendra $K = 1$ pour chaque numérateur. Ces valeurs initales sont passées à des listes `p0_V` et `p0_U` pour être fournies à `curve_fit` ensuite.\n",
    "!!!"
   ]
  },
  {
   "cell_type": "markdown",
   "metadata": {},
   "source": [
    "#### Estimation des valeurs initiales"
   ]
  },
  {
   "cell_type": "code",
   "execution_count": null,
   "metadata": {},
   "outputs": [],
   "source": [
    "Kv_init, Ku_init = [1,1]\n",
    "w0_init = w0_esti\n",
    "Q_init = Q_esti\n",
    "\n",
    "p0_V = [Kv_init, w0_init, Q_init]\n",
    "p0_U = [Ku_init, w0_init, Q_init]  # listes différentes si Ku et Kv doivent être différents"
   ]
  },
  {
   "cell_type": "markdown",
   "metadata": {},
   "source": [
    "#### Calcul"
   ]
  },
  {
   "cell_type": "markdown",
   "metadata": {
    "tags": [],
    "user_expressions": []
   },
   "source": [
    "!!! abstract Utilisation de `curve_fit`\n",
    "On donne alors à `curve_fit` la fonction à ajuster, puis les valeurs en $x$ et les valeurs en $y$, et enfin les conditions initiales. `curve_fit` renvoie en premier argument les valeurs des paramètres ajustés, ici dans l'ordre : $K$, $\\omega_0$, $Q$. Ce sont donc ces valeurs qu'il faudra utiliser pour tracer la courbe ajustée.\n",
    "!!!"
   ]
  },
  {
   "cell_type": "code",
   "execution_count": null,
   "metadata": {},
   "outputs": [],
   "source": [
    "val_vfit = curve_fit(FONCTION, X, Y, p0=LISTEVALEURSINITIALES)[0]\n",
    "val_ufit = curve_fit(FONCTION, X, Y, p0=LISTEVALEURSINITIALES)[0]\n",
    "\n",
    "Kv_fit, w0_vfit, Q_vfit = val_vfit\n",
    "Ku_fit, w0_ufit, Q_ufit = val_ufit\n",
    "\n",
    "print(f'Valeurs ajustées sur la vitesse : Kv = {Kv_fit:.2f}, w0 = {w0_vfit:.2f}, Q = {Q_vfit:.2f}')\n",
    "print(f'Valeurs ajustées sur la position : Ku = {Ku_fit:.2f}, w0 = {w0_ufit:.2f}, Q = {Q_ufit:.2f}')"
   ]
  },
  {
   "cell_type": "markdown",
   "metadata": {},
   "source": [
    "#### Résultat"
   ]
  },
  {
   "cell_type": "markdown",
   "metadata": {},
   "source": [
    "!!! tip Astuce\n",
    "Pour extraire toutes les valeurs d'une liste, plutôt que d'écrire `liste[0], liste[1]` etc., il est possible de mettre `*` devant ladite liste : `*liste`.\n",
    "!!!"
   ]
  },
  {
   "cell_type": "code",
   "execution_count": null,
   "metadata": {},
   "outputs": [],
   "source": [
    "V_fit = V_func(wliste, *val_vfit)\n",
    "U_fit = U_func(wliste, *val_ufit)"
   ]
  },
  {
   "cell_type": "markdown",
   "metadata": {},
   "source": [
    "#### Tracé "
   ]
  },
  {
   "cell_type": "code",
   "execution_count": null,
   "metadata": {
    "tags": []
   },
   "outputs": [],
   "source": [
    "plt.close()                                 # force la fermeture des figures précédentes\n",
    "\n",
    "# =========================================================================== #\n",
    "#                                  Paramètres                                 #\n",
    "# =========================================================================== #\n",
    "\n",
    "fig, (ax1, ax2) = plt.subplots(2, 1,           # différencie les graphiques\n",
    "                               sharex=True,\n",
    "                               figsize=(8, 8)) # dimension horizontale, verticale\n",
    "fig.subplots_adjust(hspace=0.3)\n",
    "ax1.grid()                                     # affiche un quadrillage de lecture\n",
    "ax2.grid()\n",
    "ax1.xaxis.set_tick_params(labelbottom=True)\n",
    "\n",
    "# =========================================================================== #\n",
    "#                                    Vitesse                                  #\n",
    "# =========================================================================== #\n",
    "\n",
    "ax1.scatter(w, V,                           # trace les valeurs de X en abscisse et Y en ordonnée\n",
    "            marker='x',\n",
    "            color='blue',       \n",
    "            label='Vitesse')                 # pour la légende\n",
    "\n",
    "ax1.plot(wliste, Vliste,\n",
    "         color='blue',\n",
    "         label='Lissage')\n",
    "\n",
    "ax1.plot(X, Y,\n",
    "         color='cornflowerblue',\n",
    "         label='Ajustement')\n",
    "\n",
    "ax1.set_xlabel(r'$\\omega$ en rad$\\cdot$s$^{-1}$',\n",
    "               fontsize=10)\n",
    "ax1.set_ylabel('$V$ en m$\\cdot$s$^{-1}$',\n",
    "               fontsize=10)\n",
    "\n",
    "# =========================================================================== #\n",
    "#                                   Position                                  #\n",
    "# =========================================================================== #\n",
    "\n",
    "ax2.scatter(w, U,\n",
    "            marker='x',\n",
    "            color='red',       \n",
    "            label='Position')\n",
    "\n",
    "ax2.plot(wliste, Uliste,\n",
    "         color='red',\n",
    "         label='Lissage')\n",
    "\n",
    "ax2.plot(X, Y,\n",
    "         color='firebrick',\n",
    "         label='Ajustement')\n",
    "\n",
    "ax2.set_xlabel(r'$\\omega$ en rad$\\cdot$s$^{-1}$',\n",
    "               fontsize=10)\n",
    "ax2.set_ylabel('$U$ en m',\n",
    "               fontsize=10)\n",
    "\n",
    "# =========================================================================== #\n",
    "#                               Titre, légende                                #\n",
    "# =========================================================================== #\n",
    "\n",
    "ax1.set_title('Résonance en vitesse',\n",
    "              fontsize=15)\n",
    "ax1.legend(fontsize=10, \n",
    "           loc='best')\n",
    "\n",
    "ax2.set_title('Résonance en position',\n",
    "              fontsize=15)\n",
    "ax2.legend(fontsize=10, \n",
    "           loc='best')\n",
    "\n",
    "# plt.tight_layout()                          # évite les débordements ou rognages"
   ]
  },
  {
   "cell_type": "markdown",
   "metadata": {},
   "source": [
    "!!! note Note\n",
    "Toutes les options de `grid`, `xticks` etc sont optionnelles, et ne sont pas à retenir. Ce qu'il est exigible que vous reteniez est simplement :\n",
    "```\n",
    "plt.scatter(X, Y)\n",
    "plt.scatter(X, Z)\n",
    "plt.show()\n",
    "```\n",
    "afin de tracer `Y` et `Z` sur le même graphe, avec un axe unique, et\n",
    "```\n",
    "plt.plot(xliste, yliste)\n",
    "plt.show()\n",
    "```\n",
    "pour ajouter les courbes lisses. Je vous invite à essayer de lancer ces commandes et voir la différence… c'est ce qui pourra vous dinstinguer d'um élève lambda à quelqu'um d'investix et avec le sens de la présentation scientifique. À bon entendeur !\n",
    "!!!"
   ]
  }
 ],
 "metadata": {
  "kernelspec": {
   "display_name": "Python 3 (ipykernel)",
   "language": "python",
   "name": "python3"
  },
  "language_info": {
   "codemirror_mode": {
    "name": "ipython",
    "version": 3
   },
   "file_extension": ".py",
   "mimetype": "text/x-python",
   "name": "python",
   "nbconvert_exporter": "python",
   "pygments_lexer": "ipython3",
   "version": "3.11.5"
  }
 },
 "nbformat": 4,
 "nbformat_minor": 4
}
