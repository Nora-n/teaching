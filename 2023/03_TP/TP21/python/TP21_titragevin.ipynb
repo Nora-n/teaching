{
 "cells": [
  {
   "cell_type": "markdown",
   "metadata": {},
   "source": [
    "### Importations"
   ]
  },
  {
   "cell_type": "code",
   "execution_count": null,
   "metadata": {},
   "outputs": [],
   "source": [
    "import numpy as np              # pour les tableaux\n",
    "import pandas as pd             # pour visualiser les données\n",
    "import matplotlib.pyplot as plt # pour les graphiques"
   ]
  },
  {
   "cell_type": "markdown",
   "metadata": {},
   "source": [
    "## Données relevées"
   ]
  },
  {
   "cell_type": "markdown",
   "metadata": {},
   "source": [
    "!!! note Note\n",
    "Pour éviter la verbosité de cette manière de créer des tableaux, il est possible de d'abord créer une liste *puis* de la convertir en tableau avec la fonction `np.asarray` (littéralement, « comme un tableau ») :\n",
    "```\n",
    "f = [1, 2, 3]\n",
    "f = np.asarray(f)\n",
    "```\n",
    "!!!"
   ]
  },
  {
   "cell_type": "code",
   "execution_count": null,
   "metadata": {},
   "outputs": [],
   "source": [
    "V = []\n",
    "V = np.asarray(V)\n",
    "\n",
    "G = []\n",
    "G = np.asarray(G)"
   ]
  },
  {
   "cell_type": "markdown",
   "metadata": {},
   "source": [
    "!!! tip Conseil\n",
    "Pour voir des ensembles de liste, il est pratique de faire un `DataFrame`, comme suit :\n",
    "```\n",
    "visu = pd.DataFrame([X,Y], index=['Label X', 'Label Y']).T\n",
    "```\n",
    "et `.T` permet de transposer le tableau\n",
    "!!!"
   ]
  },
  {
   "cell_type": "code",
   "execution_count": null,
   "metadata": {},
   "outputs": [],
   "source": [
    "visu = pd.DataFrame([],\n",
    "                    index=[]).T\n",
    "visu"
   ]
  },
  {
   "cell_type": "markdown",
   "metadata": {},
   "source": [
    "### Tracé du nuage de points"
   ]
  },
  {
   "cell_type": "code",
   "execution_count": null,
   "metadata": {},
   "outputs": [],
   "source": [
    "plt.close()                                 # force la fermeture des figures précédentes\n",
    "\n",
    "plt.figure(figsize=(8, 6))                  # dimension horizontale, verticale\n",
    "plt.grid()                                  # affiche un quadrillage de lecture\n",
    "plt.xlabel('$grandeur$ en UNITÉ',           # Donne le nom de l'axe x, avec $$ pour le mode math\n",
    "           fontsize=10)                     # en grand\n",
    "plt.ylabel('$grandeur$ en UNITÉ',           # Donne le nom de l'axe y, avec $$ pour le mode math\n",
    "           fontsize=10)                     # en grand\n",
    "\n",
    "plt.scatter(X, Y,                           # trace un graphe avec X en abscisse et Y en ordonnée\n",
    "            marker='x', s=100,              # possibilité de customiser le tracé\n",
    "            color='blue',       \n",
    "            label='Données')                # pour la légende\n",
    "\n",
    "plt.title('Titre efficace et descriptif',\n",
    "          fontsize=15)\n",
    "plt.legend(fontsize=12)\n",
    "plt.tight_layout()                          # évite les débordements ou rognages\n",
    "plt.show()"
   ]
  },
  {
   "cell_type": "markdown",
   "metadata": {},
   "source": [
    "## Titrage conductimétrique : fonctions affines par morceaux\n",
    "Dans le cas du suivi conductimétrique, la courbe de la régression est affine par morceaux. On voudrait modéliser chaque partie par une régression linéaire : il faut donc pour cela sélectionner une partie des données."
   ]
  },
  {
   "cell_type": "markdown",
   "metadata": {},
   "source": [
    "!!! abstract Prendre des parties de tableaux\n",
    "Les tableaux `numpy` fonctionnent avec des index plus complexes que les listes : plutôt que de ne pouvoir sélectionner que des éléments selon leur ordre dans une liste (_via_ `liste[0]` par exemple), on peut sélectionner les éléments répondant à des **critères**, comme par exemple prendre les éléments d'un tableau dont les valeurs sont comprises entre 0 et 10. Pour cela, pour `T` un tableau `numpy`, on effetue~:\n",
    "```\n",
    "T[0<T<10]\n",
    "```\n",
    "!!!"
   ]
  },
  {
   "cell_type": "markdown",
   "metadata": {},
   "source": [
    "!!! question Question\n",
    "Créer le tableau `V_avant` des valeurs de `V` plus petites que $V_{\\rm eq}$ et le tableau `V_après` des valeurs de `V` plus grandes que $V_{\\rm eq}$. Créer le tableau `G_avant` des valeurs de `G` avant l'équivalence, et le tableau `G_après` des valeurs de `G`après l'équivalence.\n",
    "!!!"
   ]
  },
  {
   "cell_type": "code",
   "execution_count": null,
   "metadata": {},
   "outputs": [],
   "source": [
    "V_avant = \n",
    "V_après = \n",
    "G_avant = \n",
    "G_après = "
   ]
  },
  {
   "cell_type": "markdown",
   "metadata": {},
   "source": [
    "!!! tip Utilisation des `dataframe`\n",
    "Pour faire ces opérations plus rapidement et de manière conjointe, on peut utliser les `dataframe`. En effet, pour choisir les valeurs d'intérêt liées à une condition sur l'une d'entre elle, il suffit de créer un `dataframe` dérivé du premier par :\n",
    "```\n",
    "visu_avant = visu.loc[visu['Volume'] < 10]\n",
    "```\n",
    "`visu_avant` contient alors toutes les données telles que le volume est inférieur à 10. On peut réextraire les grandeurs `V_avant` avec `V_avant = visu_avant['Volume']` par exemple.\n",
    "!!!"
   ]
  },
  {
   "cell_type": "code",
   "execution_count": null,
   "metadata": {},
   "outputs": [],
   "source": [
    "# Testez-moi !\n",
    "visu_avant = visu.loc[visu['Volume'] < VARENSEIGNER]\n",
    "visu_avant"
   ]
  },
  {
   "cell_type": "code",
   "execution_count": null,
   "metadata": {},
   "outputs": [],
   "source": [
    "V_avant = visu_avant['Volume'].values\n",
    "G_avant = visu_avant['Conductance'].values\n",
    "V_avant, G_avant"
   ]
  },
  {
   "cell_type": "markdown",
   "metadata": {},
   "source": [
    "!!! tip Vérification\n",
    "Vous pouvez vérifier que vous avez bien pris les bonnes valeurs en refaisant un tracé des nuages de points, avec des couleurs différentes.\n",
    "!!!"
   ]
  },
  {
   "cell_type": "code",
   "execution_count": null,
   "metadata": {},
   "outputs": [],
   "source": [
    "plt.close()                                 # force la fermeture des figures précédentes\n",
    "\n",
    "plt.figure(figsize=(8, 6))                  # dimension horizontale, verticale\n",
    "plt.grid()                                  # affiche un quadrillage de lecture\n",
    "plt.xlabel('$grandeur$ en UNITÉ',           # Donne le nom de l'axe x, avec $$ pour le mode math\n",
    "           fontsize=10)                     # en grand\n",
    "plt.ylabel('$grandeur$ en UNITÉ',           # Donne le nom de l'axe y, avec $$ pour le mode math\n",
    "           fontsize=10)                     # en grand\n",
    "\n",
    "plt.scatter(X, Y,               # trace un graphe avec X en abscisse et Y en ordonnée\n",
    "            marker='x', s=100,              # possibilité de customiser le tracé\n",
    "            color='green',       \n",
    "            label='Avant')                  # pour la légende\n",
    "\n",
    "plt.scatter(X, Y,               # trace un graphe avec X en abscisse et Y en ordonnée\n",
    "            marker='x', s=100,              # possibilité de customiser le tracé\n",
    "            color='red',       \n",
    "            label='Après')                # pour la légende\n",
    "\n",
    "\n",
    "plt.title('Titre efficace et descriptif',\n",
    "          fontsize=15)\n",
    "plt.legend(fontsize=12)\n",
    "plt.tight_layout()                          # évite les débordements ou rognages\n",
    "plt.show()"
   ]
  },
  {
   "cell_type": "markdown",
   "metadata": {},
   "source": [
    "## Validation d'un modèle linéaire par régression"
   ]
  },
  {
   "cell_type": "markdown",
   "metadata": {},
   "source": [
    "!!! abstract Validation d'un modèle linéaire par régression\n",
    "\n",
    "La fonction `polyfit(X,Y,d)` de la bibliothèque `numpy` ajuste au plus près 2 listes de données (abscisses `X`, ordonnées `Y`) par une fonction polynomiale de degrè `d`, et renvoie les coefficients du polynôme le mieux ajusté. Ainsi, pour le degrè 1, cela correspond à une regression linéaire $y = ax + b$.\n",
    "!!!"
   ]
  },
  {
   "cell_type": "markdown",
   "metadata": {},
   "source": [
    "!!! question Question\n",
    "Calculez les coefficients `a_avant`, `b_avant` et `a_après`, `b_après` des régressions linéaires sur chaque portion des valeurs expérimentales.\n",
    "!!!"
   ]
  },
  {
   "cell_type": "code",
   "execution_count": null,
   "metadata": {},
   "outputs": [],
   "source": [
    "a_avant, b_avant = np.polyfit()         # « a » le coefficient directeur,\n",
    "                                        # « b » l'ordonnée à l'origine\n",
    "print(f\"a = {a_avant:.3f}, b = {b_avant:.2f}\") # .3f pour 3 valeurs après la virgule\n",
    "a_après, b_après = np.polyfit()         \n",
    "print(f\"a = {a_après:.3f}, b = {b_après:.2f}\") # .3f pour 3 valeurs après la virgule"
   ]
  },
  {
   "cell_type": "markdown",
   "metadata": {},
   "source": [
    "### Fonction pour le tracé"
   ]
  },
  {
   "cell_type": "code",
   "execution_count": null,
   "metadata": {},
   "outputs": [],
   "source": [
    "def yfunc():\n",
    "    return "
   ]
  },
  {
   "cell_type": "markdown",
   "metadata": {},
   "source": [
    "!!! abstract Tracé d'une fonction : abscisse\n",
    "Une fonction en $\\texttt{Python}$ reste une application qui donne une image à un antécédant. Pour pouvoir en faire la représentation graphique, il faut définir toute une série de points sur lesquels on veut tracer pour ensuite les relier un à un. Pour cela, `np.linspace` permet de découper un intervalle de la valeur minimale voulue à la valeur maximale voulue, avec un nombre de points $N$.\n",
    "!!!"
   ]
  },
  {
   "cell_type": "markdown",
   "metadata": {},
   "source": [
    "!!! question Question\n",
    "Ici, on veut tracer de la valeur minimale de `V_avant` à **un peu plus loin** que la valeur maximale de `V_avant`, en ayant suffisamment de points pour que le tracé soit efficace. Complétez le code suivant pour définir `xliste_avant` la liste des valeurs de `V` sur laquelle tracer, et de même pour après l'équivalence.\n",
    "!!!"
   ]
  },
  {
   "cell_type": "code",
   "execution_count": null,
   "metadata": {},
   "outputs": [],
   "source": [
    "xliste_avant = np.linspace()\n",
    "xliste_après = np.linspace()"
   ]
  },
  {
   "cell_type": "markdown",
   "metadata": {},
   "source": [
    "!!! tip Indice\n",
    "Les fonctions `min` et `max` existent.\n",
    "!!!"
   ]
  },
  {
   "cell_type": "markdown",
   "metadata": {},
   "source": [
    "!!! abstract Tracé d'une fonction : ordonnée\n",
    "On a dont toutes les briques pour tracer la fonction : la fonction en elle-même, les valeurs d'abscisse, et les meilleurs paramètres. Pour avoir les ordonnées, il suffit de calculer `f(x, a, b)`.\n",
    "!!!"
   ]
  },
  {
   "cell_type": "code",
   "execution_count": null,
   "metadata": {},
   "outputs": [],
   "source": [
    "yliste_avant = yfunc()\n",
    "yliste_après = yfunc()"
   ]
  },
  {
   "cell_type": "markdown",
   "metadata": {},
   "source": [
    "!!! warning Attention\n",
    "<center><b>\n",
    "La seule façon valable de conclure à la validité d’une régression linéaire est une représentation graphique où l’on observe l’alignement des points avec la droite de régression.\n",
    "</center>\n",
    "!!!"
   ]
  },
  {
   "cell_type": "markdown",
   "metadata": {},
   "source": [
    "## Tracé du graphe pour trouver $V_{\\rm eq}$"
   ]
  },
  {
   "cell_type": "markdown",
   "metadata": {},
   "source": [
    "!!! abstract Nuage de points vs. tracé continu\n",
    "Le module `plt` permet de tracer. `plt.scatter` trace un nuage de points. `plt.plot` relie les points entre eux.\n",
    "!!!"
   ]
  },
  {
   "cell_type": "code",
   "execution_count": null,
   "metadata": {},
   "outputs": [],
   "source": [
    "plt.close()                                 # force la fermeture des figures précédentes\n",
    "\n",
    "plt.figure(figsize=(8, 6))                  # dimension horizontale, verticale\n",
    "plt.grid()                                  # affiche un quadrillage de lecture\n",
    "plt.xlabel('$grandeur$ en UNITÉ',           # Donne le nom de l'axe x, avec $$ pour le mode math\n",
    "           fontsize=10)                     # en grand\n",
    "plt.ylabel('$grandeur$ en UNITÉ',           # Donne le nom de l'axe y, avec $$ pour le mode math\n",
    "           fontsize=10)                     # en grand\n",
    "\n",
    "plt.scatter(V_avant, G_avant,               # trace un graphe avec X en abscisse et Y en ordonnée\n",
    "            marker='x', s=100,              # possibilité de customiser le tracé\n",
    "            color='green',       \n",
    "            label='Avant')                  # pour la légende\n",
    "plt.plot(X, Y,\n",
    "         color='green', label='Régression')\n",
    "\n",
    "plt.scatter(V_après, G_après,\n",
    "            marker='x', s=100,\n",
    "            color='red',       \n",
    "            label='Après')\n",
    "plt.plot(X, Y,\n",
    "         color='red', label='Régression')\n",
    "\n",
    "plt.title('Titre efficace et descriptif',\n",
    "          fontsize=15)\n",
    "plt.legend(fontsize=12)\n",
    "plt.tight_layout()                          # évite les débordements ou rognages\n",
    "plt.show()"
   ]
  },
  {
   "cell_type": "markdown",
   "metadata": {},
   "source": [
    "#### Volume équivalent relevé"
   ]
  },
  {
   "cell_type": "code",
   "execution_count": null,
   "metadata": {},
   "outputs": [],
   "source": [
    "VBeq = "
   ]
  },
  {
   "cell_type": "markdown",
   "metadata": {},
   "source": [
    "#### Concentrations C1 et CA"
   ]
  },
  {
   "cell_type": "code",
   "execution_count": null,
   "metadata": {},
   "outputs": [],
   "source": [
    "C1 = \n",
    "CA = "
   ]
  },
  {
   "cell_type": "markdown",
   "metadata": {},
   "source": [
    "#### Degré expérimental"
   ]
  },
  {
   "cell_type": "code",
   "execution_count": null,
   "metadata": {},
   "outputs": [],
   "source": [
    "d = "
   ]
  },
  {
   "cell_type": "markdown",
   "metadata": {},
   "source": [
    "#### Écart relatif"
   ]
  },
  {
   "cell_type": "code",
   "execution_count": null,
   "metadata": {},
   "outputs": [],
   "source": [
    "E_r = \n",
    "print(E_r)"
   ]
  },
  {
   "cell_type": "markdown",
   "metadata": {},
   "source": [
    "# V/ Valider : évaluation des incertitudes"
   ]
  },
  {
   "cell_type": "markdown",
   "metadata": {},
   "source": [
    "## Incertitudes individuelles"
   ]
  },
  {
   "cell_type": "markdown",
   "metadata": {},
   "source": [
    "### Incertitude sur CB"
   ]
  },
  {
   "cell_type": "code",
   "execution_count": null,
   "metadata": {},
   "outputs": [],
   "source": [
    "CB = 1e-1 #mol.L-1\n",
    "uCB = 0.01*CB"
   ]
  },
  {
   "cell_type": "markdown",
   "metadata": {},
   "source": [
    "### Incertitude sur VA"
   ]
  },
  {
   "cell_type": "code",
   "execution_count": null,
   "metadata": {},
   "outputs": [],
   "source": [
    "VA = \n",
    "uVA = "
   ]
  },
  {
   "cell_type": "markdown",
   "metadata": {},
   "source": [
    "### Incertitude sur VBeq"
   ]
  },
  {
   "cell_type": "code",
   "execution_count": null,
   "metadata": {},
   "outputs": [],
   "source": [
    "uVBeq = "
   ]
  },
  {
   "cell_type": "markdown",
   "metadata": {},
   "source": [
    "## Simulation de Monte-Carlo pour obtenir des incertitudes de mesures"
   ]
  },
  {
   "cell_type": "markdown",
   "metadata": {},
   "source": [
    "!!! abstract Fonctionnement Monte-Carlo\n",
    "Pour obtenir des incertitudes sur une valeur composée d'autres valeurs :\n",
    "- faire varier aléatoirement les $n$ couples de valeurs mesurées $(x_i,y_i)$ selon des **lois de probabilité uniformes rectangulaires** de demi-largeur la précision $\\Delta(x_i) = \\sqrt{3}u(x_i)$, simulée grâce à la fonction `np.random.uniform()` (même chose pour $y_i$).\n",
    "- Pour chaque série de mesures simulée, faire le calcul de la valeur composée \n",
    "- La meilleure estimation est la moyenne des valeurs calculées\n",
    "- L'incertitude associée est l'écart-type des valeurs calculées\n",
    "!!!"
   ]
  },
  {
   "cell_type": "code",
   "execution_count": null,
   "metadata": {},
   "outputs": [],
   "source": [
    "# =========================================================================== #\n",
    "#                                   Calculs                                   #\n",
    "# =========================================================================== #\n",
    "\n",
    "N = 100000                          # nombre de régressions à effectuer\n",
    "\n",
    "C1list = []                         # initialisation liste vide\n",
    "for i in range(N):\n",
    "    CB_simu = # à vous\n",
    "    VBeq_simu = # à vous\n",
    "    VA_simu = # à vous\n",
    "\n",
    "    C1list.append()\n",
    "\n",
    "# =========================================================================== #\n",
    "#                                 Utilisation                                 #\n",
    "# =========================================================================== #\n",
    "\n",
    "C1mean = np.mean(C1list)\n",
    "uC1 = np.std(Clist, ddof=1)\n",
    "\n",
    "print(f'C1 = {C1mean:.2f} ± {uC1:.2f}')"
   ]
  }
 ],
 "metadata": {
  "kernelspec": {
   "display_name": "Python 3",
   "language": "python",
   "name": "python3"
  },
  "language_info": {
   "codemirror_mode": {
    "name": "ipython",
    "version": 3
   },
   "file_extension": ".py",
   "mimetype": "text/x-python",
   "name": "python",
   "nbconvert_exporter": "python",
   "pygments_lexer": "ipython3",
   "version": "3.7.12"
  }
 },
 "nbformat": 4,
 "nbformat_minor": 4
}
