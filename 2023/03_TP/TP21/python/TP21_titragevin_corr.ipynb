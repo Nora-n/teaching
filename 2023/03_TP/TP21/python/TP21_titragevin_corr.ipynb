{
 "cells": [
  {
   "cell_type": "markdown",
   "metadata": {},
   "source": [
    "### Importations"
   ]
  },
  {
   "cell_type": "code",
   "execution_count": 3,
   "metadata": {},
   "outputs": [],
   "source": [
    "import numpy as np              # pour les tableaux\n",
    "import pandas as pd             # pour visualiser les données\n",
    "import matplotlib.pyplot as plt # pour les graphiques"
   ]
  },
  {
   "cell_type": "markdown",
   "metadata": {},
   "source": [
    "## Données relevées"
   ]
  },
  {
   "cell_type": "markdown",
   "metadata": {},
   "source": [
    "!!! note Note\n",
    "Pour éviter la verbosité de cette manière de créer des tableaux, il est possible de d'abord créer une liste *puis* de la convertir en tableau avec la fonction `np.asarray` (littéralement, « comme un tableau ») :\n",
    "```\n",
    "f = [1, 2, 3]\n",
    "f = np.asarray(f)\n",
    "```\n",
    "!!!"
   ]
  },
  {
   "cell_type": "code",
   "execution_count": 105,
   "metadata": {},
   "outputs": [],
   "source": [
    "V = [i for i in range(20)]\n",
    "V = np.asarray(V)\n",
    "\n",
    "G = [3+0.3*v for v in V[V<10]] + [3+0.3*10+0.5*(v-10) for v in V[V>=10]]\n",
    "G = np.asarray(G)"
   ]
  },
  {
   "cell_type": "markdown",
   "metadata": {},
   "source": [
    "!!! tip Conseil\n",
    "Pour voir des ensembles de liste, il est pratique de faire un `DataFrame`, comme suit :\n",
    "`visu = pd.DataFrame([X,Y], index=['Label X', 'Label Y']).T`\n",
    "et `.T` permet de transposer le tableau\n",
    "!!!"
   ]
  },
  {
   "cell_type": "code",
   "execution_count": 106,
   "metadata": {},
   "outputs": [
    {
     "data": {
      "text/html": [
       "<div>\n",
       "<style scoped>\n",
       "    .dataframe tbody tr th:only-of-type {\n",
       "        vertical-align: middle;\n",
       "    }\n",
       "\n",
       "    .dataframe tbody tr th {\n",
       "        vertical-align: top;\n",
       "    }\n",
       "\n",
       "    .dataframe thead th {\n",
       "        text-align: right;\n",
       "    }\n",
       "</style>\n",
       "<table border=\"1\" class=\"dataframe\">\n",
       "  <thead>\n",
       "    <tr style=\"text-align: right;\">\n",
       "      <th></th>\n",
       "      <th>Volume</th>\n",
       "      <th>Conductance</th>\n",
       "    </tr>\n",
       "  </thead>\n",
       "  <tbody>\n",
       "    <tr>\n",
       "      <th>0</th>\n",
       "      <td>0.0</td>\n",
       "      <td>3.0</td>\n",
       "    </tr>\n",
       "    <tr>\n",
       "      <th>1</th>\n",
       "      <td>1.0</td>\n",
       "      <td>3.3</td>\n",
       "    </tr>\n",
       "    <tr>\n",
       "      <th>2</th>\n",
       "      <td>2.0</td>\n",
       "      <td>3.6</td>\n",
       "    </tr>\n",
       "    <tr>\n",
       "      <th>3</th>\n",
       "      <td>3.0</td>\n",
       "      <td>3.9</td>\n",
       "    </tr>\n",
       "    <tr>\n",
       "      <th>4</th>\n",
       "      <td>4.0</td>\n",
       "      <td>4.2</td>\n",
       "    </tr>\n",
       "    <tr>\n",
       "      <th>5</th>\n",
       "      <td>5.0</td>\n",
       "      <td>4.5</td>\n",
       "    </tr>\n",
       "    <tr>\n",
       "      <th>6</th>\n",
       "      <td>6.0</td>\n",
       "      <td>4.8</td>\n",
       "    </tr>\n",
       "    <tr>\n",
       "      <th>7</th>\n",
       "      <td>7.0</td>\n",
       "      <td>5.1</td>\n",
       "    </tr>\n",
       "    <tr>\n",
       "      <th>8</th>\n",
       "      <td>8.0</td>\n",
       "      <td>5.4</td>\n",
       "    </tr>\n",
       "    <tr>\n",
       "      <th>9</th>\n",
       "      <td>9.0</td>\n",
       "      <td>5.7</td>\n",
       "    </tr>\n",
       "    <tr>\n",
       "      <th>10</th>\n",
       "      <td>10.0</td>\n",
       "      <td>6.0</td>\n",
       "    </tr>\n",
       "    <tr>\n",
       "      <th>11</th>\n",
       "      <td>11.0</td>\n",
       "      <td>6.5</td>\n",
       "    </tr>\n",
       "    <tr>\n",
       "      <th>12</th>\n",
       "      <td>12.0</td>\n",
       "      <td>7.0</td>\n",
       "    </tr>\n",
       "    <tr>\n",
       "      <th>13</th>\n",
       "      <td>13.0</td>\n",
       "      <td>7.5</td>\n",
       "    </tr>\n",
       "    <tr>\n",
       "      <th>14</th>\n",
       "      <td>14.0</td>\n",
       "      <td>8.0</td>\n",
       "    </tr>\n",
       "    <tr>\n",
       "      <th>15</th>\n",
       "      <td>15.0</td>\n",
       "      <td>8.5</td>\n",
       "    </tr>\n",
       "    <tr>\n",
       "      <th>16</th>\n",
       "      <td>16.0</td>\n",
       "      <td>9.0</td>\n",
       "    </tr>\n",
       "    <tr>\n",
       "      <th>17</th>\n",
       "      <td>17.0</td>\n",
       "      <td>9.5</td>\n",
       "    </tr>\n",
       "    <tr>\n",
       "      <th>18</th>\n",
       "      <td>18.0</td>\n",
       "      <td>10.0</td>\n",
       "    </tr>\n",
       "    <tr>\n",
       "      <th>19</th>\n",
       "      <td>19.0</td>\n",
       "      <td>10.5</td>\n",
       "    </tr>\n",
       "  </tbody>\n",
       "</table>\n",
       "</div>"
      ],
      "text/plain": [
       "    Volume  Conductance\n",
       "0      0.0          3.0\n",
       "1      1.0          3.3\n",
       "2      2.0          3.6\n",
       "3      3.0          3.9\n",
       "4      4.0          4.2\n",
       "5      5.0          4.5\n",
       "6      6.0          4.8\n",
       "7      7.0          5.1\n",
       "8      8.0          5.4\n",
       "9      9.0          5.7\n",
       "10    10.0          6.0\n",
       "11    11.0          6.5\n",
       "12    12.0          7.0\n",
       "13    13.0          7.5\n",
       "14    14.0          8.0\n",
       "15    15.0          8.5\n",
       "16    16.0          9.0\n",
       "17    17.0          9.5\n",
       "18    18.0         10.0\n",
       "19    19.0         10.5"
      ]
     },
     "execution_count": 106,
     "metadata": {},
     "output_type": "execute_result"
    }
   ],
   "source": [
    "visu = pd.DataFrame([V, G],\n",
    "                    index=['Volume', 'Conductance']).T\n",
    "visu"
   ]
  },
  {
   "cell_type": "markdown",
   "metadata": {},
   "source": [
    "### Tracé du nuage de points"
   ]
  },
  {
   "cell_type": "code",
   "execution_count": 107,
   "metadata": {},
   "outputs": [
    {
     "data": {
      "image/png": "[encoded data removed]",
      "text/plain": [
       "<Figure size 576x432 with 1 Axes>"
      ]
     },
     "metadata": {
      "needs_background": "light"
     },
     "output_type": "display_data"
    }
   ],
   "source": [
    "plt.close()                                 # force la fermeture des figures précédentes\n",
    "\n",
    "plt.figure(figsize=(8, 6))                  # dimension horizontale, verticale\n",
    "plt.grid()                                  # affiche un quadrillage de lecture\n",
    "plt.xlabel('$grandeur$ en UNITÉ',           # Donne le nom de l'axe x, avec $$ pour le mode math\n",
    "           fontsize=10)                     # en grand\n",
    "plt.ylabel('$grandeur$ en UNITÉ',           # Donne le nom de l'axe y, avec $$ pour le mode math\n",
    "           fontsize=10)                     # en grand\n",
    "\n",
    "plt.scatter(V, G,                           # trace un graphe avec X en abscisse et Y en ordonnée\n",
    "            marker='x', s=100,              # possibilité de customiser le tracé\n",
    "            color='blue',       \n",
    "            label='Données')                # pour la légende\n",
    "\n",
    "plt.title('Titre efficace et descriptif',\n",
    "          fontsize=15)\n",
    "plt.legend(fontsize=12)\n",
    "plt.tight_layout()                          # évite les débordements ou rognages\n",
    "plt.show()"
   ]
  },
  {
   "cell_type": "markdown",
   "metadata": {},
   "source": [
    "## Titrage conductimétrique : fonctions affines par morceaux\n",
    "Dans le cas du suivi conductimétrique, la courbe de la régression est affine par morceaux. On voudrait modéliser chaque partie par une régression linéaire : il faut donc pour cela sélectionner une partie des données."
   ]
  },
  {
   "cell_type": "markdown",
   "metadata": {},
   "source": [
    "!!! abstract Prendre des parties de tableaux\n",
    "Les tableaux `numpy` fonctionnent avec des index plus complexes que les listes : plutôt que de ne pouvoir sélectionner que des éléments selon leur ordre dans une liste (_via_ `liste[0]` par exemple), on peut sélectionner les éléments répondant à des **critères**, comme par exemple prendre les éléments d'un tableau dont les valeurs sont comprises entre 0 et 10. Pour cela, pour `T` un tableau `numpy`, on effetue~:\n",
    "```\n",
    "T[0<T<10]\n",
    "```\n",
    "!!!"
   ]
  },
  {
   "cell_type": "markdown",
   "metadata": {},
   "source": [
    "!!! question Question\n",
    "Créer le tableau `V_avant` des valeurs de `V` plus petites que $V_{\\rm eq}$ et le tableau `V_après` des valeurs de `V` plus grandes que $V_{\\rm eq}$. Créer le tableau `G_avant` des valeurs de `G` avant l'équivalence, et le tableau `G_après` des valeurs de `G`après l'équivalence.\n",
    "!!!"
   ]
  },
  {
   "cell_type": "code",
   "execution_count": 108,
   "metadata": {},
   "outputs": [],
   "source": [
    "V_avant = V[V<10]\n",
    "V_après = V[V>=10]\n",
    "G_avant = G[G<6]\n",
    "G_après = G[G>=6]"
   ]
  },
  {
   "cell_type": "markdown",
   "metadata": {},
   "source": [
    "!!! tip Utilisation des `dataframe`\n",
    "Pour faire ces opérations plus rapidement et de manière conjointe, on peut utliser les `dataframe`. En effet, pour choisir les valeurs d'intérêt liées à une condition sur l'une d'entre elle, il suffit de créer un `dataframe` dérivé du premier par :\n",
    "```\n",
    "visu_avant = visu.loc[visu['Volume'] < 10]\n",
    "```\n",
    "`visu_avant` contient alors toutes les données telles que le volume est inférieur à 10. On peut réextraire les grandeurs `V_avant` avec `V_avant = visu_avant['Volume']` par exemple.\n",
    "!!!"
   ]
  },
  {
   "cell_type": "code",
   "execution_count": 109,
   "metadata": {},
   "outputs": [
    {
     "data": {
      "text/html": [
       "<div>\n",
       "<style scoped>\n",
       "    .dataframe tbody tr th:only-of-type {\n",
       "        vertical-align: middle;\n",
       "    }\n",
       "\n",
       "    .dataframe tbody tr th {\n",
       "        vertical-align: top;\n",
       "    }\n",
       "\n",
       "    .dataframe thead th {\n",
       "        text-align: right;\n",
       "    }\n",
       "</style>\n",
       "<table border=\"1\" class=\"dataframe\">\n",
       "  <thead>\n",
       "    <tr style=\"text-align: right;\">\n",
       "      <th></th>\n",
       "      <th>Volume</th>\n",
       "      <th>Conductance</th>\n",
       "    </tr>\n",
       "  </thead>\n",
       "  <tbody>\n",
       "    <tr>\n",
       "      <th>0</th>\n",
       "      <td>0.0</td>\n",
       "      <td>3.0</td>\n",
       "    </tr>\n",
       "    <tr>\n",
       "      <th>1</th>\n",
       "      <td>1.0</td>\n",
       "      <td>3.3</td>\n",
       "    </tr>\n",
       "    <tr>\n",
       "      <th>2</th>\n",
       "      <td>2.0</td>\n",
       "      <td>3.6</td>\n",
       "    </tr>\n",
       "    <tr>\n",
       "      <th>3</th>\n",
       "      <td>3.0</td>\n",
       "      <td>3.9</td>\n",
       "    </tr>\n",
       "    <tr>\n",
       "      <th>4</th>\n",
       "      <td>4.0</td>\n",
       "      <td>4.2</td>\n",
       "    </tr>\n",
       "    <tr>\n",
       "      <th>5</th>\n",
       "      <td>5.0</td>\n",
       "      <td>4.5</td>\n",
       "    </tr>\n",
       "    <tr>\n",
       "      <th>6</th>\n",
       "      <td>6.0</td>\n",
       "      <td>4.8</td>\n",
       "    </tr>\n",
       "    <tr>\n",
       "      <th>7</th>\n",
       "      <td>7.0</td>\n",
       "      <td>5.1</td>\n",
       "    </tr>\n",
       "    <tr>\n",
       "      <th>8</th>\n",
       "      <td>8.0</td>\n",
       "      <td>5.4</td>\n",
       "    </tr>\n",
       "    <tr>\n",
       "      <th>9</th>\n",
       "      <td>9.0</td>\n",
       "      <td>5.7</td>\n",
       "    </tr>\n",
       "  </tbody>\n",
       "</table>\n",
       "</div>"
      ],
      "text/plain": [
       "   Volume  Conductance\n",
       "0     0.0          3.0\n",
       "1     1.0          3.3\n",
       "2     2.0          3.6\n",
       "3     3.0          3.9\n",
       "4     4.0          4.2\n",
       "5     5.0          4.5\n",
       "6     6.0          4.8\n",
       "7     7.0          5.1\n",
       "8     8.0          5.4\n",
       "9     9.0          5.7"
      ]
     },
     "execution_count": 109,
     "metadata": {},
     "output_type": "execute_result"
    }
   ],
   "source": [
    "# Testez-moi !\n",
    "visu_avant = visu.loc[visu['Volume'] < 10]\n",
    "visu_avant"
   ]
  },
  {
   "cell_type": "code",
   "execution_count": 110,
   "metadata": {},
   "outputs": [
    {
     "data": {
      "text/plain": [
       "(array([0., 1., 2., 3., 4., 5., 6., 7., 8., 9.]),\n",
       " array([3. , 3.3, 3.6, 3.9, 4.2, 4.5, 4.8, 5.1, 5.4, 5.7]))"
      ]
     },
     "execution_count": 110,
     "metadata": {},
     "output_type": "execute_result"
    }
   ],
   "source": [
    "V_avant = visu_avant['Volume'].values\n",
    "G_avant = visu_avant['Conductance'].values\n",
    "V_avant, G_avant"
   ]
  },
  {
   "cell_type": "markdown",
   "metadata": {},
   "source": [
    "!!! tip Vérification\n",
    "Vous pouvez vérifier que vous avez bien pris les bonnes valeurs en refaisant un tracé des nuages de points, avec des couleurs différentes.\n",
    "!!!"
   ]
  },
  {
   "cell_type": "code",
   "execution_count": 111,
   "metadata": {},
   "outputs": [
    {
     "data": {
      "image/png": "[encoded data removed]",
      "text/plain": [
       "<Figure size 576x432 with 1 Axes>"
      ]
     },
     "metadata": {
      "needs_background": "light"
     },
     "output_type": "display_data"
    }
   ],
   "source": [
    "plt.close()                                 # force la fermeture des figures précédentes\n",
    "\n",
    "plt.figure(figsize=(8, 6))                  # dimension horizontale, verticale\n",
    "plt.grid()                                  # affiche un quadrillage de lecture\n",
    "plt.xlabel('$grandeur$ en UNITÉ',           # Donne le nom de l'axe x, avec $$ pour le mode math\n",
    "           fontsize=10)                     # en grand\n",
    "plt.ylabel('$grandeur$ en UNITÉ',           # Donne le nom de l'axe y, avec $$ pour le mode math\n",
    "           fontsize=10)                     # en grand\n",
    "\n",
    "plt.scatter(V_avant, G_avant,               # trace un graphe avec X en abscisse et Y en ordonnée\n",
    "            marker='x', s=100,              # possibilité de customiser le tracé\n",
    "            color='green',       \n",
    "            label='Avant')                  # pour la légende\n",
    "\n",
    "plt.scatter(V_après, G_après,               # trace un graphe avec X en abscisse et Y en ordonnée\n",
    "            marker='x', s=100,              # possibilité de customiser le tracé\n",
    "            color='red',       \n",
    "            label='Après')                # pour la légende\n",
    "\n",
    "\n",
    "plt.title('Titre efficace et descriptif',\n",
    "          fontsize=15)\n",
    "plt.legend(fontsize=12)\n",
    "plt.tight_layout()                          # évite les débordements ou rognages\n",
    "plt.show()"
   ]
  },
  {
   "cell_type": "markdown",
   "metadata": {},
   "source": [
    "## Validation d'un modèle linéaire par régression"
   ]
  },
  {
   "cell_type": "markdown",
   "metadata": {},
   "source": [
    "!!! abstract Validation d'un modèle linéaire par régression\n",
    "\n",
    "La fonction `polyfit(X,Y,d)` de la bibliothèque `numpy` ajuste au plus près 2 listes de données (abscisses `X`, ordonnées `Y`) par une fonction polynomiale de degrè `d`, et renvoie les coefficients du polynôme le mieux ajusté. Ainsi, pour le degrè 1, cela correspond à une regression linéaire $y = ax + b$.\n",
    "!!!"
   ]
  },
  {
   "cell_type": "markdown",
   "metadata": {},
   "source": [
    "!!! question Question\n",
    "Calculez les coefficients `a_avant`, `b_avant` et `a_après`, `b_après` des régressions linéaires sur chaque portion des valeurs expérimentales.\n",
    "!!!"
   ]
  },
  {
   "cell_type": "code",
   "execution_count": 112,
   "metadata": {},
   "outputs": [
    {
     "name": "stdout",
     "output_type": "stream",
     "text": [
      "a = 0.300, b = 3.00\n",
      "a = 0.500, b = 1.00\n"
     ]
    }
   ],
   "source": [
    "a_avant, b_avant = np.polyfit(V_avant, G_avant, 1)         # « a » le coefficient directeur,\n",
    "                                        # « b » l'ordonnée à l'origine\n",
    "print(f\"a = {a_avant:.3f}, b = {b_avant:.2f}\") # .3f pour 3 valeurs après la virgule\n",
    "a_après, b_après = np.polyfit(V_après, G_après, 1)         \n",
    "print(f\"a = {a_après:.3f}, b = {b_après:.2f}\") # .3f pour 3 valeurs après la virgule"
   ]
  },
  {
   "cell_type": "markdown",
   "metadata": {},
   "source": [
    "### Fonction pour le tracé"
   ]
  },
  {
   "cell_type": "code",
   "execution_count": 113,
   "metadata": {},
   "outputs": [],
   "source": [
    "def yfunc(x, a, b):\n",
    "    return a*x+b"
   ]
  },
  {
   "cell_type": "markdown",
   "metadata": {},
   "source": [
    "!!! abstract Tracé d'une fonction : abscisse\n",
    "Une fonction en $\\texttt{Python}$ reste une application qui donne une image à un antécédant. Pour pouvoir en faire la représentation graphique, il faut définir toute une série de points sur lesquels on veut tracer pour ensuite les relier un à un. Pour cela, `np.linspace` permet de découper un intervalle de la valeur minimale voulue à la valeur maximale voulue, avec un nombre de points $N$.\n",
    "!!!"
   ]
  },
  {
   "cell_type": "markdown",
   "metadata": {},
   "source": [
    "!!! question Question\n",
    "Ici, on veut tracer de la valeur minimale de `V_avant` à **un peu plus loin** que la valeur maximale de `V_avant`, en ayant suffisamment de points pour que le tracé soit efficace. Complétez le code suivant pour définir `xliste_avant` la liste des valeurs de `V` sur laquelle tracer, et de même pour après l'équivalence.\n",
    "!!!"
   ]
  },
  {
   "cell_type": "code",
   "execution_count": 114,
   "metadata": {},
   "outputs": [],
   "source": [
    "xliste_avant = np.linspace(min(V_avant), max(V_avant)+2, 100)\n",
    "xliste_après = np.linspace(min(V_après)-2, max(V_après), 100)"
   ]
  },
  {
   "cell_type": "markdown",
   "metadata": {},
   "source": [
    "!!! tip Indice\n",
    "Les fonctions `min` et `max` existent.\n",
    "!!!"
   ]
  },
  {
   "cell_type": "markdown",
   "metadata": {},
   "source": [
    "!!! abstract Tracé d'une fonction : ordonnée\n",
    "On a dont toutes les briques pour tracer la fonction : la fonction en elle-même, les valeurs d'abscisse, et les meilleurs paramètres. Pour avoir les ordonnées, il suffit de calculer `f(x, a, b)`.\n",
    "!!!"
   ]
  },
  {
   "cell_type": "code",
   "execution_count": 115,
   "metadata": {},
   "outputs": [],
   "source": [
    "yliste_avant = yfunc(xliste_avant, a_avant, b_avant)\n",
    "yliste_après = yfunc(xliste_après, a_après, b_après)"
   ]
  },
  {
   "cell_type": "markdown",
   "metadata": {},
   "source": [
    "!!! warning Attention\n",
    "<center><b>\n",
    "La seule façon valable de conclure à la validité d’une régression linéaire est une représentation graphique où l’on observe l’alignement des points avec la droite de régression.\n",
    "</center>\n",
    "!!!"
   ]
  },
  {
   "cell_type": "markdown",
   "metadata": {},
   "source": [
    "## Tracé du graphe pour trouver $V_{\\rm eq}$"
   ]
  },
  {
   "cell_type": "markdown",
   "metadata": {},
   "source": [
    "!!! abstract Nuage de points vs. tracé continu\n",
    "Le module `plt` permet de tracer. `plt.scatter` trace un nuage de points. `plt.plot` relie les points entre eux.\n",
    "!!!"
   ]
  },
  {
   "cell_type": "code",
   "execution_count": 116,
   "metadata": {},
   "outputs": [
    {
     "data": {
      "image/png": "[encoded data removed]",
      "text/plain": [
       "<Figure size 576x432 with 1 Axes>"
      ]
     },
     "metadata": {
      "needs_background": "light"
     },
     "output_type": "display_data"
    }
   ],
   "source": [
    "plt.close()                                 # force la fermeture des figures précédentes\n",
    "\n",
    "plt.figure(figsize=(8, 6))                  # dimension horizontale, verticale\n",
    "plt.grid()                                  # affiche un quadrillage de lecture\n",
    "plt.xlabel('$grandeur$ en UNITÉ',           # Donne le nom de l'axe x, avec $$ pour le mode math\n",
    "           fontsize=10)                     # en grand\n",
    "plt.ylabel('$grandeur$ en UNITÉ',           # Donne le nom de l'axe y, avec $$ pour le mode math\n",
    "           fontsize=10)                     # en grand\n",
    "\n",
    "plt.scatter(V_avant, G_avant,               # trace un graphe avec X en abscisse et Y en ordonnée\n",
    "            marker='x', s=100,              # possibilité de customiser le tracé\n",
    "            color='green',       \n",
    "            label='Avant')                  # pour la légende\n",
    "plt.plot(xliste_avant, yliste_avant,\n",
    "         color='green', label='Régression')\n",
    "\n",
    "plt.scatter(V_après, G_après,\n",
    "            marker='x', s=100,\n",
    "            color='red',       \n",
    "            label='Après')\n",
    "plt.plot(xliste_après, yliste_après,\n",
    "         color='red', label='Régression')\n",
    "\n",
    "plt.title('Titre efficace et descriptif',\n",
    "          fontsize=15)\n",
    "plt.legend(fontsize=12)\n",
    "plt.tight_layout()                          # évite les débordements ou rognages\n",
    "plt.show()"
   ]
  },
  {
   "cell_type": "markdown",
   "metadata": {},
   "source": [
    "#### Volume équivalent relevé"
   ]
  },
  {
   "cell_type": "code",
   "execution_count": null,
   "metadata": {},
   "outputs": [],
   "source": [
    "VBeq = "
   ]
  },
  {
   "cell_type": "markdown",
   "metadata": {},
   "source": [
    "#### Concentrations C1 et CA"
   ]
  },
  {
   "cell_type": "code",
   "execution_count": null,
   "metadata": {},
   "outputs": [],
   "source": [
    "C1 = \n",
    "CA = "
   ]
  },
  {
   "cell_type": "markdown",
   "metadata": {},
   "source": [
    "#### Degré expérimental"
   ]
  },
  {
   "cell_type": "code",
   "execution_count": null,
   "metadata": {},
   "outputs": [],
   "source": [
    "d = "
   ]
  },
  {
   "cell_type": "markdown",
   "metadata": {},
   "source": [
    "#### Écart relatif"
   ]
  },
  {
   "cell_type": "code",
   "execution_count": null,
   "metadata": {},
   "outputs": [],
   "source": [
    "E_r = \n",
    "print(E_r)"
   ]
  },
  {
   "cell_type": "markdown",
   "metadata": {},
   "source": [
    "# V/ Valider : évaluation des incertitudes"
   ]
  },
  {
   "cell_type": "markdown",
   "metadata": {},
   "source": [
    "## Incertitudes individuelles"
   ]
  },
  {
   "cell_type": "markdown",
   "metadata": {},
   "source": [
    "### Incertitude sur CB"
   ]
  },
  {
   "cell_type": "code",
   "execution_count": null,
   "metadata": {},
   "outputs": [],
   "source": [
    "CB = 1e-1 #mol.L-1\n",
    "uCB = 0.01*CB"
   ]
  },
  {
   "cell_type": "markdown",
   "metadata": {},
   "source": [
    "### Incertitude sur VA"
   ]
  },
  {
   "cell_type": "code",
   "execution_count": null,
   "metadata": {},
   "outputs": [],
   "source": [
    "VA = \n",
    "uVA = "
   ]
  },
  {
   "cell_type": "markdown",
   "metadata": {},
   "source": [
    "### Incertitude sur VBeq"
   ]
  },
  {
   "cell_type": "code",
   "execution_count": null,
   "metadata": {},
   "outputs": [],
   "source": [
    "uVBeq = "
   ]
  },
  {
   "cell_type": "markdown",
   "metadata": {},
   "source": [
    "## Simulation de Monte-Carlo pour obtenir des incertitudes de mesures"
   ]
  },
  {
   "cell_type": "markdown",
   "metadata": {},
   "source": [
    "!!! abstract Fonctionnement Monte-Carlo\n",
    "Pour obtenir des incertitudes sur une valeur composée d'autres valeurs :\n",
    "- faire varier aléatoirement les $n$ couples de valeurs mesurées $(x_i,y_i)$ selon des **lois de probabilité uniformes rectangulaires** de demi-largeur la précision $\\Delta(x_i) = \\sqrt{3}u(x_i)$, simulée grâce à la fonction `np.random.uniform()` (même chose pour $y_i$).\n",
    "- Pour chaque série de mesures simulée, faire le calcul de la valeur composée \n",
    "- La meilleure estimation est la moyenne des valeurs calculées\n",
    "- L'incertitude associée est l'écart-type des valeurs calculées\n",
    "!!!"
   ]
  },
  {
   "cell_type": "code",
   "execution_count": 48,
   "metadata": {},
   "outputs": [
    {
     "name": "stdout",
     "output_type": "stream",
     "text": [
      "Coef.directeur = -2.045e-01 ± 1.406e-16\n",
      "Ordonnée à l'origine = 2.106e+00 ± 1.211e-01\n"
     ]
    }
   ],
   "source": [
    "# =========================================================================== #\n",
    "#                                   Calculs                                   #\n",
    "# =========================================================================== #\n",
    "\n",
    "N = 100000                          # nombre de régressions à effectuer\n",
    "\n",
    "C1list = []                         # initialisation liste vide\n",
    "for i in range(N):\n",
    "    CB_simu = # à vous\n",
    "    VBeq_simu = # à vous\n",
    "    VA_simu = # à vous\n",
    "\n",
    "    C1list.append()\n",
    "\n",
    "# =========================================================================== #\n",
    "#                                 Utilisation                                 #\n",
    "# =========================================================================== #\n",
    "\n",
    "C1mean = np.mean(C1list)\n",
    "uC1 = np.std(Clist, ddof=1)\n",
    "\n",
    "print(f'C1 = {C1mean:.2f} ± {uC1:.2f}')"
   ]
  }
 ],
 "metadata": {
  "kernelspec": {
   "display_name": "Python 3",
   "language": "python",
   "name": "python3"
  },
  "language_info": {
   "codemirror_mode": {
    "name": "ipython",
    "version": 3
   },
   "file_extension": ".py",
   "mimetype": "text/x-python",
   "name": "python",
   "nbconvert_exporter": "python",
   "pygments_lexer": "ipython3",
   "version": "3.7.12"
  }
 },
 "nbformat": 4,
 "nbformat_minor": 4
}
