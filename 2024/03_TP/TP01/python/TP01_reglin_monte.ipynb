{
 "cells": [
  {
   "cell_type": "markdown",
   "metadata": {},
   "source": [
    "### Importations"
   ]
  },
  {
   "cell_type": "code",
   "execution_count": null,
   "metadata": {
    "tags": []
   },
   "outputs": [],
   "source": [
    "import numpy as np              # pour les tableaux\n",
    "import matplotlib.pyplot as plt # pour les graphiques"
   ]
  },
  {
   "cell_type": "markdown",
   "metadata": {
    "tags": [],
    "user_expressions": []
   },
   "source": [
    "# A) Méthode de Bessel"
   ]
  },
  {
   "cell_type": "markdown",
   "metadata": {
    "tags": [],
    "user_expressions": []
   },
   "source": [
    "### Valeurs expérimentales et incertitudes"
   ]
  },
  {
   "cell_type": "code",
   "execution_count": null,
   "metadata": {},
   "outputs": [],
   "source": [
    "x1  =      # cm\n",
    "x2  =      # cm\n",
    "\n",
    "d = abs(x1-x2)\n",
    "\n",
    "D_bessel =        # cm"
   ]
  },
  {
   "cell_type": "code",
   "execution_count": null,
   "metadata": {},
   "outputs": [],
   "source": [
    "ux1 =              # cm\n",
    "ux2 =              # cm\n",
    "\n",
    "ud =               # cm\n",
    "\n",
    "uD_bessel =        # cm"
   ]
  },
  {
   "cell_type": "code",
   "execution_count": 4,
   "metadata": {
    "tags": []
   },
   "outputs": [
    {
     "name": "stdout",
     "output_type": "stream",
     "text": [
      "x1 = 11.60 ± 0.06\n",
      "x2 = 80.20 ± 0.06\n",
      "d = 68.60 ± 0.08\n",
      "D_bessel = 92.00 ± 0.06\n"
     ]
    }
   ],
   "source": [
    "print(f'x1 = {x1:.2f} ± {ux1:.2f}')\n",
    "print(f'x2 = {x2:.2f} ± {ux2:.2f}')\n",
    "print(f'd = {d:.2f} ± {ud:.2f}')\n",
    "print(f'D_bessel = {D_bessel:.2f} ± {uD_bessel:.2f}')"
   ]
  },
  {
   "cell_type": "markdown",
   "metadata": {
    "tags": [],
    "user_expressions": []
   },
   "source": [
    "### Calcul de f'"
   ]
  },
  {
   "cell_type": "code",
   "execution_count": null,
   "metadata": {},
   "outputs": [],
   "source": [
    "f_bessel =        # cm\n",
    "print(f'f_bessel = {f_bessel:.2f} cm')"
   ]
  },
  {
   "cell_type": "markdown",
   "metadata": {
    "tags": [],
    "user_expressions": []
   },
   "source": [
    "#### Incertitudes sur f_bessel"
   ]
  },
  {
   "cell_type": "markdown",
   "metadata": {},
   "source": [
    "##### Calcul analytique de question 3"
   ]
  },
  {
   "cell_type": "code",
   "execution_count": null,
   "metadata": {},
   "outputs": [],
   "source": [
    "uf_bessel = 0.25*np.sqrt(\n",
    "    uD_bessel**2*(1+d**4/D_bessel**4) +\n",
    "    2*(d**2/D_bessel**2)*ud**2\n",
    ")\n",
    "print(f'f_bessel = {f_bessel:.2f} ± {uf_bessel:.2f}')"
   ]
  },
  {
   "cell_type": "markdown",
   "metadata": {},
   "source": [
    "##### Simulation Monte-Carlo"
   ]
  },
  {
   "cell_type": "code",
   "execution_count": null,
   "metadata": {},
   "outputs": [],
   "source": [
    "Delta_d_bessel =         # cm\n",
    "d_bessel_xtr = []        # cm\n",
    "Delta_D_bessel =         # cm\n",
    "D_bessel_xtr = []        # cm\n",
    "\n",
    "N = 100000\n",
    "liste_f = []\n",
    "for i in range(0, N):\n",
    "    d_simu = np.random.uniform(d_bessel_xtr[0], d_bessel_xtr[1])\n",
    "    D_simu = np.random.uniform(D_bessel_xtr[0], D_bessel_xtr[1])\n",
    "    f_simu = # à remplir !\n",
    "    liste_f.append(f_simu)\n",
    "\n",
    "f_bessel_MC = np.mean(liste_f)\n",
    "uf_bessel_MC = np.std(liste_f, ddof=1)\n",
    "print(f'f_bessel_MC = {f_bessel_MC:.2f} ± {uf_bessel_MC:.2f}')"
   ]
  },
  {
   "cell_type": "markdown",
   "metadata": {},
   "source": [
    "# B) Méthode de Silbermann"
   ]
  },
  {
   "cell_type": "markdown",
   "metadata": {},
   "source": [
    "### Valeurs expérimentales et incertitudes"
   ]
  },
  {
   "cell_type": "code",
   "execution_count": null,
   "metadata": {},
   "outputs": [],
   "source": [
    "D_silb_xtr = []\n",
    "D_silb = np.mean(D_silb_xtr)       # cm\n",
    "Delta_D_silb = (D_silb_xtr[1]-D_silb_xtr[0])/2\n",
    "uD_silb = Delta_D_silb/(np.sqrt(3))      # cm"
   ]
  },
  {
   "cell_type": "markdown",
   "metadata": {
    "tags": [],
    "user_expressions": []
   },
   "source": [
    "### Calcul de f'"
   ]
  },
  {
   "cell_type": "code",
   "execution_count": null,
   "metadata": {},
   "outputs": [],
   "source": [
    "f_silb =        # cm\n",
    "print(f'f_silb = {f_silb:.2f} cm')\n",
    "\n",
    "uf_silb = \n",
    "print(f'f_silb = {f_silb:.2f} ± {uf_silb:.2f}')"
   ]
  },
  {
   "cell_type": "markdown",
   "metadata": {},
   "source": [
    "# C) Par régression"
   ]
  },
  {
   "cell_type": "markdown",
   "metadata": {},
   "source": [
    "### Valeurs expérimentales et incertitudes"
   ]
  },
  {
   "cell_type": "code",
   "execution_count": null,
   "metadata": {},
   "outputs": [],
   "source": [
    "OA_list = np.array([])  # cm\n",
    "uOA =                   # cm\n",
    "OAp_list = np.array([]) # cm\n",
    "uOAp =                  # cm"
   ]
  },
  {
   "cell_type": "markdown",
   "metadata": {},
   "source": [
    "### Régression"
   ]
  },
  {
   "cell_type": "code",
   "execution_count": null,
   "metadata": {},
   "outputs": [],
   "source": [
    "X = 1/OA_list\n",
    "Y = 1/OAp_list\n",
    "a, b = np.polyfit(X, Y, 1)\n",
    "print(f\"a = {a:.3f}, b = {b:.3f}\")\n",
    "f_reg = 1/b\n",
    "print(f'f_reg = {f_reg:.2f} cm')"
   ]
  },
  {
   "cell_type": "markdown",
   "metadata": {
    "tags": [],
    "user_expressions": []
   },
   "source": [
    "### Tracé pour vérification"
   ]
  },
  {
   "cell_type": "code",
   "execution_count": null,
   "metadata": {},
   "outputs": [],
   "source": [
    "# découpage de l'intervalle pour fonction lisse\n",
    "xliste = np.linspace(min(X), max(X), 100)\n",
    "# Liste des points y_i obtenus par régression\n",
    "yliste = a*xliste+b\n",
    "\n",
    "plt.figure(figsize=(8, 6))\n",
    "plt.grid()\n",
    "plt.xticks(fontsize=15)\n",
    "plt.yticks(fontsize=15)\n",
    "\n",
    "plt.xlabel('$1/OA$ en m^-1', fontsize=20)\n",
    "plt.ylabel('$1/OAp$ en m^-1', fontsize=20)\n",
    "\n",
    "plt.scatter(X, Y, marker=\"+\", s=100, label='Données')\n",
    "plt.plot(xliste, yliste,\n",
    "         'r', label='Régression linéaire')\n",
    "\n",
    "plt.title(\"Détermination d'une focale par régression\",\n",
    "          fontsize=20)\n",
    "plt.legend(fontsize=15)\n",
    "plt.show()"
   ]
  },
  {
   "cell_type": "markdown",
   "metadata": {},
   "source": [
    "# D) Comparaison"
   ]
  },
  {
   "cell_type": "markdown",
   "metadata": {},
   "source": [
    "### Écarts relatifs"
   ]
  },
  {
   "cell_type": "code",
   "execution_count": null,
   "metadata": {},
   "outputs": [],
   "source": [
    "f_theo =        # cm\n",
    "\n",
    "er_bessel = abs(f_bessel-f_theo)/(f_theo)\n",
    "er_silb = abs(f_silb-f_theo)/(f_theo)\n",
    "er_reg = abs(f_reg-f_theo)/(f_theo)\n",
    "\n",
    "print(f'er_bessel = {er_bessel:.2f}')\n",
    "print(f'er_silb = {er_silb:.2f}')\n",
    "print(f'er_reg = {er_reg:.2f}')"
   ]
  },
  {
   "cell_type": "markdown",
   "metadata": {},
   "source": [
    "### Conclusion"
   ]
  },
  {
   "cell_type": "markdown",
   "metadata": {},
   "source": [
    "Ainsi, j'en conclue que…"
   ]
  },
  {
   "cell_type": "markdown",
   "metadata": {},
   "source": [
    "# V/ Valider et conclure"
   ]
  },
  {
   "cell_type": "markdown",
   "metadata": {},
   "source": [
    "### Incertitude pour régression"
   ]
  },
  {
   "cell_type": "code",
   "execution_count": null,
   "metadata": {},
   "outputs": [],
   "source": [
    "# Attention, X = 1/OA donc l'incertitude est composée !\n",
    "uX =       # cm\n",
    "uY =       # cm"
   ]
  },
  {
   "cell_type": "markdown",
   "metadata": {
    "tags": [],
    "user_expressions": []
   },
   "source": [
    "#### Tracé du graphe pour vérification"
   ]
  },
  {
   "cell_type": "code",
   "execution_count": null,
   "metadata": {},
   "outputs": [],
   "source": [
    "# découpage de l'intervalle pour fonction lisse\n",
    "xliste = np.linspace(min(X), max(X), 100)\n",
    "# Liste des points y_i obtenus par régression\n",
    "yliste = a*xliste+b\n",
    "\n",
    "plt.figure(figsize=(8, 6))\n",
    "plt.grid()\n",
    "plt.xticks(fontsize=15)\n",
    "plt.yticks(fontsize=15)\n",
    "\n",
    "plt.xlabel('$1/OA$ en m^-1', fontsize=20)\n",
    "plt.ylabel('$1/OAp$ en m^-1', fontsize=20)\n",
    "\n",
    "plt.errorbar(X, Y,\n",
    "             xerr=uX, yerr=uY,\n",
    "             linestyle='None', capsize=3,\n",
    "             color='b', label='Mesures')\n",
    "plt.plot(xliste, yliste,\n",
    "         'r', label='Régression linéaire')\n",
    "\n",
    "plt.title(\"Détermination d'une focale par régression\",\n",
    "          fontsize=20)\n",
    "plt.legend(fontsize=15)\n",
    "plt.show()"
   ]
  },
  {
   "cell_type": "markdown",
   "metadata": {},
   "source": [
    "#### Monte-Carlo régression"
   ]
  },
  {
   "cell_type": "code",
   "execution_count": null,
   "metadata": {},
   "outputs": [],
   "source": [
    "Delta_X = uX*np.sqrt(3)    # demi-largeur X\n",
    "Delta_Y = uY*np.sqrt(3)    # demi-largeur Y\n",
    "\n",
    "N = 10000                  # nombre de régressions à effectuer\n",
    "liste_a, liste_b = [], []  # création des listes vides pour stocker les valeurs\n",
    "for i in range(N):\n",
    "    X_simu = X + np.random.uniform(-Delta_X, Delta_X)\n",
    "    Y_simu = Y + np.random.uniform(-Delta_Y, Delta_Y)\n",
    "\n",
    "    a_simu, b_simu = np.polyfit(X_simu, Y_simu, 1)\n",
    "\n",
    "    liste_a.append(a_simu)\n",
    "    liste_b.append(b_simu)\n",
    "\n",
    "a_moy, b_moy = np.mean(liste_a), np.mean(liste_b)\n",
    "ua, ub = np.std(liste_a, ddof=1), np.std(liste_b, ddof=1)\n",
    "\n",
    "print(f'Coef.directeur = {a_moy:.3e} +- {ua:.3e}')\n",
    "print(f\"Ordonnée à l'origine = {b_moy:.3e} +- {ub:.3e}\")"
   ]
  },
  {
   "cell_type": "code",
   "execution_count": null,
   "metadata": {},
   "outputs": [],
   "source": [
    "f_reg_MC = 1/b_moy\n",
    "uf_reg_MC = ub/(b_moy**2)\n",
    "\n",
    "print(f'f_reg_MC = {f_reg_MC:.2f} ± {uf_reg_MC:.2f}')"
   ]
  },
  {
   "cell_type": "markdown",
   "metadata": {},
   "source": [
    "### Écarts normalisés"
   ]
  },
  {
   "cell_type": "code",
   "execution_count": null,
   "metadata": {},
   "outputs": [],
   "source": [
    "E_N_bess = abs(f_theo-f_bessel)/(uf_bess)\n",
    "print(f'E_N_bess = {E_N_bess:.2f}')\n",
    "\n",
    "E_N_silb = abs(f_theo-f_silb)/(uf_silb)\n",
    "print(f'E_N_silb = {E_N_silb:.2f}')\n",
    "\n",
    "E_N_reg = abs(f_theo-f_reg)/(uf_reg)\n",
    "print(f'E_N_reg = {E_N_reg:.2f}')"
   ]
  },
  {
   "cell_type": "markdown",
   "metadata": {},
   "source": [
    "Ainsi, j'en conclue que…"
   ]
  }
 ],
 "metadata": {
  "kernelspec": {
   "display_name": "Python 3 (ipykernel)",
   "language": "python",
   "name": "python3"
  },
  "language_info": {
   "codemirror_mode": {
    "name": "ipython",
    "version": 3
   },
   "file_extension": ".py",
   "mimetype": "text/x-python",
   "name": "python",
   "nbconvert_exporter": "python",
   "pygments_lexer": "ipython3",
   "version": "3.11.5"
  }
 },
 "nbformat": 4,
 "nbformat_minor": 4
}
