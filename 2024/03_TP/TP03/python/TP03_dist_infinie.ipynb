{
 "cells": [
  {
   "cell_type": "markdown",
   "metadata": {},
   "source": [
    "### Importations"
   ]
  },
  {
   "cell_type": "code",
   "execution_count": null,
   "metadata": {
    "tags": []
   },
   "outputs": [],
   "source": [
    "import numpy as np              # pour les tableaux\n",
    "import matplotlib.pyplot as plt # pour les graphiques\n",
    "import pandas as pd             # pour visualiser les données"
   ]
  },
  {
   "cell_type": "markdown",
   "metadata": {
    "tags": [],
    "user_expressions": []
   },
   "source": [
    "# A) 2- Mesure de la distance focale"
   ]
  },
  {
   "cell_type": "markdown",
   "metadata": {
    "tags": [],
    "user_expressions": []
   },
   "source": [
    "### Valeurs expérimentales et incertitudes par la lunette"
   ]
  },
  {
   "cell_type": "code",
   "execution_count": null,
   "metadata": {},
   "outputs": [],
   "source": [
    "xA  =      # cm\n",
    "xL  =      # cm\n",
    "\n",
    "f = abs(xA-xL)"
   ]
  },
  {
   "cell_type": "code",
   "execution_count": null,
   "metadata": {},
   "outputs": [],
   "source": [
    "uxA =             # cm\n",
    "uxL =             # cm\n",
    "\n",
    "uf =               # cm"
   ]
  },
  {
   "cell_type": "code",
   "execution_count": null,
   "metadata": {
    "tags": []
   },
   "outputs": [],
   "source": [
    "print(f'xA = {xA:.2f} ± {uxA:.2f} cm')\n",
    "print(f'xL = {xL:.2f} ± {uxL:.2f} cm')\n",
    "print(f\"f' = {f:.2f} ± {uf:.2f} cm\")"
   ]
  },
  {
   "cell_type": "markdown",
   "metadata": {},
   "source": [
    "#### Écart normalisé"
   ]
  },
  {
   "cell_type": "code",
   "execution_count": null,
   "metadata": {},
   "outputs": [],
   "source": [
    "E_N = ()/()\n",
    "print(f'E_N = {E_N:.2f}')"
   ]
  },
  {
   "cell_type": "markdown",
   "metadata": {
    "tags": [],
    "user_expressions": []
   },
   "source": [
    "# B) 1- Focales par viseur"
   ]
  },
  {
   "cell_type": "markdown",
   "metadata": {},
   "source": [
    "### Valeurs expérimentales"
   ]
  },
  {
   "cell_type": "code",
   "execution_count": null,
   "metadata": {
    "tags": []
   },
   "outputs": [],
   "source": [
    "xv_list = []     # cm\n",
    "xR_list = []     # cm\n",
    "\n",
    "# Conversion en tableaux numpy\n",
    "xv_tab = np.array(xv_list)\n",
    "xR_tab = np.array(xR_list)\n",
    "\n",
    "# Génération de liste par condition\n",
    "ftheo_tab = np.array([])  # cm\n",
    "fexpe_tab = np.array([xR - xv for xv,xR in zip(xv_tab, xR_tab)])  # cm"
   ]
  },
  {
   "cell_type": "markdown",
   "metadata": {
    "tags": [],
    "user_expressions": []
   },
   "source": [
    "!!! tip Conseil\n",
    "Pour voir des ensembles de liste, il est pratique de faire un `DataFrame`, comme suit :\n",
    "```\\n\",\n",
    "visu = pd.DataFrame([X,Y], index=['Label X', 'Label Y']).T\n",
    "```,\n",
    "et `.T` permet de transposer le tableau\n",
    "!!!"
   ]
  },
  {
   "cell_type": "code",
   "execution_count": null,
   "metadata": {
    "tags": []
   },
   "outputs": [],
   "source": [
    "visu = pd.DataFrame([ftheo_tab, xv_tab, xR_tab, fexpe_tab],\n",
    "                    index=['ftheo', 'xv', 'xR', 'fexpe']).T\n",
    "visu"
   ]
  },
  {
   "cell_type": "markdown",
   "metadata": {},
   "source": [
    "### Incertitudes"
   ]
  },
  {
   "cell_type": "code",
   "execution_count": null,
   "metadata": {
    "tags": []
   },
   "outputs": [],
   "source": [
    "# Il est possible de générer une liste de taille Ndont chaque terme vaut 1 avec np.ones(N), d'où par facilité :\n",
    "uxv_tab = (0.1/np.sqrt(3))*np.ones(len(xv_tab))\n",
    "uxR_tab = []     # cm\n",
    "\n",
    "ufexpe_tab = np.sqrt(2)*uxv_tab  # cm"
   ]
  },
  {
   "cell_type": "code",
   "execution_count": null,
   "metadata": {
    "tags": []
   },
   "outputs": [],
   "source": [
    "visu_incert = pd.DataFrame([uxv_tab, uxR_tab, ufexpe_tab],\n",
    "                    index=['u_xv', 'u_xR', 'u_fexpe']).T\n",
    "visu_incert"
   ]
  },
  {
   "cell_type": "markdown",
   "metadata": {},
   "source": [
    "### Écarts normalisés"
   ]
  },
  {
   "cell_type": "code",
   "execution_count": null,
   "metadata": {},
   "outputs": [],
   "source": [
    "E_N = \n",
    "E_N"
   ]
  },
  {
   "cell_type": "markdown",
   "metadata": {},
   "source": [
    "### Visualisation complète"
   ]
  },
  {
   "cell_type": "code",
   "execution_count": null,
   "metadata": {},
   "outputs": [],
   "source": [
    "visu_tot = pd.DataFrame([ftheo_tab, xv_tab, uxv_tab, xR_tab, uxR_tab, fexpe_tab, ufexpe_tab, E_N],\n",
    "                    index=['ftheo', 'xv', 'uxv', 'xR', 'uxR', 'ftot', 'uftot', 'E_N']).T\n",
    "visu_tot"
   ]
  },
  {
   "cell_type": "markdown",
   "metadata": {},
   "source": [
    "# B) 2- Théorème des vergences"
   ]
  },
  {
   "cell_type": "markdown",
   "metadata": {},
   "source": [
    "#### Valeurs"
   ]
  },
  {
   "cell_type": "code",
   "execution_count": null,
   "metadata": {},
   "outputs": [],
   "source": [
    "V1_tab = 8*np.ones(5)\n",
    "V2_list = []\n",
    "V2_tab = np.array(V2_list)\n",
    "\n",
    "Vtot_theo_list = V1_tab+V2_tab\n",
    "Vtot_theo_tab = np.array(Vtot_theo_list)\n",
    "\n",
    "xv_list = []     # cm\n",
    "xR_list = []     # cm\n",
    "\n",
    "xv_tab = np.array(xv_list)\n",
    "xR_tab = np.array(xR_list)\n",
    "\n",
    "# Génération de liste par condition\n",
    "ftot_expe_tab = xR_tab - xv_tab\n",
    "Vtot_expe_tab = 1/ftot_expe_tab"
   ]
  },
  {
   "cell_type": "code",
   "execution_count": null,
   "metadata": {
    "tags": []
   },
   "outputs": [],
   "source": [
    "visu = pd.DataFrame([V1_tab, V2_tab, Vtot_theo_tab, xv_tab, xR_tab, ftot_expe_tab, Vtot_expe_tab],\n",
    "                    index=['V1', 'V2', 'Vtot', 'xv', 'xR', 'ftot', 'Vtot']).T\n",
    "visu"
   ]
  },
  {
   "cell_type": "markdown",
   "metadata": {},
   "source": [
    "#### Incertitudes"
   ]
  },
  {
   "cell_type": "code",
   "execution_count": null,
   "metadata": {
    "tags": []
   },
   "outputs": [],
   "source": [
    "# Il est possible de générer une liste de taille Ndont chaque terme vaut 1 avec np.ones(N), d'où par facilité :\n",
    "uxv_tab = (0.1/np.sqrt(3))*np.ones(len(xv_tab))\n",
    "uxR_tab = []     # cm\n",
    "\n",
    "uftot_expe_tab = np.sqrt(2)*uxv_tab  # cm\n",
    "uVtot_expe_tab = "
   ]
  },
  {
   "cell_type": "code",
   "execution_count": null,
   "metadata": {
    "tags": []
   },
   "outputs": [],
   "source": [
    "visu_incert = pd.DataFrame([uxv_tab, uxR_tab, uftot_expe_tab, uVtot_expe_tab],\n",
    "                    index=['u_xv', 'u_xR', 'u_ftot_expe', 'uVtot_expe']).T\n",
    "visu_incert"
   ]
  },
  {
   "cell_type": "markdown",
   "metadata": {},
   "source": [
    "### Écarts normalisés"
   ]
  },
  {
   "cell_type": "code",
   "execution_count": null,
   "metadata": {},
   "outputs": [],
   "source": [
    "E_N = []\n",
    "E_N"
   ]
  },
  {
   "cell_type": "markdown",
   "metadata": {},
   "source": [
    "### Visualisation complète"
   ]
  },
  {
   "cell_type": "code",
   "execution_count": null,
   "metadata": {},
   "outputs": [],
   "source": [
    "visu_tot = pd.DataFrame([V1_tab, V2_tab, Vtot_theo_tab, xv_tab, uxv_tab, xR_tab, uxR_tab, ftot_expe_tab, uftot_expe_tab, Vtot_expe_tab, uVtot_expe_tab, E_N],\n",
    "                    index=['V1', 'V2', 'Vtot', 'xv', 'uxv', 'xR', 'uxR', 'ftot', 'uftot', 'Vtot', 'uVtot', 'E_N']).T\n",
    "visu_tot"
   ]
  },
  {
   "cell_type": "markdown",
   "metadata": {},
   "source": [
    "## Régression"
   ]
  },
  {
   "cell_type": "code",
   "execution_count": null,
   "metadata": {},
   "outputs": [],
   "source": [
    "X = \n",
    "Y = \n",
    "a, b = np.polyfit(X, Y, 1)\n",
    "print(f\"a = {a:.3f}, b = {b:.3f}\")"
   ]
  },
  {
   "cell_type": "markdown",
   "metadata": {
    "tags": [],
    "user_expressions": []
   },
   "source": [
    "### Tracé pour vérification"
   ]
  },
  {
   "cell_type": "code",
   "execution_count": null,
   "metadata": {},
   "outputs": [],
   "source": [
    "# découpage de l'intervalle pour fonction lisse\n",
    "xliste = np.linspace(min(X), max(X), 100)\n",
    "# Liste des points y_i obtenus par régression\n",
    "yliste = a*xliste+b\n",
    "\n",
    "plt.figure(figsize=(8, 6))\n",
    "plt.grid()\n",
    "plt.xticks(fontsize=15)\n",
    "plt.yticks(fontsize=15)\n",
    "\n",
    "plt.xlabel('$GRANDEUR$ en UNITÉ', fontsize=20)\n",
    "plt.ylabel('$GRANDEUR$ en UNITÉ', fontsize=20)\n",
    "\n",
    "plt.scatter(X, Y, marker=\"+\", s=100, label='Données')\n",
    "plt.plot(xliste, yliste,\n",
    "         'r', label='Régression linéaire')\n",
    "\n",
    "plt.title(\"Vérification du théorème des vergences\",\n",
    "          fontsize=20)\n",
    "plt.legend(fontsize=15)\n",
    "plt.show()"
   ]
  },
  {
   "cell_type": "markdown",
   "metadata": {},
   "source": [
    "#### Monte-Carlo régression"
   ]
  },
  {
   "cell_type": "code",
   "execution_count": null,
   "metadata": {},
   "outputs": [],
   "source": [
    "Delta_X = \n",
    "Delta_Y = \n",
    "\n",
    "N = 100000                  # nombre de régressions à effectuer\n",
    "liste_a, liste_b = [], []  # création des listes vides pour stocker les valeurs\n",
    "for i in range(N):\n",
    "    X_simu = X + np.random.uniform(-Delta_X, Delta_X)\n",
    "    Y_simu = Y + np.random.uniform(-Delta_Y, Delta_Y)\n",
    "\n",
    "    a_simu, b_simu = np.polyfit(X_simu, Y_simu, 1)\n",
    "\n",
    "    liste_a.append(a_simu)\n",
    "    liste_b.append(b_simu)\n",
    "\n",
    "a_moy, b_moy = np.mean(liste_a), np.mean(liste_b)\n",
    "ua, ub = np.std(liste_a, ddof=1), np.std(liste_b, ddof=1)\n",
    "\n",
    "print(f'Coef.directeur = {a_moy:.3e} +- {ua:.3e}')\n",
    "print(f\"Ordonnée à l'origine = {b_moy:.3e} +- {ub:.3e}\")"
   ]
  }
 ],
 "metadata": {
  "kernelspec": {
   "display_name": "Python 3 (ipykernel)",
   "language": "python",
   "name": "python3"
  },
  "language_info": {
   "codemirror_mode": {
    "name": "ipython",
    "version": 3
   },
   "file_extension": ".py",
   "mimetype": "text/x-python",
   "name": "python",
   "nbconvert_exporter": "python",
   "pygments_lexer": "ipython3",
   "version": "3.11.5"
  }
 },
 "nbformat": 4,
 "nbformat_minor": 4
}
