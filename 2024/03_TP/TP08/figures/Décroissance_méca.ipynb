{
 "cells": [
  {
   "cell_type": "markdown",
   "id": "808aef34-baf6-443a-aaa1-ad9d5e0a00df",
   "metadata": {},
   "source": [
    "# Modules à importer"
   ]
  },
  {
   "cell_type": "code",
   "execution_count": 1,
   "id": "aa1b1469-f9c9-4000-84b7-bb89c41c8c79",
   "metadata": {
    "jupyter": {
     "source_hidden": true
    },
    "tags": []
   },
   "outputs": [],
   "source": [
    "import re\n",
    "import glob\n",
    "import math\n",
    "import scipy\n",
    "import pickle\n",
    "import sncosmo\n",
    "import numpy as np\n",
    "import pandas as pd\n",
    "import iminuit as im\n",
    "import ipywidgets as ipw\n",
    "from astropy.io import fits\n",
    "from scipy.stats import poisson\n",
    "from snprop import survey, tools\n",
    "from matplotlib.lines import Line2D\n",
    "from scipy.interpolate import interp1d\n",
    "from matplotlib.patches import Ellipse\n",
    "from IPython.display import display, Latex\n",
    "from sklearn.linear_model import LinearRegression\n",
    "import matplotlib.gridspec as gridspec\n",
    "import matplotlib.ticker as ticker\n",
    "import matplotlib.pyplot as plt\n",
    "plt.rcParams.update({\n",
    "    \"text.usetex\": True,\n",
    "    \"font.family\": \"EB Garamond\",\n",
    "    \"axes.labelsize\": 'x-large',\n",
    "    \"xtick.labelsize\": 'x-large',\n",
    "    \"ytick.labelsize\": 'x-large'})\n",
    "plt.rcParams['figure.facecolor'] = 'w'\n",
    "import random"
   ]
  },
  {
   "cell_type": "code",
   "execution_count": 4,
   "id": "498767a3-d26a-4b85-b161-588ce1e94b26",
   "metadata": {},
   "outputs": [],
   "source": [
    "dec_meca = {'uc_max': [1.95, 1.92, 1.82, 1.59, 1.46, 1.41, 1.33, 1.20, 1.13, 1.12, 1.10, 1.00, 0.95, 0.93, 0.90],\n",
    "        't_max': [0, 0.897, 1.794, 2.691, 3.588, 4.485, 5.382, 6.279, 7.176, 8.073, 8.97, 9.867, 10.764, 11.661, 12.358]}\n",
    "df = pd.DataFrame(dec_meca)"
   ]
  },
  {
   "cell_type": "code",
   "execution_count": 5,
   "id": "577469ea-3e85-44df-9e79-4589a37b2caf",
   "metadata": {},
   "outputs": [
    {
     "data": {
      "text/html": [
       "<div>\n",
       "<style scoped>\n",
       "    .dataframe tbody tr th:only-of-type {\n",
       "        vertical-align: middle;\n",
       "    }\n",
       "\n",
       "    .dataframe tbody tr th {\n",
       "        vertical-align: top;\n",
       "    }\n",
       "\n",
       "    .dataframe thead th {\n",
       "        text-align: right;\n",
       "    }\n",
       "</style>\n",
       "<table border=\"1\" class=\"dataframe\">\n",
       "  <thead>\n",
       "    <tr style=\"text-align: right;\">\n",
       "      <th></th>\n",
       "      <th>uc_max</th>\n",
       "      <th>t_max</th>\n",
       "    </tr>\n",
       "  </thead>\n",
       "  <tbody>\n",
       "    <tr>\n",
       "      <th>0</th>\n",
       "      <td>1.95</td>\n",
       "      <td>0.000</td>\n",
       "    </tr>\n",
       "    <tr>\n",
       "      <th>1</th>\n",
       "      <td>1.92</td>\n",
       "      <td>0.897</td>\n",
       "    </tr>\n",
       "    <tr>\n",
       "      <th>2</th>\n",
       "      <td>1.82</td>\n",
       "      <td>1.794</td>\n",
       "    </tr>\n",
       "    <tr>\n",
       "      <th>3</th>\n",
       "      <td>1.59</td>\n",
       "      <td>2.691</td>\n",
       "    </tr>\n",
       "    <tr>\n",
       "      <th>4</th>\n",
       "      <td>1.46</td>\n",
       "      <td>3.588</td>\n",
       "    </tr>\n",
       "    <tr>\n",
       "      <th>5</th>\n",
       "      <td>1.41</td>\n",
       "      <td>4.485</td>\n",
       "    </tr>\n",
       "    <tr>\n",
       "      <th>6</th>\n",
       "      <td>1.33</td>\n",
       "      <td>5.382</td>\n",
       "    </tr>\n",
       "    <tr>\n",
       "      <th>7</th>\n",
       "      <td>1.20</td>\n",
       "      <td>6.279</td>\n",
       "    </tr>\n",
       "    <tr>\n",
       "      <th>8</th>\n",
       "      <td>1.13</td>\n",
       "      <td>7.176</td>\n",
       "    </tr>\n",
       "    <tr>\n",
       "      <th>9</th>\n",
       "      <td>1.12</td>\n",
       "      <td>8.073</td>\n",
       "    </tr>\n",
       "    <tr>\n",
       "      <th>10</th>\n",
       "      <td>1.10</td>\n",
       "      <td>8.970</td>\n",
       "    </tr>\n",
       "    <tr>\n",
       "      <th>11</th>\n",
       "      <td>1.00</td>\n",
       "      <td>9.867</td>\n",
       "    </tr>\n",
       "    <tr>\n",
       "      <th>12</th>\n",
       "      <td>0.95</td>\n",
       "      <td>10.764</td>\n",
       "    </tr>\n",
       "    <tr>\n",
       "      <th>13</th>\n",
       "      <td>0.93</td>\n",
       "      <td>11.661</td>\n",
       "    </tr>\n",
       "    <tr>\n",
       "      <th>14</th>\n",
       "      <td>0.90</td>\n",
       "      <td>12.358</td>\n",
       "    </tr>\n",
       "  </tbody>\n",
       "</table>\n",
       "</div>"
      ],
      "text/plain": [
       "    uc_max   t_max\n",
       "0     1.95   0.000\n",
       "1     1.92   0.897\n",
       "2     1.82   1.794\n",
       "3     1.59   2.691\n",
       "4     1.46   3.588\n",
       "5     1.41   4.485\n",
       "6     1.33   5.382\n",
       "7     1.20   6.279\n",
       "8     1.13   7.176\n",
       "9     1.12   8.073\n",
       "10    1.10   8.970\n",
       "11    1.00   9.867\n",
       "12    0.95  10.764\n",
       "13    0.93  11.661\n",
       "14    0.90  12.358"
      ]
     },
     "execution_count": 5,
     "metadata": {},
     "output_type": "execute_result"
    }
   ],
   "source": [
    "df"
   ]
  },
  {
   "cell_type": "code",
   "execution_count": 9,
   "id": "7e8344ba-3d0c-415f-bace-d9d946aca6de",
   "metadata": {},
   "outputs": [],
   "source": [
    "t = df['t_max'].values.reshape((-1,1))\n",
    "u = df['uc_max']\n",
    "lnu = np.log(u)\n",
    "model = LinearRegression().fit(t,lnu)\n",
    "r_sq = model.score(t,lnu)\n",
    "a = model.coef_[0]\n",
    "b = model.intercept_"
   ]
  },
  {
   "cell_type": "code",
   "execution_count": null,
   "id": "1f5c3918-fdf6-449a-84ca-568c3535b094",
   "metadata": {},
   "outputs": [],
   "source": [
    "ax.get_ylim()"
   ]
  },
  {
   "cell_type": "code",
   "execution_count": 12,
   "id": "9cc51d73-7ea1-498b-b03e-57e9ec552315",
   "metadata": {},
   "outputs": [
    {
     "data": {
      "image/png": "[encoded data removed]",
      "text/plain": [
       "<Figure size 504x360 with 1 Axes>"
      ]
     },
     "metadata": {},
     "output_type": "display_data"
    }
   ],
   "source": [
    "fig = plt.figure(figsize=[7,5])\n",
    "ax = fig.add_axes([0.1, 0.12, 0.8, 0.8])\n",
    "\n",
    "tlin = np.linspace(0, 14, 500)\n",
    "ax.plot(tlin, a*tlin + b, lw=1.5, color='cornflowerblue',\n",
    "       label=fr'$a = {a:.2e}$\\\\ \\hspace*{{26pt}}$b = {b:.1f}$\\\\ \\hspace*{{8pt}}$r^2 = {r_sq:.5f}$')\n",
    "ax.scatter(t,lnu, marker='+', color='orange', s=100, label='ln')\n",
    "ax.scatter(t,u, marker='+', color='firebrick', s=100, label='raw')\n",
    "\n",
    "# ax.plot([0.0013, 0.0013],\n",
    "#         [ax.get_ylim()[0], a*0.0013+b],\n",
    "#         'firebrick', ls='--', lw=1)\n",
    "# ax.plot([0.0013, 0.001],\n",
    "#         [a*0.0013+b, a*0.0013+b],\n",
    "#         'firebrick', ls='--', lw=1)\n",
    "\n",
    "ax.set_xlim(left=0.001)\n",
    "# ax.set_ylim(bottom=-12)\n",
    "\n",
    "ax.grid(linestyle=':')\n",
    "ax.tick_params(labelsize='xx-large')\n",
    "\n",
    "ax.set_xlabel('$t$ (s)', fontsize=20)\n",
    "ax.set_ylabel('$\\ln(u_{\\max})$', fontsize=20)\n",
    "\n",
    "ax.legend(loc='upper right', fontsize=18)\n",
    "\n",
    "fig.savefig('declog_meca.pdf', bbox_inches='tight')"
   ]
  },
  {
   "cell_type": "code",
   "execution_count": 14,
   "id": "46f26197-3650-45be-b543-345b1ac3cf12",
   "metadata": {},
   "outputs": [
    {
     "name": "stdout",
     "output_type": "stream",
     "text": [
      "$\\lambda = $ 0.0013093352564114635\n"
     ]
    }
   ],
   "source": [
    "m = 200e-3\n",
    "frott = -a*m**2/2\n",
    "print(r'$\\lambda = $', frott)"
   ]
  }
 ],
 "metadata": {
  "kernelspec": {
   "display_name": "Python 3",
   "language": "python",
   "name": "python3"
  },
  "language_info": {
   "codemirror_mode": {
    "name": "ipython",
    "version": 3
   },
   "file_extension": ".py",
   "mimetype": "text/x-python",
   "name": "python",
   "nbconvert_exporter": "python",
   "pygments_lexer": "ipython3",
   "version": "3.7.12"
  }
 },
 "nbformat": 4,
 "nbformat_minor": 5
}
