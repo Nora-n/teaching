{
 "cells": [
  {
   "cell_type": "markdown",
   "id": "1cc3c313-c429-4c1e-b835-d049898e99e2",
   "metadata": {},
   "source": [
    "### Importations"
   ]
  },
  {
   "cell_type": "code",
   "execution_count": 17,
   "id": "c9742208-4ca2-4f95-875b-56588d2efd4d",
   "metadata": {
    "tags": []
   },
   "outputs": [],
   "source": [
    "import numpy as np              # pour les tableaux\n",
    "import matplotlib.pyplot as plt # pour les graphiques\n",
    "import pandas as pd             # pour visualiser les données"
   ]
  },
  {
   "cell_type": "markdown",
   "id": "0428b542-a451-4a44-9892-821ac1e6d944",
   "metadata": {},
   "source": [
    "# IV/A)2- Décroissance exponentielle"
   ]
  },
  {
   "cell_type": "markdown",
   "id": "d8362260-4e73-4468-96ac-ceb4b93428d4",
   "metadata": {},
   "source": [
    "## Valeurs théoriques"
   ]
  },
  {
   "cell_type": "code",
   "execution_count": 30,
   "id": "295b512a-3e69-421c-a399-520dd43dbbdf",
   "metadata": {
    "tags": []
   },
   "outputs": [
    {
     "name": "stdout",
     "output_type": "stream",
     "text": [
      "T_theo = 1.99e-04 s\n",
      "Q_theo = 31.62\n"
     ]
    }
   ],
   "source": [
    "L = 0.1     # H\n",
    "C = 0.01e-6 # F\n",
    "R = 100     # Ohm\n",
    "Ttheo = 2*np.pi*np.sqrt(L*C)\n",
    "print(f'T_theo = {Ttheo:.2e} s')\n",
    "Qtheo = 1/R*np.sqrt(L/C)\n",
    "print(f'Q_theo = {Qtheo:.2f}')"
   ]
  },
  {
   "cell_type": "markdown",
   "id": "4b43fb19-1742-4adb-b6a6-3e6cdeb6e8f0",
   "metadata": {},
   "source": [
    "## Étape 1)"
   ]
  },
  {
   "cell_type": "code",
   "execution_count": 20,
   "id": "07085809-34f2-41aa-bf3a-91d5601762bf",
   "metadata": {
    "tags": []
   },
   "outputs": [],
   "source": [
    "uinf = 0         # V\n",
    "\n",
    "Texp = 2e-4      # s\n",
    "n = np.array([k for k in range(5)])\n",
    "nT = Texp*n\n",
    "\n",
    "uCmax = [\n",
    "    3,\n",
    "    2,\n",
    "    1,\n",
    "    0.75,\n",
    "    0.5\n",
    "]"
   ]
  },
  {
   "cell_type": "markdown",
   "id": "1ceaac1f-db18-4fcb-beac-048263baf139",
   "metadata": {},
   "source": [
    "## Étape 2)"
   ]
  },
  {
   "cell_type": "code",
   "execution_count": 21,
   "id": "a6cb355a-6b5d-46aa-bdbc-a7989ba097b6",
   "metadata": {
    "tags": []
   },
   "outputs": [],
   "source": [
    "delta_list = np.log(\n",
    "    [(uCmax[i]-uinf)/(uCmax[i+1]-uinf)\n",
    "     for i in range(len(uCmax)-1)]\n",
    ")"
   ]
  },
  {
   "cell_type": "code",
   "execution_count": 22,
   "id": "f5cebbe4-aa63-4107-8dd6-1ed0a5c48cdf",
   "metadata": {
    "tags": []
   },
   "outputs": [
    {
     "data": {
      "text/html": [
       "<div>\n",
       "<style scoped>\n",
       "    .dataframe tbody tr th:only-of-type {\n",
       "        vertical-align: middle;\n",
       "    }\n",
       "\n",
       "    .dataframe tbody tr th {\n",
       "        vertical-align: top;\n",
       "    }\n",
       "\n",
       "    .dataframe thead th {\n",
       "        text-align: right;\n",
       "    }\n",
       "</style>\n",
       "<table border=\"1\" class=\"dataframe\">\n",
       "  <thead>\n",
       "    <tr style=\"text-align: right;\">\n",
       "      <th></th>\n",
       "      <th>n</th>\n",
       "      <th>nT</th>\n",
       "      <th>uCmax</th>\n",
       "      <th>delta</th>\n",
       "    </tr>\n",
       "  </thead>\n",
       "  <tbody>\n",
       "    <tr>\n",
       "      <th>0</th>\n",
       "      <td>0.0</td>\n",
       "      <td>0.0000</td>\n",
       "      <td>3.00</td>\n",
       "      <td>0.405465</td>\n",
       "    </tr>\n",
       "    <tr>\n",
       "      <th>1</th>\n",
       "      <td>1.0</td>\n",
       "      <td>0.0002</td>\n",
       "      <td>2.00</td>\n",
       "      <td>0.693147</td>\n",
       "    </tr>\n",
       "    <tr>\n",
       "      <th>2</th>\n",
       "      <td>2.0</td>\n",
       "      <td>0.0004</td>\n",
       "      <td>1.00</td>\n",
       "      <td>0.287682</td>\n",
       "    </tr>\n",
       "    <tr>\n",
       "      <th>3</th>\n",
       "      <td>3.0</td>\n",
       "      <td>0.0006</td>\n",
       "      <td>0.75</td>\n",
       "      <td>0.405465</td>\n",
       "    </tr>\n",
       "    <tr>\n",
       "      <th>4</th>\n",
       "      <td>4.0</td>\n",
       "      <td>0.0008</td>\n",
       "      <td>0.50</td>\n",
       "      <td>NaN</td>\n",
       "    </tr>\n",
       "  </tbody>\n",
       "</table>\n",
       "</div>"
      ],
      "text/plain": [
       "     n      nT  uCmax     delta\n",
       "0  0.0  0.0000   3.00  0.405465\n",
       "1  1.0  0.0002   2.00  0.693147\n",
       "2  2.0  0.0004   1.00  0.287682\n",
       "3  3.0  0.0006   0.75  0.405465\n",
       "4  4.0  0.0008   0.50       NaN"
      ]
     },
     "execution_count": 22,
     "metadata": {},
     "output_type": "execute_result"
    }
   ],
   "source": [
    "visu = pd.DataFrame([n, nT, uCmax, delta_list],\n",
    "                    index=['n', 'nT', 'uCmax', 'delta']).T\n",
    "visu"
   ]
  },
  {
   "cell_type": "markdown",
   "id": "1b8a01e2-af1d-4a9f-a93e-1daea7d449ef",
   "metadata": {
    "tags": [],
    "user_expressions": []
   },
   "source": [
    "## Étape 3)"
   ]
  },
  {
   "cell_type": "markdown",
   "id": "b56a9813-296f-4c3e-9d4d-1014805f42f1",
   "metadata": {},
   "source": [
    "### Création de la variable"
   ]
  },
  {
   "cell_type": "code",
   "execution_count": 25,
   "id": "ec06aa57-431b-48b4-a6d9-02c46b7aa87d",
   "metadata": {
    "tags": []
   },
   "outputs": [
    {
     "data": {
      "text/plain": [
       "array([0.        , 0.69314718, 0.57536414, 1.21639532])"
      ]
     },
     "execution_count": 25,
     "metadata": {},
     "output_type": "execute_result"
    }
   ],
   "source": [
    "ndelta = n[:-1]*delta_list\n",
    "ndelta"
   ]
  },
  {
   "cell_type": "markdown",
   "id": "970f0b12-8bf0-4ae6-a224-cd7cc852c520",
   "metadata": {},
   "source": [
    "### Calcul de la régression"
   ]
  },
  {
   "cell_type": "code",
   "execution_count": 27,
   "id": "c9999a3e-0b87-4637-85a3-ce24d1dc7d3e",
   "metadata": {
    "tags": []
   },
   "outputs": [
    {
     "name": "stdout",
     "output_type": "stream",
     "text": [
      "a = 1765.701, b = 0.092\n"
     ]
    }
   ],
   "source": [
    "X = nT[:-1]\n",
    "Y = ndelta\n",
    "a, b = np.polyfit(X, Y, 1)\n",
    "print(f\"a = {a:.3f}, b = {b:.3f}\")\n"
   ]
  },
  {
   "cell_type": "markdown",
   "id": "895657e1-0c8c-494b-9609-e7b086a97bad",
   "metadata": {
    "tags": [],
    "user_expressions": []
   },
   "source": [
    "### Tracé pour vérification"
   ]
  },
  {
   "cell_type": "code",
   "execution_count": 28,
   "id": "1f6a8b2d-46ff-4610-b950-df95f2fe921e",
   "metadata": {
    "tags": []
   },
   "outputs": [
    {
     "data": {
      "image/png": "[encoded data removed]",
      "text/plain": [
       "<Figure size 800x600 with 1 Axes>"
      ]
     },
     "metadata": {},
     "output_type": "display_data"
    }
   ],
   "source": [
    "# découpage de l'intervalle pour fonction lisse\n",
    "xliste = np.linspace(min(X), max(X), 100)\n",
    "# Liste des points y_i obtenus par régression\n",
    "yliste = a*xliste+b\n",
    "\n",
    "plt.figure(figsize=(8, 6))\n",
    "plt.grid()\n",
    "plt.xticks(fontsize=15)\n",
    "plt.yticks(fontsize=15)\n",
    "\n",
    "plt.xlabel('$GRANDEUR$ en UNITÉ', fontsize=20)\n",
    "plt.ylabel('$GRANDEUR$ en UNITÉ', fontsize=20)\n",
    "\n",
    "plt.scatter(X, Y, marker=\"+\", s=100, label='Données')\n",
    "plt.plot(xliste, yliste,\n",
    "         'r', label='Régression linéaire')\n",
    "\n",
    "plt.title(\"TITRE\",\n",
    "          fontsize=20)\n",
    "plt.legend(fontsize=15)\n",
    "plt.show()"
   ]
  },
  {
   "cell_type": "markdown",
   "id": "6a03fdb1-9a16-4485-85f9-f4585e44d1d8",
   "metadata": {},
   "source": [
    "## Question 3"
   ]
  },
  {
   "cell_type": "code",
   "execution_count": 33,
   "id": "d4156c5a-511e-419d-8001-261e5766756c",
   "metadata": {
    "tags": []
   },
   "outputs": [
    {
     "name": "stdout",
     "output_type": "stream",
     "text": [
      "Qexp = 8.90\n",
      "e_r = 71.87 %\n"
     ]
    }
   ],
   "source": [
    "Qexp = (np.pi)/(a*Texp)\n",
    "print(f'Qexp = {Qexp:.2f}')\n",
    "er = np.abs(Qexp-Qtheo)/(Qtheo)\n",
    "print(f'e_r = {100*er:.2f} %')"
   ]
  },
  {
   "cell_type": "markdown",
   "id": "00ca7fe4-c656-4065-88cc-3e50629353da",
   "metadata": {},
   "source": [
    "J'en conclue que…"
   ]
  }
 ],
 "metadata": {
  "kernelspec": {
   "display_name": "Python 3 (ipykernel)",
   "language": "python",
   "name": "python3"
  },
  "language_info": {
   "codemirror_mode": {
    "name": "ipython",
    "version": 3
   },
   "file_extension": ".py",
   "mimetype": "text/x-python",
   "name": "python",
   "nbconvert_exporter": "python",
   "pygments_lexer": "ipython3",
   "version": "3.11.5"
  }
 },
 "nbformat": 4,
 "nbformat_minor": 5
}
